{
 "cells": [
  {
   "cell_type": "markdown",
   "id": "f243b724-82ce-4c9b-a2c0-3b6783620086",
   "metadata": {},
   "source": [
    "# Week 2. Problem set\n",
    "\n",
    "## Evgeny Bobkunov SD-03 e.bobkunov@innopolis.university"
   ]
  },
  {
   "cell_type": "markdown",
   "id": "3538d121-46df-4d6f-9346-1dc2ccc30b62",
   "metadata": {},
   "source": [
    "### 1. Implement the following functions over lists of symbols in Racket using **explicit recursion** (i.e. without using higher-order functions like apply, map, andmap, ormap, filter, and foldl). Each function must be implemented independently. Use tail recursion whenever it helps produce a more efficient implementation:"
   ]
  },
  {
   "cell_type": "markdown",
   "id": "9a46cec8-2df9-4068-8a3a-03846d2ec408",
   "metadata": {},
   "source": [
    "#### (a) Find the most frequent symbol in a list (return the first one when ambiguous):\n",
    "\n",
    "\n",
    "```racket\n",
    "(most-frequent '(h e l l o w o r l d)) ; ==> 'l\n",
    "```"
   ]
  },
  {
   "cell_type": "code",
   "execution_count": 56,
   "id": "7dca7966-f0b9-477c-90bc-fa358ce867f8",
   "metadata": {},
   "outputs": [
    {
     "name": "stdout",
     "output_type": "stream",
     "text": [
      "l"
     ]
    }
   ],
   "source": [
    "(define (most-frequent lst)\n",
    "  (define (count-occurrences lst)\n",
    "    (define (count-helper lst acc)\n",
    "      (if (null? lst)\n",
    "          acc\n",
    "          (count-helper (cdr lst)\n",
    "                        (hash-update acc (car lst) add1 0))))\n",
    "    (count-helper lst (hash)))\n",
    "  \n",
    "  (define (find-most-frequent counts)\n",
    "    (define (find-helper lst max-sym max-count)\n",
    "      (if (null? lst)\n",
    "          max-sym\n",
    "          (let* ([current-sym (car lst)]\n",
    "                 [current-count (hash-ref counts current-sym)])\n",
    "            (if (> current-count max-count)\n",
    "                (find-helper (cdr lst) current-sym current-count)\n",
    "                (find-helper (cdr lst) max-sym max-count)))))\n",
    "    (find-helper (hash-keys counts) (car lst) (hash-ref counts (car lst))))\n",
    "  \n",
    "  (if (null? lst)\n",
    "      #f\n",
    "      (find-most-frequent (count-occurrences lst))))\n",
    "\n",
    "(display (most-frequent '(h e l l o w o r l d)))"
   ]
  },
  {
   "cell_type": "markdown",
   "id": "3fd272f9-80f5-437d-b78a-374743e0a71e",
   "metadata": {},
   "source": [
    "#### (b) Annotate each symbol in a list with its occurrence in the list:\n",
    "\n",
    "```\n",
    "(annotate-occurrence '(h e l l o w o r l d))\n",
    "; ==> '((h 1) (e 1) (l 1) (l 2) (o 1) (w 1) (o 2) (r 1) (l 3) (d 1))\n",
    "```"
   ]
  },
  {
   "cell_type": "code",
   "execution_count": 61,
   "id": "c3bc1236-9a71-4d84-bdeb-384e86123dc5",
   "metadata": {},
   "outputs": [
    {
     "name": "stdout",
     "output_type": "stream",
     "text": [
      "((h 1) (e 1) (l 1) (l 2) (o 1) (w 1) (o 2) (r 1) (l 3) (d 1))"
     ]
    }
   ],
   "source": [
    "(define (annotate-occurrence lst)\n",
    "  (define (annotate-helper lst counts result)\n",
    "    (if (null? lst)\n",
    "        (reverse result)\n",
    "        (let* ([current-sym (car lst)]\n",
    "               [current-count (hash-ref counts current-sym 0)]\n",
    "               [new-count (add1 current-count)]\n",
    "               [new-counts (hash-set counts current-sym new-count)]\n",
    "               [annotated-pair (list current-sym new-count)])\n",
    "          (annotate-helper (cdr lst) new-counts (cons annotated-pair result)))))\n",
    "  \n",
    "  (annotate-helper lst (hash) '()))\n",
    "\n",
    "(display (annotate-occurrence '(h e l l o w o r l d)))"
   ]
  },
  {
   "cell_type": "markdown",
   "id": "c06eb947-40df-4680-ac79-3fe583d42dc5",
   "metadata": {},
   "source": [
    "#### (c) Convert a trinary string represented as a list of 0s, 1s, and 2s into a (decimal) number:\n",
    "\n",
    "```\n",
    "trinary-to-decimal '(1 0 2 1 0)) ; ==> 102\n",
    "```"
   ]
  },
  {
   "cell_type": "code",
   "execution_count": 63,
   "id": "b514a392-7d95-4e32-8fcd-30f53c22b15d",
   "metadata": {},
   "outputs": [
    {
     "name": "stdout",
     "output_type": "stream",
     "text": [
      "102"
     ]
    }
   ],
   "source": [
    "(define (trinary-to-decimal lst)\n",
    "  (define (convert-helper lst acc)\n",
    "    (if (null? lst)\n",
    "        acc\n",
    "        (convert-helper (cdr lst) \n",
    "                        (+ (* 3 acc) (car lst)))))\n",
    "  \n",
    "  (convert-helper lst 0))\n",
    "\n",
    "(display (trinary-to-decimal '(1 0 2 1 0)))"
   ]
  },
  {
   "cell_type": "markdown",
   "id": "c75bb664-83d1-4500-9cb6-f247559ac9f6",
   "metadata": {},
   "source": [
    "#### (d) Return the 3rd to last symbol in a list (you may assume it has enough symbols):\n",
    "\n",
    "```\n",
    "(third-to-last '(1 1 1 0 1 1)) ; ==> 0\n",
    "(third-to-last '(s y m b o l)) ; ==> 'b\n",
    "```"
   ]
  },
  {
   "cell_type": "code",
   "execution_count": 67,
   "id": "9b58e674-8013-4f23-98e3-d02f827fe1bf",
   "metadata": {},
   "outputs": [
    {
     "name": "stdout",
     "output_type": "stream",
     "text": [
      "0\n",
      "b"
     ]
    }
   ],
   "source": [
    "(define (third-to-last lst)\n",
    "  (define (find-third-to-last lst)\n",
    "    (if (= (length lst) 3)\n",
    "        (car lst)\n",
    "        (find-third-to-last (cdr lst))))\n",
    "  \n",
    "  (if (< (length lst) 3)\n",
    "      (error \"List must have at least 3 elements\")\n",
    "      (find-third-to-last lst)))\n",
    "\n",
    "(display (third-to-last '(1 1 1 0 1 1)))\n",
    "(newline)\n",
    "(display (third-to-last '(s y m b o l)))"
   ]
  },
  {
   "cell_type": "markdown",
   "id": "f52379ab-dc63-47a6-99c2-695bedaab9dc",
   "metadata": {},
   "source": [
    "#### (e) Decrement a binary number. Decrementing zero should produce zero:\n",
    "\n",
    "```\n",
    "(decrement '(1 0 1 1 0)) ; ==> '(1 0 1 0 1)\n",
    "(decrement '(1 0 0 0 0)) ; ==> '(1 1 1 1)\n",
    "(decrement '(0)) ; ==> '(0)\n",
    "```"
   ]
  },
  {
   "cell_type": "code",
   "execution_count": 69,
   "id": "2c92cd7f-8836-4c1d-bc9a-4c1f6ffce82a",
   "metadata": {},
   "outputs": [
    {
     "name": "stdout",
     "output_type": "stream",
     "text": [
      "(1 0 1 0 1)\n",
      "(1 1 1 1)\n",
      "(0)"
     ]
    }
   ],
   "source": [
    "(define (decrement binary-list)\n",
    "  (define (decrement-helper lst carry)\n",
    "    (cond\n",
    "      [(null? lst) '()]\n",
    "      [(= carry 1)\n",
    "       (if (= (car lst) 0)\n",
    "           (cons 1 (decrement-helper (cdr lst) 1))\n",
    "           (cons 0 (decrement-helper (cdr lst) 0)))]\n",
    "      [else (cons (car lst) (decrement-helper (cdr lst) 0))]))\n",
    "\n",
    "  (define (remove-leading-zeros lst)\n",
    "    (cond\n",
    "      [(null? lst) '(0)]\n",
    "      [(and (= (car lst) 0) (not (null? (cdr lst)))) (remove-leading-zeros (cdr lst))]\n",
    "      [else lst]))\n",
    "\n",
    "  (if (equal? binary-list '(0))\n",
    "      '(0)\n",
    "      (remove-leading-zeros (reverse (decrement-helper (reverse binary-list) 1)))))\n",
    "\n",
    "(display (decrement '(1 0 1 1 0)))\n",
    "(newline)\n",
    "(display (decrement '(1 0 0 0 0)))\n",
    "(newline)\n",
    "(display (decrement '(0)))"
   ]
  },
  {
   "cell_type": "markdown",
   "id": "55e0350f-f927-4cfc-af19-2c251cfd39cc",
   "metadata": {},
   "source": [
    "### 2. Implement in Racket a function `max-and-sum` that computes a maximum and a sum of a list of numbers. For example, ```(max-and-sum (list 6 2 4 1))``` should compute `'(6 13)`."
   ]
  },
  {
   "cell_type": "markdown",
   "id": "66fad4da-c001-4f17-a7ca-d28d75bea881",
   "metadata": {},
   "source": [
    "#### (a) Implement `max-and-sum` using explicit recursion (i.e. **without** higher-order functions)."
   ]
  },
  {
   "cell_type": "code",
   "execution_count": 75,
   "id": "5038e965-dd0f-4c14-98a9-2c80be8c5027",
   "metadata": {},
   "outputs": [
    {
     "name": "stdout",
     "output_type": "stream",
     "text": [
      "(6 13)"
     ]
    }
   ],
   "source": [
    "(define (max-and-sum lst)\n",
    "  (if (null? lst)\n",
    "      (list 0 0)  ; Base case: empty list returns (0 0)\n",
    "      (let* ([rest-result (max-and-sum (cdr lst))]\n",
    "             [current-max (car rest-result)]\n",
    "             [current-sum (cadr rest-result)]\n",
    "             [new-max (max (car lst) current-max)]\n",
    "             [new-sum (+ (car lst) current-sum)])\n",
    "        (list new-max new-sum))))\n",
    "\n",
    "(display (max-and-sum (list 6 2 4 1)))"
   ]
  },
  {
   "cell_type": "markdown",
   "id": "37724ef4-2ec1-4ad7-9b12-0dd7c557dfda",
   "metadata": {},
   "source": [
    "#### (b) Use the *Substitution Model* to verify that ```(second (max-and-sum (list x y z)))``` is equal to ```(+ x y z)``` for all `x`, `y`, and `z`."
   ]
  },
  {
   "cell_type": "markdown",
   "id": "9127ec4c-9242-4337-a53b-2e0873cdc17e",
   "metadata": {},
   "source": [
    "Substitution steps:\n",
    "\n",
    "```racket\n",
    "(second (max-and-sum (list x y z)))\n",
    "(second (let* ([rest-result (max-and-sum (list y z))]\n",
    "               [current-max (car rest-result)]\n",
    "               [current-sum (cadr rest-result)]\n",
    "               [new-max (max x current-max)]\n",
    "               [new-sum (+ x current-sum)])\n",
    "          (list new-max new-sum)))\n",
    "```\n",
    "\n",
    "Now, let's expand ```(max-and-sum (list y z))```:\n",
    "\n",
    "```racket\n",
    "(second (let* ([rest-result (let* ([inner-rest-result (max-and-sum (list z))]\n",
    "                                   [inner-current-max (car inner-rest-result)]\n",
    "                                   [inner-current-sum (cadr inner-rest-result)]\n",
    "                                   [inner-new-max (max y inner-current-max)]\n",
    "                                   [inner-new-sum (+ y inner-current-sum)])\n",
    "                              (list inner-new-max inner-new-sum))]\n",
    "               [current-max (car rest-result)]\n",
    "               [current-sum (cadr rest-result)]\n",
    "               [new-max (max x current-max)]\n",
    "               [new-sum (+ x current-sum)])\n",
    "          (list new-max new-sum)))\n",
    "```\n",
    "\n",
    "Expanding ```(max-and-sum (list z))```:\n",
    "\n",
    "```racket\n",
    "(second (let* ([rest-result (let* ([inner-rest-result (let* ([innermost-rest-result (max-and-sum '())]\n",
    "                                                             [innermost-current-max (car innermost-rest-result)]\n",
    "                                                             [innermost-current-sum (cadr innermost-rest-result)]\n",
    "                                                             [innermost-new-max (max z innermost-current-max)]\n",
    "                                                             [innermost-new-sum (+ z innermost-current-sum)])\n",
    "                                                        (list innermost-new-max innermost-new-sum))]\n",
    "                                   [inner-current-max (car inner-rest-result)]\n",
    "                                   [inner-current-sum (cadr inner-rest-result)]\n",
    "                                   [inner-new-max (max y inner-current-max)]\n",
    "                                   [inner-new-sum (+ y inner-current-sum)])\n",
    "                              (list inner-new-max inner-new-sum))]\n",
    "               [current-max (car rest-result)]\n",
    "               [current-sum (cadr rest-result)]\n",
    "               [new-max (max x current-max)]\n",
    "               [new-sum (+ x current-sum)])\n",
    "          (list new-max new-sum)))\n",
    "```\n",
    "\n",
    "Now, `(max-and-sum '())` returns `(0 0)`. Substituting and simplifying:\n",
    "\n",
    "```racket\n",
    "(second (let* ([rest-result (let* ([inner-rest-result (list (max z 0) (+ z 0))]\n",
    "                                   [inner-current-max (max z 0)]\n",
    "                                   [inner-current-sum (+ z 0)]\n",
    "                                   [inner-new-max (max y (max z 0))]\n",
    "                                   [inner-new-sum (+ y z)])\n",
    "                              (list inner-new-max inner-new-sum))]\n",
    "               [current-max (max y (max z 0))]\n",
    "               [current-sum (+ y z)]\n",
    "               [new-max (max x (max y (max z 0)))]\n",
    "               [new-sum (+ x (+ y z))])\n",
    "          (list new-max new-sum)))\n",
    "```\n",
    "\n",
    "Finally, we obtain:\n",
    "\n",
    "```racket\n",
    "(second (list (max x (max y (max z 0))) (+ x (+ y z))))\n",
    "(+ x (+ y z))\n",
    "```\n",
    "\n",
    "Which is equivalent to `(+ x y z)`, as required."
   ]
  },
  {
   "cell_type": "markdown",
   "id": "d67a40a0-82f8-4aa2-a3c0-22c79ad7fc06",
   "metadata": {},
   "source": [
    "#### (c) Argue whether tail recursion can be used to optimize your implementation."
   ]
  },
  {
   "cell_type": "markdown",
   "id": "25a3118b-ba38-468a-9892-7118eff02bcf",
   "metadata": {},
   "source": [
    "Tail recursion can be used to optimize the implementation by passing along **accumulators** that keep track of the maximum and sum as the recursion progresses. Instead of computing the maximum and sum after the recursive call returns, we can keep updating these values as we make the recursive call.\n",
    "\n",
    "To implement this, we can introduce a helper function `max-and-sum-helper` that carries two accumulators: `current-max` and `current-sum`.\n",
    "\n",
    "- As we recurse through the list, we update these accumulators directly, passing them to the next recursive call.\n",
    "\n",
    "- When we reach the base case (an empty list), we return the accumulated values as the result.\n",
    "\n",
    "By making this tail-recursive transformation, the function could handle larger lists without consuming additional stack space."
   ]
  },
  {
   "cell_type": "markdown",
   "id": "c62bea9d-e989-4624-a65d-351604764869",
   "metadata": {},
   "source": [
    "### 3. Consider the following definitions in Racket:\n",
    "\n",
    "```racket\n",
    "(define (dinc n) (+ n 2))\n",
    "\n",
    "(define (f n)\n",
    "    (cond\n",
    "        [(>= n 10) (- n 10)]\n",
    "        [else (* (f (dinc (dinc n))) (f (dinc n)))]))\n",
    "```\n",
    "\n",
    "Using the *Substitution Model*, explain step-by-step how the following expression is\n",
    "computed (you can evaluate cond-expressions immediately, but evaluation of function calls to `f`\n",
    "and `dinc` have to be explicit):\n",
    "    `(f 3)`"
   ]
  },
  {
   "cell_type": "markdown",
   "id": "abc7d1a9-af4f-4827-b508-cc1167f2d5d2",
   "metadata": {},
   "source": [
    "#### **Solution**:\n",
    "\n",
    "#### Step 1.\n",
    "\n",
    "```\n",
    "(define (f 3)\n",
    "    (cond\n",
    "        [(>= 3 10) (- 3 10)]\n",
    "        [else (* (f (dinc (dinc 3))) (f (dinc 3)))]))\n",
    "```\n",
    "\n",
    "Since 3 is less than 10, we evaluate the `else` branch in the `cond` expression:\n",
    "`(* (f (dinc (dinc 3))) (f (dinc 3)))`\n",
    "\n",
    "We now have two recursive calls to `f` to evaluate: `(f (dinc (dinc 3)))` and `(f (dinc 3))`\n",
    "\n",
    "#### Step 2.\n",
    "\n",
    "First, evaluate the `dinc` expression:\n",
    "```\n",
    "(dinc 3) (+ 3 2)\n",
    "(dinc 3) (5)\n",
    "```\n",
    "\n",
    "And `(dinc (dinc 3))` is the same as `(dinc (+ 3 2))` and equals `(dinc 5)`\n",
    "\n",
    "Meanwhile `(dinc 5)` is `(+ 5 2)` which is 7\n",
    "\n",
    "So now we have:\n",
    "\n",
    "`(* (f 7) (f 5))`\n",
    "\n",
    "#### Step 3.\n",
    "\n",
    "Evaluating `(f 7)` and `(f 5)`\n",
    "\n",
    "##### 1. Evaluating `(f 7)`\n",
    "\n",
    "   Since 7 is less than 10, we evaluate the `else` branch:\n",
    "\n",
    "   `(* (f (dinc (dinc 7))) (f (dinc 7)))`\n",
    "\n",
    "   Now, evaluate the `dinc` expressions, like in Step 2:\n",
    "\n",
    "   - `(dinc 7)` is `(+ 7 2)` = 9\n",
    "\n",
    "   - `(dinc (dinc 7))` is `(dinc (+ 7 2))` is `(dinc 9)` and it equals 11\n",
    "\n",
    "   Thus, we get: `(* (f 11) (f 9))` is our `(f 7)`\n",
    "\n",
    "##### 2. Evaluating `(f 5)`\n",
    "\n",
    "   Since 5 is less than 10, we evaluate the `else` branch:\n",
    "\n",
    "   `(* (f (dinc (dinc 5))) (f (dinc 5)))`\n",
    "\n",
    "   Now, evaluate the `dinc` expressions:\n",
    "\n",
    "   We already know from Step 2. that `(dinc 5)` is 7\n",
    "\n",
    "   And `(dinc (dinc 5))` would be `(dinc 7)` which is 9 (evaluated in Step 3.1)\n",
    "\n",
    "   Thus, we obtain `(* (f 9) (f 7))` for `(f 5)`\n",
    "\n",
    "#### Step 4.\n",
    "\n",
    "Evaluating the recursive calls to `f`\n",
    "\n",
    "##### 1. Evaluating `(f 11)`\n",
    "\n",
    "Since 11 > 10, we return 11 - 10 = 1: `(>= 11 10) (- 11 10)` is 1\n",
    "\n",
    "##### 2. Evaluating `(f 9)`\n",
    "\n",
    "Since 9 is less than 10, we evaluate the `else` branch:\n",
    "\n",
    "`(* (f (dinc (dinc 9))) (f (dinc 9)))`\n",
    "\n",
    "Now, evaluate the `dinc` expressions:\n",
    "\n",
    "- `(dinc 9)` is 11 (Evaluated in Step 3.1)\n",
    "\n",
    "- `(dinc (dinc 9))` is `(dinc 11)` is `(dinc (+ 11 2))` is 13\n",
    "\n",
    "Thus, we get:\n",
    "\n",
    "`(f 9)` is `(* (f 13) (f 11))`\n",
    "\n",
    "- Evaluating `(f 13)`\n",
    "\n",
    "  Since 13 >= 10, we return 13 - 10 = 3: `(>= 13 10) (- 13 10)` is 3\n",
    "\n",
    "- Evaluating `(f 11)` (as before)\n",
    "\n",
    "  `(f 11) = 1`\n",
    "\n",
    "So, `(f 9)` is the same as `(* 3 1) = 3`\n",
    "\n",
    "Now let's substitute back:\n",
    "\n",
    "##### 3. Substituting into `(f 7)`\n",
    "\n",
    "`(f 7) = (* (f 11) (f 9)) = (* 1 3) = 3`\n",
    "\n",
    "##### 4. Substituting into `(f 5)`\n",
    "\n",
    "`(f 5) = (* (f 9) (f 7)) = (* 3 3) = 9`\n",
    "\n",
    "#### Step 5.\n",
    "\n",
    "Now that we have the results for `(f 7)` and `(f 5)`\n",
    "\n",
    "Since `(f 3)` is `(* (f 7) (f 5))` (From Step 2.) we substitute:\n",
    "\n",
    "`(f 3) = (* (f 7) (f 5)) = (* 3 9) = 27`\n",
    "\n",
    "#### **Final Result**:\n",
    "\n",
    "`(f 3)` is **27**"
   ]
  }
 ],
 "metadata": {
  "kernelspec": {
   "display_name": "Racket",
   "language": "racket",
   "name": "racket"
  },
  "language_info": {
   "codemirror_mode": "scheme",
   "file_extension": ".rkt",
   "mimetype": "text/x-racket",
   "name": "Racket",
   "pygments_lexer": "racket",
   "version": "8.14"
  }
 },
 "nbformat": 4,
 "nbformat_minor": 5
}
