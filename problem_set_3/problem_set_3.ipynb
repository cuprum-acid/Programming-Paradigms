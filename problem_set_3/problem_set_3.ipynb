{
 "cells": [
  {
   "cell_type": "markdown",
   "id": "f243b724-82ce-4c9b-a2c0-3b6783620086",
   "metadata": {},
   "source": [
    "# Week 3. Problem set\n",
    "\n",
    "## Evgeny Bobkunov SD-03 e.bobkunov@innopolis.university"
   ]
  },
  {
   "cell_type": "markdown",
   "id": "3538d121-46df-4d6f-9346-1dc2ccc30b62",
   "metadata": {},
   "source": [
    "### 1. Implement the following functions in Racket using higher-order functions (`apply`, `map`, `andmap`, `ormap`, `filter`, `foldl`) and **without explicit recursion**."
   ]
  },
  {
   "cell_type": "markdown",
   "id": "9a46cec8-2df9-4068-8a3a-03846d2ec408",
   "metadata": {},
   "source": [
    "#### (a) Find the most frequent symbol in a list (return the first one when ambiguous):\n",
    "\n",
    "\n",
    "```racket\n",
    "(most-frequent '(h e l l o w o r l d)) ; ==> 'l\n",
    "```"
   ]
  },
  {
   "cell_type": "code",
   "execution_count": 54,
   "id": "7dca7966-f0b9-477c-90bc-fa358ce867f8",
   "metadata": {},
   "outputs": [
    {
     "data": {
      "text/html": [
       "<code>'l</code>"
      ],
      "text/plain": [
       "'l"
      ]
     },
     "execution_count": 54,
     "metadata": {},
     "output_type": "execute_result"
    }
   ],
   "source": [
    "(define (most-frequent lst)\n",
    "  (define freq-alist\n",
    "    (foldl (lambda (sym acc)\n",
    "             (if (assoc sym acc)\n",
    "                 (let* ((current-count (cdr (assoc sym acc))))\n",
    "                   (map (lambda (pair)\n",
    "                          (if (eq? (car pair) sym)\n",
    "                              (cons sym (+ current-count 1))\n",
    "                              pair))\n",
    "                        acc))\n",
    "                 (cons (cons sym 1) acc)))\n",
    "           '()\n",
    "           lst))\n",
    "\n",
    "  (define (compare-freq pair1 pair2)\n",
    "    (if (> (cdr pair1) (cdr pair2)) pair1 pair2))\n",
    "\n",
    "  (car (foldl compare-freq (car freq-alist) (cdr freq-alist))))\n",
    "\n",
    "\n",
    "(most-frequent '(h e l l o w o r l d))\n"
   ]
  },
  {
   "cell_type": "markdown",
   "id": "3fd272f9-80f5-437d-b78a-374743e0a71e",
   "metadata": {},
   "source": [
    "#### (b) Annotate each symbol in a list with its occurrence in the list:\n",
    "\n",
    "```\n",
    "(annotate-occurrence '(h e l l o w o r l d))\n",
    "; ==> '((h 1) (e 1) (l 1) (l 2) (o 1) (w 1) (o 2) (r 1) (l 3) (d 1))\n",
    "```"
   ]
  },
  {
   "cell_type": "code",
   "execution_count": 57,
   "id": "c3bc1236-9a71-4d84-bdeb-384e86123dc5",
   "metadata": {},
   "outputs": [
    {
     "data": {
      "text/html": [
       "<code>'((h 1) (e 1) (l 3) (l 2) (o 2) (w 1) (o 1) (r 1) (l 1) (d 1))</code>"
      ],
      "text/plain": [
       "'((h 1) (e 1) (l 3) (l 2) (o 2) (w 1) (o 1) (r 1) (l 1) (d 1))"
      ]
     },
     "execution_count": 57,
     "metadata": {},
     "output_type": "execute_result"
    }
   ],
   "source": [
    "(define (annotate-occurrence lst)\n",
    "  (define (update-freq sym acc)\n",
    "    (let* ((occurrences (assoc sym (car acc)))\n",
    "           (new-count (if occurrences\n",
    "                          (+ 1 (cdr occurrences))\n",
    "                          1))\n",
    "           (new-acc (cons (cons sym new-count) (car acc))))\n",
    "      (cons new-acc (cons (list sym new-count) (cdr acc)))))\n",
    "\n",
    "  (cdr (foldr update-freq (cons '() '()) lst)))\n",
    "\n",
    "(annotate-occurrence '(h e l l o w o r l d))\n"
   ]
  },
  {
   "cell_type": "markdown",
   "id": "c06eb947-40df-4680-ac79-3fe583d42dc5",
   "metadata": {},
   "source": [
    "#### (c) Convert a trinary string represented as a list of 0s, 1s, and 2s into a (decimal) number:\n",
    "\n",
    "```\n",
    "trinary-to-decimal '(1 0 2 1 0)) ; ==> 102\n",
    "```"
   ]
  },
  {
   "cell_type": "code",
   "execution_count": 60,
   "id": "b514a392-7d95-4e32-8fcd-30f53c22b15d",
   "metadata": {},
   "outputs": [
    {
     "data": {
      "text/html": [
       "<code>102</code>"
      ],
      "text/plain": [
       "102"
      ]
     },
     "execution_count": 60,
     "metadata": {},
     "output_type": "execute_result"
    }
   ],
   "source": [
    "(define (trinary-to-decimal trinary-list)\n",
    "  (foldl (lambda (digit acc)\n",
    "           (+ (* acc 3) digit))\n",
    "         0\n",
    "         trinary-list))\n",
    "\n",
    "(trinary-to-decimal '(1 0 2 1 0))\n"
   ]
  },
  {
   "cell_type": "markdown",
   "id": "c75bb664-83d1-4500-9cb6-f247559ac9f6",
   "metadata": {},
   "source": [
    "#### (d) Return the 3rd to last symbol in a list (you may assume it has enough symbols):\n",
    "\n",
    "```\n",
    "(third-to-last '(1 1 1 0 1 1)) ; ==> 0\n",
    "(third-to-last '(s y m b o l)) ; ==> 'b\n",
    "```"
   ]
  },
  {
   "cell_type": "code",
   "execution_count": 81,
   "id": "9b58e674-8013-4f23-98e3-d02f827fe1bf",
   "metadata": {},
   "outputs": [
    {
     "name": "stdout",
     "output_type": "stream",
     "text": [
      "0\n",
      "b"
     ]
    }
   ],
   "source": [
    "(define (third-to-last lst)\n",
    "  (car (foldl (lambda (sym acc)\n",
    "                (list (cadr acc) (caddr acc) sym))\n",
    "              (list #f #f #f)\n",
    "              lst)))\n",
    "\n",
    "(display (third-to-last '(1 1 1 0 1 1)))\n",
    "(newline)\n",
    "(display (third-to-last '(s y m b o l)))"
   ]
  },
  {
   "cell_type": "markdown",
   "id": "f52379ab-dc63-47a6-99c2-695bedaab9dc",
   "metadata": {},
   "source": [
    "#### (e) Decrement a binary number. Decrementing zero should produce zero:\n",
    "\n",
    "```\n",
    "(decrement '(1 0 1 1 0)) ; ==> '(1 0 1 0 1)\n",
    "(decrement '(1 0 0 0 0)) ; ==> '(1 1 1 1)\n",
    "(decrement '(0)) ; ==> '(0)\n",
    "```"
   ]
  },
  {
   "cell_type": "code",
   "execution_count": 93,
   "id": "2c92cd7f-8836-4c1d-bc9a-4c1f6ffce82a",
   "metadata": {},
   "outputs": [
    {
     "name": "stdout",
     "output_type": "stream",
     "text": [
      "(0 0 1 1 1)\n",
      "(0 1 0 1 1)\n",
      "(0)\n"
     ]
    }
   ],
   "source": [
    "(define (decrement binary)\n",
    "  (let* ([reversed (reverse binary)]\n",
    "         [decremented (foldl \n",
    "                       (lambda (bit acc)\n",
    "                         (let ([carry (car acc)]\n",
    "                              [result (cdr acc)])\n",
    "                           (cond\n",
    "                             [(and (= bit 1) (= carry 0)) (cons 1 (cons 0 result))]\n",
    "                             [(and (= bit 0) (= carry 0)) (cons 1 (cons 1 result))]\n",
    "                             [else (cons 0 (cons bit result))])))\n",
    "                       (cons 1 '())\n",
    "                       reversed)]\n",
    "         [result (reverse (cdr decremented))]\n",
    "         [stripped (dropwhile zero? result)])\n",
    "    (if (null? stripped) '(0) stripped)))\n",
    "\n",
    "(define (dropwhile pred lst)\n",
    "  (foldr (lambda (x acc)\n",
    "           (if (and (null? acc) (pred x))\n",
    "               '()\n",
    "               (cons x acc)))\n",
    "         '()\n",
    "         lst))\n",
    "\n",
    "(define (zero? x) (= x 0))\n",
    "\n",
    "(displayln (decrement '(1 0 1 1 0)))\n",
    "(displayln (decrement '(1 0 0 0 0)))\n",
    "(displayln (decrement '(0)))"
   ]
  },
  {
   "cell_type": "markdown",
   "id": "55e0350f-f927-4cfc-af19-2c251cfd39cc",
   "metadata": {},
   "source": [
    "### 2. Consider this list where each entry is a tuple of the first name, last name, gender, and age:\n",
    "\n",
    "```racket\n",
    "(define employees\n",
    "  '((\"John\" \"Malkovich\" #:male . 79)\n",
    "    (\"Ivan\" \"Petrov\" #:male . 18)\n",
    "    (\"Anna\" \"Petrova\" #:female . 62)\n",
    "    (\"Ivan\" \"Ivanov\" #:male . 43)\n",
    "    (\"Anna\" \"Karenina\" #:female . 20)))\n",
    "```"
   ]
  },
  {
   "cell_type": "markdown",
   "id": "66fad4da-c001-4f17-a7ca-d28d75bea881",
   "metadata": {},
   "source": [
    "#### (a) Implement a predicate `of-pensionable-age?` which is true when a given employee is of pensionable age (≥ 60 for female and ≥ 65 for male employees):\n",
    "\n",
    "```racket\n",
    "(of-pensionable-age? '(\"John\" \"Malkovich\" #:male . 79))\n",
    "; #t\n",
    "(of-pensionable-age? '(\"Anna\" \"Petrova\" #:female . 62))\n",
    "; #t\n",
    "```"
   ]
  },
  {
   "cell_type": "code",
   "execution_count": 13,
   "id": "5038e965-dd0f-4c14-98a9-2c80be8c5027",
   "metadata": {},
   "outputs": [
    {
     "name": "stdout",
     "output_type": "stream",
     "text": [
      "#f\n",
      "#f"
     ]
    }
   ],
   "source": [
    "(define employees\n",
    "  '((\"John\" \"Malkovich\" #:male 79)\n",
    "    (\"Ivan\" \"Petrov\" #:male 18)\n",
    "    (\"Anna\" \"Petrova\" #:female 62)\n",
    "    (\"Ivan\" \"Ivanov\" #:male 43)\n",
    "    (\"Anna\" \"Karenina\" #:female 20)))\n",
    "\n",
    "(define (of-pensionable-age? employee)\n",
    "  (let ([first-name (car employee)]\n",
    "        [last-name (cadr employee)]\n",
    "        [gender (caddr employee)]\n",
    "        [age (cadddr employee)])\n",
    "    (cond\n",
    "      [(and (eq? gender '#:male) (>= age 65)) #t]\n",
    "      [(and (eq? gender '#:female) (>= age 60)) #t]\n",
    "      [else #f])))\n",
    "\n",
    "(display(of-pensionable-age? '(\"John\" \"Malkovich\" male 79)))\n",
    "(newline)\n",
    "(display(of-pensionable-age? '(\"Anna\" \"Petrova\" female 62)))"
   ]
  },
  {
   "cell_type": "markdown",
   "id": "37724ef4-2ec1-4ad7-9b12-0dd7c557dfda",
   "metadata": {},
   "source": [
    "#### (b) Using higher-order functions (`map`, `ormap`, `andmap`, `filter`, `foldl`) and without explicit recursion, implement a function `employees-of-pensionable-age` that computes a list of *full names of employees who are of pensionable age given a list of employee entries as input:\n",
    "\n",
    "``` racket\n",
    "(employees-of-pensionable-age employees)\n",
    "; '((\"John\" . \"Malkovich\") (\"Anna\" . \"Petrova\"))\n",
    "```"
   ]
  },
  {
   "cell_type": "code",
   "execution_count": 19,
   "id": "6787002d-5ad5-428b-9ebc-3f4969e077cb",
   "metadata": {},
   "outputs": [
    {
     "data": {
      "text/html": [
       "<code>'((\"John\" . \"Malkovich\") (\"Anna\" . \"Petrova\"))</code>"
      ],
      "text/plain": [
       "'((\"John\" . \"Malkovich\") (\"Anna\" . \"Petrova\"))"
      ]
     },
     "execution_count": 19,
     "metadata": {},
     "output_type": "execute_result"
    }
   ],
   "source": [
    "(define employees\n",
    "  '((\"John\" \"Malkovich\" #:male 79)\n",
    "    (\"Ivan\" \"Petrov\" #:male 18)\n",
    "    (\"Anna\" \"Petrova\" #:female 62)\n",
    "    (\"Ivan\" \"Ivanov\" #:male 43)\n",
    "    (\"Anna\" \"Karenina\" #:female 20)))\n",
    "\n",
    "(define (of-pensionable-age? employee)\n",
    "  (let ([first-name (car employee)]\n",
    "        [last-name (cadr employee)]\n",
    "        [gender (caddr employee)]\n",
    "        [age (cadddr employee)])\n",
    "    (cond\n",
    "      [(and (eq? gender '#:male) (>= age 65)) #t]\n",
    "      [(and (eq? gender '#:female) (>= age 60)) #t]\n",
    "      [else #f])))\n",
    "\n",
    "(define (employees-of-pensionable-age employees)\n",
    "  (map (lambda (employee)\n",
    "         (cons (car employee) (cadr employee)))\n",
    "       (filter of-pensionable-age? employees)))\n",
    "\n",
    "(employees-of-pensionable-age employees)"
   ]
  },
  {
   "cell_type": "markdown",
   "id": "c8333f6f-0044-4aa7-8eac-f0b2f52f3ce7",
   "metadata": {},
   "source": [
    "### Consider the following two definitions of map via `foldl`:\n",
    "\n",
    "```\n",
    "(define (map1 f xs)\n",
    "  ((foldl\n",
    "    (lambda (x current)\n",
    "      (lambda (t) (current (cons (f x) t))))\n",
    "    (lambda (t) t)\n",
    "    xs)\n",
    "  empty))\n",
    "\n",
    "(define (map2 f xs)\n",
    "  (foldl\n",
    "   cons\n",
    "   empty\n",
    "  (foldl\n",
    "    (lambda (x current) (cons (f x) current))\n",
    "    empty\n",
    "    xs)))\n",
    "```\n",
    "\n",
    "Using *Substitution Model*, show that the following definitions of `map` are equivalent. It\n",
    "is easy to see that both functions are equivalent on empty lists (for any function **f**):\n",
    "\n",
    "```\n",
    "(map1 f empty)\n",
    "= ((foldl (...) (lambda (t) t) empty) empty) ; by definition of map1\n",
    "= ((lambda (t) t) empty) ; by definition of foldl\n",
    "= empty ; by definition of identity function\n",
    "= (foldl cons empty empty) ; (backwards) by definition of foldl\n",
    "= (foldl cons empty (foldl (...) empty empty)) ; (backwards) by definition of foldl\n",
    "= (map2 f empty) ; (backwards) by definition of map2\n",
    "```\n",
    "\n",
    "**Complete the proof** for the case when the input list is not empty, for any f, x, and xs:\n",
    "\n",
    "```\n",
    "(map1 f (cons x xs))\n",
    "= ... ; <- your proof as a sequence of equalities goes here\n",
    "= (map2 f (cons x xs))\n",
    "```\n",
    "\n",
    "In addition to the regular Substitution Model, you can use the following equivalences:\n",
    "\n",
    "1. for all f, z the following expressions are equivalent:\n",
    "\n",
    "    - (foldl f z empty)\n",
    "\n",
    "    - z\n",
    "\n",
    "2. for all f, z, x, xs the following expressions are equivalent:\n",
    "\n",
    "    - (foldl f z (cons x xs))\n",
    "\n",
    "    - (foldl f (f x z) xs)"
   ]
  },
  {
   "cell_type": "markdown",
   "id": "bb88cf62-e456-4652-9502-d26ddb4362f3",
   "metadata": {},
   "source": [
    "### Proof\n",
    "\n",
    "1. `(map1 f (cons x xs)) = ((foldl (lambda (x current) (lambda (t) (current (cons (f x) t)))) (lambda (t) t) (cons x xs)) empty)`\n",
    "   \n",
    "    by definition of `map1`\n",
    "\n",
    "2. It also equals `((foldl (lambda (x current) (lambda (t) (current (cons (f x) t))))\n",
    "((lambda (x current) (lambda (t) (current (cons (f x) t)))) x (lambda (t) t))\n",
    "xs) empty)`\n",
    "\n",
    "   by equivalence form (b)\n",
    "\n",
    "3. And it substitutes to `((foldl (lambda (x current) (lambda (t) (current (cons (f x) t))))\n",
    "(lambda (t) ((lambda (t) t) (cons (f x) t)))\n",
    "xs) empty)`\n",
    "\n",
    "4. Finally, by simplification of identity function we obtain: `((foldl (lambda (x current) (lambda (t) (current (cons (f x) t))))\n",
    "(lambda (t) (cons (f x) t))\n",
    "xs) empty) `\n",
    "\n",
    "Let's call this intermediate function `g`:\n",
    "\n",
    "`g = (foldl (lambda (x current) (lambda (t) (current (cons (f x) t))))\n",
    "(lambda (t) (cons (f x) t))\n",
    "xs)`\n",
    "\n",
    "So we have:\n",
    "\n",
    "`(map1 f (cons x xs)) = (g empty)`\n",
    "\n",
    "Now, let's consider `map2`:\n",
    "\n",
    "1. `(map2 f (cons x xs)) = (foldl cons empty (foldl (lambda (x current) (cons (f x) current)) empty (cons x xs)))`\n",
    "\n",
    "    by definition of `map2`\n",
    "\n",
    "2. It equals `(foldl cons empty (foldl (lambda (x current) (cons (f x) current)) (cons (f x) empty) xs))`\n",
    "\n",
    "   by equivalence (b)\n",
    "\n",
    "Let's call this intermediate result of the inner foldl `h`:\n",
    "\n",
    "`h = (foldl (lambda (x current) (cons (f x) current)) (cons (f x) empty) xs)`\n",
    "\n",
    "So we have:\n",
    "\n",
    "`(map2 f (cons x xs)) = (foldl cons empty h)`\n",
    "\n",
    "Now, to prove that `(map1 f (cons x xs)) = (map2 f (cons x xs))` , we need to show that `(g empty) = (foldl cons empty h)`.\n",
    "\n",
    "We can prove this by induction on the structure of `xs`:\n",
    "\n",
    "1. Base case `(xs is empty)`:\n",
    "   \n",
    "    `g = (lambda (t) (cons (f x) t))`\n",
    "\n",
    "    `(g empty) = (cons (f x) empty)`\n",
    "   \n",
    "    `h = (cons (f x) empty)`\n",
    "    `(foldl cons empty h) = (cons (f x) empty)`\n",
    "   \n",
    "So the base case holds.\n",
    "\n",
    "2. Inductive case `(xs is (cons y ys))`:\n",
    "\n",
    "Assume the equality holds for `ys`, we need to prove it for `(cons y ys)`.\n",
    "\n",
    "`g = (lambda (t) (current (cons (f y) t)))` where `current` is the result of folding over `ys`\n",
    "\n",
    "`h = (cons (f y) h')` where `h'` is the result of folding over `ys`\n",
    "\n",
    "By the induction hypothesis:\n",
    "\n",
    "`(g empty) = (foldl cons empty h')`\n",
    "\n",
    "Finally:\n",
    "\n",
    "`(g empty) = (current (cons (f y) empty))`\n",
    "\n",
    "`= (foldl cons (cons (f y) empty) h')`    by induction hypothesis\n",
    "\n",
    "`= (foldl cons empty (cons (f y) h'))`    by definition of foldl\n",
    "\n",
    "`= (foldl cons empty h)`\n",
    "\n",
    "This completes the proof that `(map1 f (cons x xs)) = (map2 f (cons x xs))` for any `f`, `x`, and `xs`."
   ]
  }
 ],
 "metadata": {
  "kernelspec": {
   "display_name": "Racket",
   "language": "racket",
   "name": "racket"
  },
  "language_info": {
   "codemirror_mode": "scheme",
   "file_extension": ".rkt",
   "mimetype": "text/x-racket",
   "name": "Racket",
   "pygments_lexer": "racket",
   "version": "8.14"
  }
 },
 "nbformat": 4,
 "nbformat_minor": 5
}
