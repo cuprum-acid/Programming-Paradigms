{
 "cells": [
  {
   "cell_type": "markdown",
   "id": "a16caeac-a847-4908-a372-f0cda72d20e5",
   "metadata": {},
   "source": [
    "# **Homework 1. Programming in Racket**\n",
    "## Evgeny Bobkunov e.bobkunov@innopolis.university SD-03"
   ]
  },
  {
   "cell_type": "markdown",
   "id": "b73fa23a-a766-4853-9f16-f0b88774dab0",
   "metadata": {},
   "source": [
    "## **1.1 Pseudo-Random Generation**\n",
    "\n",
    "In this section, you will implement a pseudo-random number generator using the linear congruential\n",
    "method."
   ]
  },
  {
   "cell_type": "markdown",
   "id": "e09fe384-5eea-4fd4-9724-ac10802f786a",
   "metadata": {},
   "source": [
    "**Exercise 1.1.1** (3 points). Implement the following functions which will serve as components of a\n",
    "linear congruential generator:\n",
    "\n",
    "1. `(mk-gen n)` — creating a new (state of a) generator from a seed integer value `n`\n",
    "\n",
    "    ```\n",
    "    (mk-gen 123)\n",
    "    ; #<gen>\n",
    "    ```\n",
    "\n",
    "2. `(next-gen g)` — given a (state of a) generator, produce the next (state) using the linear congruential formula:\n",
    "\n",
    "   $G_{n+1} = (aG_n + c)$ mod $m$\n",
    "\n",
    "You may use any valid constants *a*, *c*, and *m* which are consistent with a pseudo-random number\n",
    "generation.\n",
    "\n",
    "```\n",
    "(next-gen (mk-gen 123))\n",
    "; #<gen>\n",
    "```"
   ]
  },
  {
   "cell_type": "code",
   "execution_count": 11,
   "id": "3c2f8a22-9b2f-4b36-afe1-74dda45fe6bb",
   "metadata": {
    "vscode": {
     "languageId": "racket"
    }
   },
   "outputs": [
    {
     "name": "stdout",
     "output_type": "stream",
     "text": [
      "Initial generator state: 123\n",
      "First generated number: 5937458\n",
      "Second generated number: 991710192\n",
      "Third generated number: 1284702880\n",
      "Fourth generated number: 1007446186\n",
      "Fifth generated number: 667658216\n"
     ]
    }
   ],
   "source": [
    "\n",
    "(define a 48271)\n",
    "(define c 125)\n",
    "(define m 2147483647)\n",
    "\n",
    "(define (mk-gen n)\n",
    "  n)\n",
    "\n",
    "(define (next-gen g)\n",
    "  (modulo (+ (* a g) c) m))\n",
    "\n",
    "(define g (mk-gen 123))\n",
    "\n",
    "(printf \"Initial generator state: ~a\\n\" g)\n",
    "(define g1 (next-gen g))\n",
    "(printf \"First generated number: ~a\\n\" g1)\n",
    "\n",
    "(define g2 (next-gen g1))\n",
    "(printf \"Second generated number: ~a\\n\" g2)\n",
    "\n",
    "(define g3 (next-gen g2))\n",
    "(printf \"Third generated number: ~a\\n\" g3)\n",
    "\n",
    "(define g4 (next-gen g3))\n",
    "(printf \"Fourth generated number: ~a\\n\" g4)\n",
    "\n",
    "(define g5 (next-gen g4))\n",
    "(printf \"Fifth generated number: ~a\\n\" g5)\n"
   ]
  },
  {
   "cell_type": "markdown",
   "id": "61ba9b86-b10e-454f-9c2a-d81acace8962",
   "metadata": {},
   "source": [
    "**Exercise 1.1.2** (4 points). Implement a function `gen-integer` such that `((gen-integer i j) g)`\n",
    "generates a random integer in the range from *i* to *j* (not including *j*), with a given generator (state)\n",
    "*g*.\n",
    "\n",
    "```\n",
    "((gen-integer 10 34) (mk-gen 123))\n",
    "; '(13 . #<gen>)\n",
    "((gen-integer 10 34) (mk-gen 123))\n",
    "; '(13 . #<gen>) must be the same as above!\n",
    "```\n",
    "\n",
    "```\n",
    "((gen-integer 10 34) (next-gen (mk-gen 123)))\n",
    "; '(10 . #<gen>)\n",
    "((gen-integer 10 34) (cdr ((gen-integer 10 34) (mk-gen 123))))\n",
    "; '(10 . #<gen>) must be the same as above!\n",
    "```\n",
    "\n",
    "Note that `gen-integer` takes 2 arguments and produces a function that takes in the generator\n",
    "(state)! This is by design, to simplify later combinators (functions that combine several generators).\n",
    "Indeed, we will expect most combinators to be (or produce) functions that take in some generator\n",
    "(state) *g* and produce a pair `(x . g2)` where *x* is a (pseudo)random value and *g2* is the new generator\n",
    "(state)."
   ]
  },
  {
   "cell_type": "code",
   "execution_count": 13,
   "id": "2c8d699c-82c3-48fe-83fd-c8914d687016",
   "metadata": {
    "vscode": {
     "languageId": "racket"
    }
   },
   "outputs": [
    {
     "name": "stdout",
     "output_type": "stream",
     "text": [
      "Generating random integers between 10 and 34:\n",
      "First call: (12 . 5937458)\n",
      "Second call: (12 . 5937458)\n",
      "Next state: 5937458\n"
     ]
    }
   ],
   "source": [
    "\n",
    "(define a 48271)\n",
    "(define c 125)\n",
    "(define m 2147483647)\n",
    "\n",
    "(define (mk-gen n)\n",
    "  n)\n",
    "\n",
    "(define (next-gen g)\n",
    "  (modulo (+ (* a g) c) m))\n",
    "\n",
    "(define (gen-integer i j)\n",
    "  (lambda (g)\n",
    "    (let* ((range (- j i))\n",
    "           (random-number (next-gen g))\n",
    "           (scaled-number (+ i (modulo random-number range))))\n",
    "      (cons scaled-number (next-gen g)))))\n",
    "\n",
    "(define g (mk-gen 123))\n",
    "(printf \"Generating random integers between 10 and 34:\\n\")\n",
    "\n",
    "(define gen-fn (gen-integer 10 34))\n",
    "\n",
    "(printf \"First call: ~a\\n\" (gen-fn g))\n",
    "(printf \"Second call: ~a\\n\" (gen-fn g))\n",
    "(printf \"Next state: ~a\\n\" (next-gen g))\n"
   ]
  },
  {
   "cell_type": "markdown",
   "id": "e01f6b34-5b85-4923-b09b-c5e456b012ec",
   "metadata": {},
   "source": [
    "**Exercise 1.1.3** (4 points). Implement a function `stream-integers` such that `(stream-integers n m g)`\n",
    "produces an infinite stream of random integers in the range from *n* to *m*, starting from a given generator\n",
    "(state) *g*:\n",
    "\n",
    "```\n",
    "(stream->list (stream-take (stream-integers 1 10 (mk-gen 123)) 5))\n",
    "; '(7 7 6 9 3)\n",
    "(stream->list (stream-take (stream-integers 1 10 (mk-gen 123)) 10))\n",
    "; '(7 7 6 9 3 1 3 2 4 7) the first 5 integers should be the same as above!\n",
    "```"
   ]
  },
  {
   "cell_type": "code",
   "execution_count": 15,
   "id": "236c356c-03b8-4a0e-bda0-624f561cf157",
   "metadata": {
    "vscode": {
     "languageId": "racket"
    }
   },
   "outputs": [
    {
     "name": "stdout",
     "output_type": "stream",
     "text": [
      "First 5 random integers: (4 9 3 1 7)\n",
      "First 10 random integers: (4 9 3 1 7 7 3 4 1 3)\n"
     ]
    }
   ],
   "source": [
    "(require racket/stream)\n",
    "\n",
    "(define a 48271)\n",
    "(define c 125)\n",
    "(define m 2147483647)\n",
    "\n",
    "(define (mk-gen n)\n",
    "  n)\n",
    "\n",
    "(define (next-gen g)\n",
    "  (modulo (+ (* a g) c) m))\n",
    "\n",
    "(define (gen-integer i j g)\n",
    "  (let* ((range (+ 1 (- j i)))\n",
    "         (scaled-number (+ i (modulo g range))))\n",
    "    scaled-number))\n",
    "\n",
    "(define (stream-integers n m g)\n",
    "  (stream-cons\n",
    "   (gen-integer n m g)\n",
    "   (stream-integers n m (next-gen g))))\n",
    "\n",
    "(define g (mk-gen 123))\n",
    "\n",
    "(define s1 (stream-take (stream-integers 1 10 g) 5))\n",
    "(printf \"First 5 random integers: ~a\\n\" (stream->list s1))\n",
    "\n",
    "(define s2 (stream-take (stream-integers 1 10 g) 10))\n",
    "(printf \"First 10 random integers: ~a\\n\" (stream->list s2))"
   ]
  },
  {
   "cell_type": "markdown",
   "id": "e0a128a4-d723-474d-8afb-b3bc2e56a79a",
   "metadata": {},
   "source": [
    "**Exercise 1.1.4** (3 points). Implement a higher-order function `stream-random` such that `(stream-random f g)`\n",
    "produces an infinite stream of random values, created by a function *f* starting from a given generator\n",
    "(state) *g*. The function *f* is expected to take a generator (state) and produce a pair of a random value\n",
    "and a new generator state.\n",
    "\n",
    "```\n",
    "(stream->list (stream-take (stream-random (gen-integer 1 10) (mk-gen 123)) 5))\n",
    "; '(7 7 6 9 3) must be the same as stream-integers example above\n",
    "(stream->list (stream-take (stream-random (gen-integer 1 10) (mk-gen 123)) 10))\n",
    "; '(7 7 6 9 3 1 3 2 4 7) the first 5 integers should be the same as above!\n",
    "```"
   ]
  },
  {
   "cell_type": "code",
   "execution_count": 17,
   "id": "7eb64f1f-f4b4-4c3c-9d28-a74d5995161b",
   "metadata": {
    "vscode": {
     "languageId": "racket"
    }
   },
   "outputs": [
    {
     "name": "stdout",
     "output_type": "stream",
     "text": [
      "First 5 random integers: (4 9 3 1 7)\n",
      "First 10 random integers: (4 9 3 1 7 7 3 4 1 3)\n"
     ]
    }
   ],
   "source": [
    "\n",
    "(define a 48271)\n",
    "(define c 125)\n",
    "(define m 2147483647)\n",
    "\n",
    "(define (mk-gen n)\n",
    "  n)\n",
    "\n",
    "(define (next-gen g)\n",
    "  (modulo (+ (* a g) c) m))\n",
    "\n",
    "(define (gen-integer i j)\n",
    "  (lambda (g)\n",
    "    (let* ((range (+ 1 (- j i)))\n",
    "           (scaled-number (+ i (modulo g range))))\n",
    "      (cons scaled-number (next-gen g)))))\n",
    "\n",
    "(define (stream-random f g)\n",
    "  (let* ((result (f g))\n",
    "         (value (car result))\n",
    "         (new-g (cdr result)))\n",
    "    (stream-cons value (stream-random f new-g))))\n",
    "\n",
    "(define g (mk-gen 123))\n",
    "\n",
    "(define s1 (stream-take (stream-random (gen-integer 1 10) g) 5))\n",
    "(printf \"First 5 random integers: ~a\\n\" (stream->list s1))\n",
    "\n",
    "(define g (mk-gen 123))\n",
    "\n",
    "(define s2 (stream-take (stream-random (gen-integer 1 10) g) 10))\n",
    "(printf \"First 10 random integers: ~a\\n\" (stream->list s2))"
   ]
  },
  {
   "cell_type": "markdown",
   "id": "dabcc2e8-ac21-46f6-baef-142b115907dc",
   "metadata": {},
   "source": [
    "## **1.2 Generating User-Defined Structures**"
   ]
  },
  {
   "cell_type": "markdown",
   "id": "e255cc2e-8e49-46ae-93d1-411c43704d18",
   "metadata": {},
   "source": [
    "**Exercise 1.2.1** (3 points). Implement a function `gen-bool` such that `(gen-bool g)` produces a\n",
    "random boolean value given a generator (state) *g*:\n",
    "\n",
    "```\n",
    "(stream->list (stream-take (stream-random gen-bool (mk-gen 13123)) 5))\n",
    "; '(#f #t #f #f #f)\n",
    "```"
   ]
  },
  {
   "cell_type": "code",
   "execution_count": 19,
   "id": "51ced61e-4342-4e61-9a2c-18fd4552d92f",
   "metadata": {
    "vscode": {
     "languageId": "racket"
    }
   },
   "outputs": [
    {
     "name": "stdout",
     "output_type": "stream",
     "text": [
      "First 5 random boolean values: (#t #f #t #f #f)\n"
     ]
    }
   ],
   "source": [
    "\n",
    "(define a 48271)\n",
    "(define c 125)\n",
    "(define m 2147483647)\n",
    "\n",
    "(define (mk-gen n)\n",
    "  n)\n",
    "\n",
    "(define (next-gen g)\n",
    "  (modulo (+ (* a g) c) m))\n",
    "\n",
    "(define (gen-bool g)\n",
    "  (let* ((random-num (next-gen g))\n",
    "         (bool-value (even? random-num)))\n",
    "    (cons bool-value (next-gen g))))\n",
    "\n",
    "(define (stream-random f g)\n",
    "  (let* ((result (f g))\n",
    "         (value (car result))\n",
    "         (new-g (cdr result)))\n",
    "    (stream-cons value (stream-random f new-g))))\n",
    "\n",
    "(define g (mk-gen 13123))\n",
    "(define s (stream-take (stream-random gen-bool g) 5))\n",
    "(printf \"First 5 random boolean values: ~a\\n\" (stream->list s))"
   ]
  },
  {
   "cell_type": "markdown",
   "id": "27524604-21df-433d-adc6-6e7e939b958e",
   "metadata": {},
   "source": [
    "**Exercise 1.2.2** (3 points). Implement a function `gen-element` such that `((gen-element lst) g)`\n",
    "produces a random element of a list *lst* given a generator (state) *g*:\n",
    "\n",
    "```\n",
    "(stream->list (stream-take (stream-random (gen-element '(1 2 3)) (mk-gen 13)) 5))\n",
    "; '(2 1 1 2 3)\n",
    "```"
   ]
  },
  {
   "cell_type": "code",
   "execution_count": 23,
   "id": "0c5f99fc-45e5-4b0b-ba28-b54f9aa2d590",
   "metadata": {
    "vscode": {
     "languageId": "racket"
    }
   },
   "outputs": [
    {
     "name": "stdout",
     "output_type": "stream",
     "text": [
      "First 5 random elements: (2 1 3 1 1)\n"
     ]
    }
   ],
   "source": [
    "\n",
    "(define a 1664525)\n",
    "(define c 1013904223)\n",
    "(define m (expt 2 32))\n",
    "\n",
    "(define (mk-gen n)\n",
    "  n)\n",
    "\n",
    "(define (next-gen g)\n",
    "  (modulo (+ (* a g) c) m))\n",
    "\n",
    "(define (gen-element lst)\n",
    "  (lambda (g)\n",
    "    (let* ((len (length lst))\n",
    "           (index (modulo g len))\n",
    "           (element (list-ref lst index)))\n",
    "      (cons element (next-gen g)))))\n",
    "\n",
    "(define (stream-random f g)\n",
    "  (let* ((result (f g))\n",
    "         (value (car result))\n",
    "         (new-g (cdr result)))\n",
    "    (stream-cons value (stream-random f new-g))))\n",
    "\n",
    "(define g (mk-gen 13))\n",
    "\n",
    "(define s (stream-take (stream-random (gen-element '(1 2 3)) g) 5))\n",
    "(printf \"First 5 random elements: ~a\\n\" (stream->list s))"
   ]
  },
  {
   "cell_type": "markdown",
   "id": "1b41e609-0c9a-4c81-9981-8742228d1062",
   "metadata": {},
   "source": [
    "**Exercise 1.2.3** (5 points). Implement a higher-order function `gen-pair` such that `((gen-pair f1 f2) g)`\n",
    "produces a random pair with first element produced by the function *f1* and the second function produced by the function *f2*, given a generator (state) *g*. Note that the new generator, produced by *f1* should be passed to *f2*.\n",
    "\n",
    "```\n",
    "(stream->list (stream-take (stream-random (gen-pair gen-bool gen-bool) (mk-gen 31337)) 3))\n",
    "; '((#f . #t) (#t . #f) (#t . #t))\n",
    "```"
   ]
  },
  {
   "cell_type": "code",
   "execution_count": 25,
   "id": "9fdcb452-b432-4c6e-ba30-5fa2271f75ed",
   "metadata": {
    "vscode": {
     "languageId": "racket"
    }
   },
   "outputs": [
    {
     "name": "stdout",
     "output_type": "stream",
     "text": [
      "First 3 random pairs using gen-pair: ((#f . #f) (#t . #t) (#f . #t))\n"
     ]
    }
   ],
   "source": [
    "\n",
    "(define a 48271)\n",
    "(define c 125)\n",
    "(define m 2147483647)\n",
    "\n",
    "(define (mk-gen n)\n",
    "  n)\n",
    "\n",
    "(define (next-gen g)\n",
    "  (modulo (+ (* a g) c) m))\n",
    "\n",
    "(define (gen-bool g)\n",
    "  (let* ((random-number (next-gen g))             \n",
    "         (bool-value (if (zero? (modulo random-number 2)) #f #t)))  \n",
    "    (begin\n",
    "      (cons bool-value random-number))))\n",
    "\n",
    "(define (gen-pair f1 f2)\n",
    "  (lambda (g)\n",
    "    (let* ((result1 (f1 g))                       \n",
    "           (v1 (car result1))                     \n",
    "           (new-gen (cdr result1))                \n",
    "           (result2 (f2 new-gen))                 \n",
    "           (v2 (car result2))                     \n",
    "           (final-gen (cdr result2)))             \n",
    "      (cons (cons v1 v2) final-gen))))            \n",
    "\n",
    "(define (stream-random f g)\n",
    "  (let* ((result (f g))\n",
    "         (value (car result))\n",
    "         (new-gen (cdr result)))\n",
    "    (stream-cons value (stream-random f new-gen))))\n",
    "\n",
    "(define g (mk-gen 31337))\n",
    "\n",
    "(define s1 (stream-take (stream-random (gen-pair gen-bool gen-bool) g) 3))\n",
    "\n",
    "(printf \"First 3 random pairs using gen-pair: ~a\\n\" (stream->list s1))"
   ]
  },
  {
   "cell_type": "markdown",
   "id": "eb48db51-7094-4877-afd9-7924c772ccb1",
   "metadata": {},
   "source": [
    "**Exercise 1.2.4** (5 points). Implement a higher-order function `gen-list` such that `((gen-list f n) g)` produces a random list of *n* elements, each of which is produced by the function *f* given a generator\n",
    "(state) *g*. Note that the new generator, produced by *f* to generate *i*th element should be then passed\n",
    "to generate (*i* + 1)th element.\n",
    "\n",
    "```\n",
    "((gen-list (gen-integer 1 10) 10) (mk-gen 123))\n",
    "; '((7 7 6 9 3 1 3 2 4 7) . #<gen>)\n",
    "```"
   ]
  },
  {
   "cell_type": "code",
   "execution_count": 27,
   "id": "e9c4366c-468b-4b3d-b40e-e9630561fdf5",
   "metadata": {
    "vscode": {
     "languageId": "racket"
    }
   },
   "outputs": [
    {
     "name": "stdout",
     "output_type": "stream",
     "text": [
      "Generated list: (9 3 1 7 7 3 4 1 3 4)\n",
      "Final generator state: 851185703\n"
     ]
    }
   ],
   "source": [
    "\n",
    "(define a 48271)\n",
    "(define c 125)\n",
    "(define m 2147483647)\n",
    "\n",
    "(define (mk-gen n)\n",
    "  n)\n",
    "\n",
    "(define (next-gen g)\n",
    "  (modulo (+ (* a g) c) m))\n",
    "\n",
    "(define (gen-integer min max)\n",
    "  (lambda (g)\n",
    "    (let* ((random-number (next-gen g))\n",
    "           (bounded-number (+ min (modulo random-number (+ 1 (- max min))))))\n",
    "      (cons bounded-number (next-gen g)))))\n",
    "\n",
    "(define (gen-bool g)\n",
    "  (let* ((random-number (next-gen g))             \n",
    "         (bool-value (if (zero? (modulo random-number 2)) #f #t)))  \n",
    "    (begin\n",
    "      (cons bool-value random-number))))\n",
    "\n",
    "(define (gen-pair f1 f2)\n",
    "  (lambda (g)\n",
    "    (let* ((result1 (f1 g))                       \n",
    "           (v1 (car result1))                     \n",
    "           (new-gen (cdr result1))                \n",
    "           (result2 (f2 new-gen))                 \n",
    "           (v2 (car result2))                     \n",
    "           (final-gen (cdr result2)))             \n",
    "      (cons (cons v1 v2) final-gen))))            \n",
    "\n",
    "(define (stream-random f g)\n",
    "  (let* ((result (f g))\n",
    "         (value (car result))\n",
    "         (new-gen (cdr result)))\n",
    "    (stream-cons value (stream-random f new-gen))))\n",
    "\n",
    "(define (count-outcomes pairs)\n",
    "  (let loop ((pairs pairs) (both-true 0) (both-false 0) (one-true 0))\n",
    "    (if (null? pairs)\n",
    "        (list both-true both-false one-true)\n",
    "        (let* ((pair (car pairs))\n",
    "               (first (car pair))\n",
    "               (second (cdr pair)))\n",
    "          (cond\n",
    "            ((and first second) (loop (cdr pairs) (+ both-true 1) both-false one-true))\n",
    "            ((and (not first) (not second)) (loop (cdr pairs) both-false (+ both-false 1) one-true))\n",
    "            (else (loop (cdr pairs) both-true both-false (+ one-true 1))))))))\n",
    "\n",
    "(define (gen-list f n)\n",
    "  (lambda (g)\n",
    "    (define (loop i g)\n",
    "      (if (= i 0)\n",
    "          (cons '() g)\n",
    "          (let* ((result (f g))\n",
    "                 (value (car result))\n",
    "                 (new-gen (cdr result))\n",
    "                 (rest (loop (- i 1) new-gen)))\n",
    "            (cons (cons value (car rest)) (cdr rest)))))\n",
    "    (loop n g)))\n",
    "\n",
    "(define g (mk-gen 123))\n",
    "(define generated-list ((gen-list (gen-integer 1 10) 10) g))\n",
    "\n",
    "(printf \"Generated list: ~a\\n\" (car generated-list))\n",
    "(printf \"Final generator state: ~a\\n\" (cdr generated-list))\n"
   ]
  },
  {
   "cell_type": "markdown",
   "id": "73d1d9c6-fa5e-4b31-87f4-5993ec51d212",
   "metadata": {},
   "source": [
    "**Exercise 1.2.5** (5 points). Implement a polyvariadic higher-order function `gen*` such that `((gen* f1 ... fn) g)`\n",
    "produces a list of *n* elements where *i*th element is produced by a function *fi*. Note that the new generator, produced by *fi* to generate *i*th element should be then passed to generate (*i* + 1)th element.\n",
    "\n",
    "```\n",
    "((gen*) (mk-gen 123))\n",
    "; '(() . #<gen>)\n",
    "((gen* (gen-integer 1 10)) (mk-gen 123))\n",
    "; '((7) . #<gen>)\n",
    "((gen* (gen-integer 1 10) (gen-integer 10 20)) (mk-gen 123))\n",
    "; '((7 16) . #<gen>)\n",
    "```\n",
    "\n",
    "To define a polyvariadic function, follow the following definition pattern, which binds a list of all\n",
    "arguments of `gen*` in the variable *args*:\n",
    "\n",
    "```\n",
    "(define (gen* . args) ...)\n",
    "```"
   ]
  },
  {
   "cell_type": "code",
   "execution_count": 1,
   "id": "42a3a55b-9c08-40a6-a1fa-0ccefcee20ce",
   "metadata": {
    "vscode": {
     "languageId": "racket"
    }
   },
   "outputs": [
    {
     "name": "stdout",
     "output_type": "stream",
     "text": [
      "No generators: (() . 123)\n",
      "Single generator: ((9) . 5937458)\n",
      "Multiple generators: ((9 10) . 991710192)\n"
     ]
    }
   ],
   "source": [
    "\n",
    "(define a 48271)\n",
    "(define c 125)\n",
    "(define m 2147483647)\n",
    "\n",
    "(define (mk-gen n)\n",
    "  n)\n",
    "\n",
    "\n",
    "(define (next-gen g)\n",
    "  (modulo (+ (* a g) c) m))\n",
    "\n",
    "\n",
    "(define (gen-integer min max)\n",
    "  (lambda (g)\n",
    "    (let* ((random-number (next-gen g))\n",
    "           (bounded-number (+ min (modulo random-number (+ 1 (- max min))))))\n",
    "      (cons bounded-number (next-gen g)))))\n",
    "\n",
    "(define (gen-bool g)\n",
    "  (let* ((random-number (next-gen g))             \n",
    "         (bool-value (if (zero? (modulo random-number 2)) #f #t)))  \n",
    "    (begin\n",
    "      (cons bool-value random-number))))\n",
    "\n",
    "(define (gen-pair f1 f2)\n",
    "  (lambda (g)\n",
    "    (let* ((result1 (f1 g))                       \n",
    "           (v1 (car result1))                     \n",
    "           (new-gen (cdr result1))                \n",
    "           (result2 (f2 new-gen))                 \n",
    "           (v2 (car result2))                     \n",
    "           (final-gen (cdr result2)))             \n",
    "      (cons (cons v1 v2) final-gen))))            \n",
    "\n",
    "\n",
    "(define (stream-random f g)\n",
    "  (let* ((result (f g))\n",
    "         (value (car result))\n",
    "         (new-gen (cdr result))) \n",
    "    (stream-cons value (stream-random f new-gen))))\n",
    "\n",
    "(define (count-outcomes pairs)\n",
    "  (let loop ((pairs pairs) (both-true 0) (both-false 0) (one-true 0))\n",
    "    (if (null? pairs)\n",
    "        (list both-true both-false one-true)\n",
    "        (let* ((pair (car pairs))\n",
    "               (first (car pair))\n",
    "               (second (cdr pair)))\n",
    "          (cond\n",
    "            ((and first second) (loop (cdr pairs) (+ both-true 1) both-false one-true)) \n",
    "            ((and (not first) (not second)) (loop (cdr pairs) both-false (+ both-false 1) one-true))\n",
    "            (else (loop (cdr pairs) both-true both-false (+ one-true 1))))))))\n",
    "\n",
    "(define (gen* . args)\n",
    "  (lambda (g)\n",
    "    (define (loop args g)\n",
    "      (if (null? args)\n",
    "          (cons '() g)\n",
    "          (let* ((f (car args))\n",
    "                 (result (f g))\n",
    "                 (value (car result))\n",
    "                 (new-gen (cdr result))\n",
    "                 (rest (loop (cdr args) new-gen)))\n",
    "            (cons (cons value (car rest)) (cdr rest)))))\n",
    "    (loop args g)))\n",
    "\n",
    "(define g (mk-gen 123))\n",
    "\n",
    "(printf \"No generators: ~a\\n\" ((gen*) g))\n",
    "(printf \"Single generator: ~a\\n\" ((gen* (gen-integer 1 10)) g))\n",
    "(printf \"Multiple generators: ~a\\n\" ((gen* (gen-integer 1 10) (gen-integer 10 20)) g))\n"
   ]
  },
  {
   "cell_type": "markdown",
   "id": "2ca6a000-cacf-4f54-95c8-b730e15c69ee",
   "metadata": {},
   "source": [
    "**Exercise 1.2.6** (5 points). Implement a polyvariadic higher-order function `gen-struct` such that\n",
    "`((gen-struct mk f1 ... fn) g)` produces a random (user-defined) structure by applying *mk* to the\n",
    "*n* arguments where *i*th argument is produced by a function `fi`. Note that the new generator, produced\n",
    "by `fi` to generate *i*th argument should be then passed to generate (*i* + 1)th argument.\n",
    "\n",
    "```\n",
    "(struct person (name age))\n",
    "\n",
    "(let [(p ((gen-struct person\n",
    "                        (gen-element '(Anna Boris Charlie))\n",
    "                        (gen-integer 20 30))\n",
    "            (mk-gen 123)))]\n",
    "    (displayln (person-name (car p)))\n",
    "    (displayln (person-age (car p)))\n",
    "    (displayln (cdr p)))\n",
    "; Anna\n",
    "; 26\n",
    "; #<gen>\n",
    "```"
   ]
  },
  {
   "cell_type": "code",
   "execution_count": 24,
   "id": "49b1248b-e7c0-491e-9121-9374d240e2e0",
   "metadata": {
    "vscode": {
     "languageId": "racket"
    }
   },
   "outputs": [
    {
     "name": "stdout",
     "output_type": "stream",
     "text": [
      "Charlie\n",
      "20\n",
      "991710192\n"
     ]
    }
   ],
   "source": [
    "\n",
    "(define a 48271)\n",
    "(define c 125)\n",
    "(define m 2147483647)\n",
    "\n",
    "(define (mk-gen n)\n",
    "  n)\n",
    "\n",
    "(define (next-gen g)\n",
    "  (modulo (+ (* a g) c) m))\n",
    "\n",
    "(define (gen-integer min max)\n",
    "  (lambda (g)\n",
    "    (let* ((random-number (next-gen g))\n",
    "           (bounded-number (+ min (modulo random-number (+ 1 (- max min))))))\n",
    "      (cons bounded-number (next-gen g)))))\n",
    "\n",
    "(define (gen-bool g)\n",
    "  (let* ((random-number (next-gen g))             \n",
    "         (bool-value (if (zero? (modulo random-number 2)) #f #t)))  \n",
    "    (cons bool-value (next-gen g))))\n",
    "\n",
    "(define (gen-element lst)\n",
    "  (lambda (g)\n",
    "    (let* ((len (length lst))\n",
    "           (index (modulo (next-gen g) len)))\n",
    "      (cons (list-ref lst index) (next-gen g)))))\n",
    "\n",
    "(define (gen-struct mk . args)\n",
    "  (lambda (g)\n",
    "    (define (loop args g acc)\n",
    "      (if (null? args)\n",
    "          (let ((struct (apply mk (reverse acc))))\n",
    "            (cons struct g))\n",
    "          (let* ((f (car args))\n",
    "                 (result (f g))\n",
    "                 (value (car result))\n",
    "                 (new-gen (cdr result))) \n",
    "            (loop (cdr args) new-gen (cons value acc)))))\n",
    "    (loop args g '())))  \n",
    "\n",
    "(struct person (name age))\n",
    "\n",
    "(let* ((gen (mk-gen 123))\n",
    "       (result ((gen-struct person\n",
    "                   (gen-element '(Anna Boris Charlie))\n",
    "                   (gen-integer 20 30))\n",
    "                 gen)))\n",
    "  (define p (car result))\n",
    "  (define new-gen (cdr result))\n",
    "  (displayln (person-name p))\n",
    "  (displayln (person-age p))\n",
    "  (displayln new-gen))\n"
   ]
  },
  {
   "cell_type": "markdown",
   "id": "21cba271-d16a-4fa1-a836-e2d4df0d352b",
   "metadata": {},
   "source": [
    "**Exercise 1.2.7** (+0.25% extra credit). Define `gen-int->int` such that `(gen-int->int g)` produces a\n",
    "random *function* from integers to integers. The generated functions must at least include a possibility\n",
    "of an identity function (λn.n), a constant function (λn.m, where m is some (random) integer), an\n",
    "addition of another (random) integer (λn.n + m), and a multiplication by another (random) integer\n",
    "(λn.n · m).\n",
    "\n",
    "```\n",
    "(map (lambda (f) (f 5))\n",
    "    (stream->list (stream-take (stream-random gen-int->int (mk-gen 4)) 10)))\n",
    "; '(-91 103 57 35 -83 31 -95 83 53 63)\n",
    "```"
   ]
  },
  {
   "cell_type": "code",
   "execution_count": 64,
   "id": "81d990e9-9517-4f8e-aef6-be6e1c9bac92",
   "metadata": {
    "vscode": {
     "languageId": "racket"
    }
   },
   "outputs": [
    {
     "name": "stdout",
     "output_type": "stream",
     "text": [
      "Results of applying 10 random functions to 5: (5 -90 -20 52 93 5 13 -25 7 -40)\n"
     ]
    }
   ],
   "source": [
    "\n",
    "(define a 48271)\n",
    "(define c 125)\n",
    "(define m 2147483647)\n",
    "\n",
    "(define (mk-gen n)\n",
    "  n)\n",
    "\n",
    "(define (next-gen g)\n",
    "  (modulo (+ (* a g) c) m))\n",
    "\n",
    "(define (gen-range-int min max)\n",
    "  (lambda (g)\n",
    "    (let* ((range (+ 1 (- max min)))\n",
    "           (random-num (modulo g range))\n",
    "           (result (+ min random-num)))\n",
    "      (cons result (next-gen g)))))\n",
    "\n",
    "(define (gen-int->int g)\n",
    "  (let* ((choice-result ((gen-range-int 0 3) g))\n",
    "         (choice (car choice-result))\n",
    "         (g2 (cdr choice-result)))\n",
    "    (case choice\n",
    "      ((0) ; Identity function\n",
    "       (cons (lambda (n) n) g2))\n",
    "      ((1) ; Constant function\n",
    "       (let* ((const-result ((gen-range-int -100 100) g2))\n",
    "              (const-value (car const-result))\n",
    "              (g3 (cdr const-result)))\n",
    "         (cons (lambda (n) const-value) g3)))\n",
    "      ((2) ; Addition function\n",
    "       (let* ((add-result ((gen-range-int -100 100) g2))\n",
    "              (add-value (car add-result))\n",
    "              (g3 (cdr add-result)))\n",
    "         (cons (lambda (n) (+ n add-value)) g3)))\n",
    "      ((3) ; Multiplication function\n",
    "       (let* ((mul-result ((gen-range-int -10 10) g2))\n",
    "              (mul-value (car mul-result))\n",
    "              (g3 (cdr mul-result)))\n",
    "         (cons (lambda (n) (* n mul-value)) g3))))))\n",
    "\n",
    "(define (stream-random f g)\n",
    "  (let* ((result (f g))\n",
    "         (value (car result))\n",
    "         (new-g (cdr result)))\n",
    "    (stream-cons value (stream-random f new-g))))\n",
    "\n",
    "(define g (mk-gen 4))\n",
    "(define s (stream-take (stream-random gen-int->int g) 10))\n",
    "(define results (map (lambda (f) (f 5)) (stream->list s)))\n",
    "(printf \"Results of applying 10 random functions to 5: ~a\\n\" results)\n"
   ]
  },
  {
   "cell_type": "markdown",
   "id": "4a298084-6806-44cd-970a-19dbb4ebd714",
   "metadata": {},
   "source": [
    "## **1.3 Checking User-Defined Properties**\n",
    "\n",
    "In this section, you will implement a checker for user-defined properties, enabling randomized propertybased testing. A property will be defined by the following structure:\n",
    "\n",
    "```\n",
    "(struct property (generator predicate))\n",
    "```"
   ]
  },
  {
   "cell_type": "markdown",
   "id": "4f9d5313-0fc1-47d9-b1fa-b14307f90d2d",
   "metadata": {},
   "source": [
    "**Exercise 1.3.1** (5 points). Implement a function `stream-counterexamples` such that\n",
    "`(stream-counterexamples property g)` produces a stream of (randomly-generated) counterexamples for a given property `property`. To prevent infinite search, limit the search space to 100 random\n",
    "inputs.\n",
    "\n",
    "```\n",
    "(stream->list (stream-counterexamples\n",
    "                (property (gen-integer 1 100)\n",
    "                    (lambda (x) (> x 5)))\n",
    "                (mk-gen 123)))\n",
    "; '(4 4 1)\n",
    "\n",
    "(stream->list (stream-counterexamples\n",
    "                (property (gen-integer 1 100)\n",
    "                    (lambda (x) (> x 0)))\n",
    "                (mk-gen 123)))\n",
    "; '()\n",
    "```"
   ]
  },
  {
   "cell_type": "code",
   "execution_count": 92,
   "id": "785863f1-b2e7-481f-af5b-c93466893d7c",
   "metadata": {
    "vscode": {
     "languageId": "racket"
    }
   },
   "outputs": [
    {
     "name": "stdout",
     "output_type": "stream",
     "text": [
      "Counterexamples for prop1: (4 5 1)\n",
      "Counterexamples for prop2: ()\n"
     ]
    }
   ],
   "source": [
    "\n",
    "(define a 48271)\n",
    "(define c 125)\n",
    "(define m 2147483647)\n",
    "\n",
    "(define (mk-gen n)\n",
    "  n)\n",
    "\n",
    "(define (next-gen g)\n",
    "  (modulo (+ (* a g) c) m))\n",
    "\n",
    "(struct property (generator predicate))\n",
    "\n",
    "(define (gen-integer i j)\n",
    "  (lambda (g)\n",
    "    (let* ((range (+ 1 (- j i)))\n",
    "           (random-num (modulo g range))\n",
    "           (result (+ i random-num)))\n",
    "      (cons result (next-gen g)))))\n",
    "\n",
    "(define (stream-counterexamples prop g)\n",
    "  (define (generate-counterexamples count g)\n",
    "    (if (= count 100)\n",
    "        empty-stream\n",
    "        (let* ((gen-result ((property-generator prop) g))\n",
    "               (value (car gen-result))\n",
    "               (new-g (cdr gen-result)))\n",
    "          (if ((property-predicate prop) value)\n",
    "              (generate-counterexamples (+ count 1) new-g)\n",
    "              (stream-cons value (generate-counterexamples (+ count 1) new-g))))))\n",
    "  (generate-counterexamples 0 g))\n",
    "\n",
    "\n",
    "(define prop1 (property (gen-integer 1 100) (lambda (x) (> x 5))))\n",
    "(define prop2 (property (gen-integer 1 100) (lambda (x) (> x 0))))\n",
    "\n",
    "(define g (mk-gen 123))\n",
    "\n",
    "(printf \"Counterexamples for prop1: ~a\\n\" \n",
    "        (stream->list (stream-counterexamples prop1 g)))\n",
    "\n",
    "(printf \"Counterexamples for prop2: ~a\\n\" \n",
    "        (stream->list (stream-counterexamples prop2 g)))\n"
   ]
  },
  {
   "cell_type": "markdown",
   "id": "be0250a7-a781-4b6d-88d6-471c95127bde",
   "metadata": {},
   "source": [
    "**Exercise 1.3.2** (3 points). Implement a function `stream-counterexample` such that\n",
    "`(stream-counterexample property g)` produces a stream of at most one (randomly-generated) counterexample for a given property `property`. To prevent infinite search, limit the search space to 100\n",
    "random inputs.\n",
    "\n",
    "```\n",
    "(stream->list (stream-counterexample\n",
    "                (property (gen-integer 1 100)\n",
    "                    (lambda (x) (> x 5)))\n",
    "                (mk-gen 123)))\n",
    "; '(4)\n",
    "\n",
    "(stream->list (stream-counterexample\n",
    "                (property (gen-integer 1 100)\n",
    "                    (lambda (x) (> x 0)))\n",
    "                (mk-gen 123)))\n",
    "; '()\n",
    "```"
   ]
  },
  {
   "cell_type": "code",
   "execution_count": 97,
   "id": "ce6d507e-637c-4253-8aa1-ff760b87aa90",
   "metadata": {
    "vscode": {
     "languageId": "racket"
    }
   },
   "outputs": [
    {
     "name": "stdout",
     "output_type": "stream",
     "text": [
      "Counterexample for prop1: (4)\n",
      "Counterexample for prop2: ()\n"
     ]
    }
   ],
   "source": [
    "\n",
    "(define a 48271)\n",
    "(define c 125)\n",
    "(define m 2147483647)\n",
    "\n",
    "(define (mk-gen n)\n",
    "  n)\n",
    "\n",
    "(define (next-gen g)\n",
    "  (modulo (+ (* a g) c) m))\n",
    "\n",
    "(struct property (generator predicate))\n",
    "\n",
    "(define (gen-integer i j)\n",
    "  (lambda (g)\n",
    "    (let* ((range (+ 1 (- j i)))\n",
    "           (random-num (modulo g range))\n",
    "           (result (+ i random-num)))\n",
    "      (cons result (next-gen g)))))\n",
    "\n",
    "(define (stream-counterexample prop g)\n",
    "  (define (find-counterexample count g)\n",
    "    (if (= count 100)\n",
    "        empty-stream\n",
    "        (let* ((gen-result ((property-generator prop) g))\n",
    "               (value (car gen-result))\n",
    "               (new-g (cdr gen-result)))\n",
    "          (if ((property-predicate prop) value)\n",
    "              (find-counterexample (+ count 1) new-g)\n",
    "              (stream value)))))\n",
    "  (find-counterexample 0 g))\n",
    "\n",
    "(define prop1 (property (gen-integer 1 100) (lambda (x) (> x 5))))\n",
    "(define prop2 (property (gen-integer 1 100) (lambda (x) (> x 0))))\n",
    "\n",
    "(define g (mk-gen 123))\n",
    "\n",
    "(printf \"Counterexample for prop1: ~a\\n\" \n",
    "        (stream->list (stream-counterexample prop1 g)))\n",
    "\n",
    "(printf \"Counterexample for prop2: ~a\\n\" \n",
    "        (stream->list (stream-counterexample prop2 g)))\n"
   ]
  },
  {
   "cell_type": "markdown",
   "id": "cbbe1a90-891e-41c7-a47d-45b8c7d71f40",
   "metadata": {},
   "source": [
    "**Exercise 1.3.3** (5 points). Implement a function `check` such that `(check property)` checks if a\n",
    "property is true on 100 randomly generated values. You may use a non-pure procedure\n",
    "to generate a\n",
    "random seed. If case of success, display `\"Success\"`, otherwise, display a counterexample.\n",
    "\n",
    "```\n",
    "; for all 1 <= n < 10\n",
    "; we have\n",
    "; n < 11\n",
    "(check (property (gen-integer 1 10) (lambda (n) (< n 11))))\n",
    "; Success\n",
    "```\n",
    "\n",
    "```\n",
    "; for all 1 <= n < 10\n",
    "; we have\n",
    "; n < 5\n",
    "(check (property (gen-integer 1 10) (lambda (n) (< n 5))))\n",
    "; Falsified!\n",
    "; Counterexample: 7\n",
    "```\n",
    "\n",
    "```\n",
    "; for all 1 <= x < 10\n",
    "; and 11 <= y < 20\n",
    "; we have\n",
    "; x < y < (x + y)\n",
    "(check (property\n",
    "    (gen-pair (gen-integer 1 10) (gen-integer 11 20))\n",
    "    (lambda (xy)\n",
    "        (let [(x (car xy))\n",
    "            (y (cdr xy))]\n",
    "        (< x y (+ x y))))))\n",
    "; Success\n",
    "\n",
    "; Falsified!\n",
    "; Counterexample: 7\n",
    "\n",
    "; for all 1 <= x < 10\n",
    "; and 11 <= y < 20\n",
    "; we have\n",
    "; x < (y - x)\n",
    "(check (property\n",
    "    (gen-pair (gen-integer 1 10) (gen-integer 11 20))\n",
    "    (lambda (xy)\n",
    "        (let [(x (car xy))\n",
    "            (y (cdr xy))]\n",
    "        (< x (- y x))))))\n",
    "; Falsified!\n",
    "; Counterexample: (7 . 12)\n",
    "```"
   ]
  },
  {
   "cell_type": "code",
   "execution_count": 104,
   "id": "486e0c74-8600-45b6-a033-8c5519c507ae",
   "metadata": {
    "vscode": {
     "languageId": "racket"
    }
   },
   "outputs": [
    {
     "name": "stdout",
     "output_type": "stream",
     "text": [
      "Checking prop1:\n",
      "Success\n",
      "\n",
      "Checking prop2:\n",
      "Falsified!\n",
      "Counterexample: 7\n",
      "\n",
      "Checking prop3:\n",
      "Success\n",
      "\n",
      "Checking prop4:\n",
      "Falsified!\n",
      "Counterexample: (8 . 12)\n"
     ]
    }
   ],
   "source": [
    "\n",
    "(define a 48271)\n",
    "(define c 125)\n",
    "(define m 2147483647)\n",
    "\n",
    "(define (mk-gen n)\n",
    "  n)\n",
    "\n",
    "(define (next-gen g)\n",
    "  (modulo (+ (* a g) c) m))\n",
    "\n",
    "(struct property (generator predicate))\n",
    "\n",
    "(define (gen-integer i j)\n",
    "  (lambda (g)\n",
    "    (let* ((range (+ 1 (- j i)))\n",
    "           (random-num (modulo g range))\n",
    "           (result (+ i random-num)))\n",
    "      (cons result (next-gen g)))))\n",
    "\n",
    "(define (gen-pair f1 f2)\n",
    "  (lambda (g)\n",
    "    (let* ((result1 (f1 g))\n",
    "           (value1 (car result1))\n",
    "           (g2 (cdr result1))\n",
    "           (result2 (f2 g2))\n",
    "           (value2 (car result2))\n",
    "           (g3 (cdr result2)))\n",
    "      (cons (cons value1 value2) g3))))\n",
    "\n",
    "(define (check prop)\n",
    "  (define (check-property count g)\n",
    "    (if (= count 100)\n",
    "        (display \"Success\\n\")\n",
    "        (let* ((gen-result ((property-generator prop) g))\n",
    "               (value (car gen-result))\n",
    "               (new-g (cdr gen-result)))\n",
    "          (if ((property-predicate prop) value)\n",
    "              (check-property (+ count 1) new-g)\n",
    "              (begin\n",
    "                (display \"Falsified!\\n\")\n",
    "                (display \"Counterexample: \")\n",
    "                (display value)\n",
    "                (newline))))))\n",
    "  \n",
    "  (check-property 0 (mk-gen (random 1000000))))\n",
    "\n",
    "(define prop1 (property (gen-integer 1 10) (lambda (n) (< n 11))))\n",
    "(define prop2 (property (gen-integer 1 10) (lambda (n) (< n 5))))\n",
    "(define prop3 (property\n",
    "                (gen-pair (gen-integer 1 10) (gen-integer 11 20))\n",
    "                (lambda (xy)\n",
    "                  (let ((x (car xy))\n",
    "                        (y (cdr xy)))\n",
    "                    (< x y (+ x y))))))\n",
    "(define prop4 (property\n",
    "                (gen-pair (gen-integer 1 10) (gen-integer 11 20))\n",
    "                (lambda (xy)\n",
    "                  (let ((x (car xy))\n",
    "                        (y (cdr xy)))\n",
    "                    (< x (- y x))))))\n",
    "\n",
    "(printf \"Checking prop1:\\n\")\n",
    "(check prop1)\n",
    "\n",
    "(printf \"\\nChecking prop2:\\n\")\n",
    "(check prop2)\n",
    "\n",
    "(printf \"\\nChecking prop3:\\n\")\n",
    "(check prop3)\n",
    "\n",
    "(printf \"\\nChecking prop4:\\n\")\n",
    "(check prop4)"
   ]
  },
  {
   "cell_type": "markdown",
   "id": "aafd911d-9372-4aae-97f4-0b80a6fea8f8",
   "metadata": {},
   "source": [
    "## **1.4 Implementing Properties**"
   ]
  },
  {
   "cell_type": "markdown",
   "id": "2978b534-29b5-4cad-8faf-e13628843918",
   "metadata": {},
   "source": [
    "**Exercise 1.4.1** (3 points). Implement a function `random-2D-point` to generate random 2D points (it\n",
    "is enough to generate points with integer coordinates):\n",
    "\n",
    "```\n",
    "(stream->list (stream-take (stream-random gen-2D-point (mk-gen 123)) 5))\n",
    "; '((-7 . 6) (-5 . -8) (1 . 2) (7 . 0) (9 . 2))\n",
    "```"
   ]
  },
  {
   "cell_type": "code",
   "execution_count": 20,
   "id": "22469919-1b80-46a3-9db0-46eadb6647e6",
   "metadata": {
    "vscode": {
     "languageId": "racket"
    }
   },
   "outputs": [
    {
     "data": {
      "text/html": [
       "<code>'((-9 . 6) (-2 . -2) (0 . -3) (1 . -10) (2 . 10))</code>"
      ],
      "text/plain": [
       "'((-9 . 6) (-2 . -2) (0 . -3) (1 . -10) (2 . 10))"
      ]
     },
     "execution_count": 20,
     "metadata": {},
     "output_type": "execute_result"
    }
   ],
   "source": [
    "\n",
    "(define (random-in-range low high)\n",
    "  (+ low (random (+ 1 (- high low)))))\n",
    "\n",
    "(define (gen-2D-point)\n",
    "  (cons (random-in-range -10 10) (random-in-range -10 10)))\n",
    "\n",
    "(define (stream-random gen)\n",
    "  (cons (gen) (delay (stream-random gen))))\n",
    "\n",
    "(define (stream-take s n)\n",
    "  (if (or (zero? n) (null? s))\n",
    "      '()\n",
    "      (cons (car s) (stream-take (force (cdr s)) (sub1 n)))))\n",
    "\n",
    "(define (stream->list s)\n",
    "  (if (null? s)\n",
    "      '()\n",
    "      (cons (car s) (stream->list (force (cdr s))))))\n",
    "\n",
    "(define random-points\n",
    "  (stream->list (stream-take (stream-random gen-2D-point) 5)))\n",
    "\n",
    "random-points\n"
   ]
  },
  {
   "cell_type": "markdown",
   "id": "30227427-8e45-48cc-924a-baca875f3605",
   "metadata": {},
   "source": [
    "**Exercise 1.4.2** (3 points). Implement a function `euclidean-distance-2D` to calculate Euclidean\n",
    "distance between two 2D points:\n",
    "\n",
    "```\n",
    "(euclidean-distance-2D '(3 . 4) '(0 . 0))\n",
    "; 5\n",
    "```"
   ]
  },
  {
   "cell_type": "markdown",
   "id": "c399da4d-37bd-4a05-b29b-02c171645146",
   "metadata": {},
   "source": [
    "Let's use the Euclidean distance formula:\n",
    "\n",
    "$d = \\sqrt{(x_2 - x_1)^2 + (y_2 - y_1)^2}$"
   ]
  },
  {
   "cell_type": "code",
   "execution_count": 28,
   "id": "9096a20e-2b80-4ded-bd20-299fb9966c06",
   "metadata": {
    "vscode": {
     "languageId": "racket"
    }
   },
   "outputs": [
    {
     "data": {
      "text/html": [
       "<code>5</code>"
      ],
      "text/plain": [
       "5"
      ]
     },
     "execution_count": 28,
     "metadata": {},
     "output_type": "execute_result"
    }
   ],
   "source": [
    "\n",
    "(define (euclidean-distance-2D point1 point2)\n",
    "  (let* ((x1 (car point1))\n",
    "         (y1 (cdr point1))\n",
    "         (x2 (car point2))\n",
    "         (y2 (cdr point2)))\n",
    "    (sqrt (+ (expt (- x2 x1) 2)\n",
    "              (expt (- y2 y1) 2)))))\n",
    "\n",
    "(euclidean-distance-2D '(3 . 4) '(0 . 0))\n"
   ]
  },
  {
   "cell_type": "markdown",
   "id": "0a1d5b1d-262b-41ec-8fbe-bc69f4dcd009",
   "metadata": {},
   "source": [
    "**Exercise 1.4.3** (5 points). Implement a function `triangular` such that `(triangular gen mu)` produces a property that checks the triangular property for metric `µ` (mu) for three randomly generate\n",
    "(via `gen`) values:\n",
    "\n",
    "$∀p_1, p_2, p_3.µ(p1, p2) + µ(p2, p3) ≥ µ(p1, p3)$\n",
    "\n",
    "```\n",
    "(check (triangular gen-2D-point euclidean-distance-2D))\n",
    "; Success\n",
    "\n",
    "(define (bad-distance-2D p1 p2)\n",
    "    (let [(x1 (car p1))\n",
    "        (x2 (car p2))\n",
    "        (y1 (cdr p1))\n",
    "        (y2 (cdr p2))]\n",
    "    (+ x1 x2 y1 y2)))\n",
    "\n",
    "(check (triangular gen-2D-point bad-distance-2D))\n",
    "; Falsified!\n",
    "; Counterexample: ((-7 . 6) (-5 . -8) (1 . 2))\n",
    "```"
   ]
  },
  {
   "cell_type": "code",
   "execution_count": 85,
   "id": "5876554c-727a-4889-a04d-e2d48197de7b",
   "metadata": {
    "vscode": {
     "languageId": "racket"
    }
   },
   "outputs": [
    {
     "name": "stdout",
     "output_type": "stream",
     "text": [
      "Success\n",
      "Falsified!\n",
      "Counterexample: ((-8 . 7) (-5 . -9) (7 . 8))\n"
     ]
    }
   ],
   "source": [
    "\n",
    "(define (gen-2D-point)\n",
    "  (cons (random -10 10) (random -10 10)))\n",
    "\n",
    "\n",
    "(define (euclidean-distance-2D p1 p2)\n",
    "  (let* ([x1 (car p1)]\n",
    "         [x2 (car p2)]\n",
    "         [y1 (cdr p1)]\n",
    "         [y2 (cdr p2)]\n",
    "         [dx (- x1 x2)]\n",
    "         [dy (- y1 y2)])\n",
    "    (sqrt (+ (* dx dx) (* dy dy)))))\n",
    "\n",
    "(define (bad-distance-2D p1 p2)\n",
    "  (let* ([x1 (car p1)]\n",
    "         [x2 (car p2)]\n",
    "         [y1 (cdr p1)]\n",
    "         [y2 (cdr p2)])\n",
    "    (+ x1 x2 y1 y2)))\n",
    "\n",
    "(define (triangular gen mu)\n",
    "  (λ ()\n",
    "    (let* ([p1 (gen)]\n",
    "           [p2 (gen)]\n",
    "           [p3 (gen)])\n",
    "      (if (>= (+ (mu p1 p2) (mu p2 p3)) (mu p1 p3))\n",
    "          #t\n",
    "          (list p1 p2 p3)))))\n",
    "\n",
    "(define (check prop)\n",
    "  (let loop ([n 100])\n",
    "    (cond\n",
    "      [(zero? n) (displayln \"Success\")]\n",
    "      [else\n",
    "       (let ([result (prop)])\n",
    "         (if result\n",
    "             (if (eq? result #t)\n",
    "                 (loop (sub1 n))\n",
    "                 (begin\n",
    "                   (displayln \"Falsified!\")\n",
    "                   (displayln (format \"Counterexample: ~a\" result))))\n",
    "             (loop (sub1 n))))])))\n",
    "\n",
    "(check (triangular gen-2D-point euclidean-distance-2D))\n",
    "\n",
    "(check (triangular gen-2D-point bad-distance-2D))\n"
   ]
  },
  {
   "cell_type": "markdown",
   "id": "e78ec2d5-c29f-4015-bf46-e6c9194e4bb5",
   "metadata": {},
   "source": [
    "**Exercise 1.4.4** (5 points). Implement a function `functor-law-1` such that `(functor-law-1 map)` is\n",
    "a property that checks if for any list `lst`, mapping an identity function does not modify it:\n",
    "\n",
    "```\n",
    "(map identity lst)\n",
    "; should be the same as\n",
    "lst\n",
    "```\n",
    "\n",
    "It is enough to check lists of integers of random size (up to 100 elements).\n",
    "\n",
    "```\n",
    "(check (functor-law-1 map))\n",
    "; Success\n",
    "\n",
    "(define (bad-map f xs) (reverse xs))\n",
    "(check (functor-law-1 bad-map))\n",
    "; Falsified!\n",
    "; Counterexample: (6 5 2 1 2 7 0 9 2 9 8 9 0 5 6 5 4 7 6 7 2 7)\n",
    "```"
   ]
  },
  {
   "cell_type": "code",
   "execution_count": 64,
   "id": "70631077-021e-476e-8ccf-a6f3cd209220",
   "metadata": {
    "vscode": {
     "languageId": "racket"
    }
   },
   "outputs": [
    {
     "name": "stdout",
     "output_type": "stream",
     "text": [
      "Success\n",
      "Counterexample: (-1 -2 0 5 5 0 1 4 5 -4 7 -1 1 -10 0 9 7 0 -10 5)\n",
      "Failed!\n"
     ]
    }
   ],
   "source": [
    "\n",
    "(define (range n)\n",
    "  (if (<= n 0)\n",
    "      '()\n",
    "      (cons (- n 1) (range (- n 1)))))\n",
    "\n",
    "(define (identity x)\n",
    "  x)\n",
    "\n",
    "(define (random-integer-list n)\n",
    "  (map (lambda (_) (random -10 10)) (range n)))\n",
    "\n",
    "(define (functor-law-1 map)\n",
    "  (define (check-law lst)\n",
    "    (let ([mapped (map identity lst)])\n",
    "      (if (equal? mapped lst)\n",
    "          #t\n",
    "          (begin\n",
    "            (printf \"Counterexample: ~a\\n\" lst)\n",
    "            #f))))\n",
    "  (define random-size (random 1 101))\n",
    "  (define lst (random-integer-list random-size))\n",
    "  (check-law lst))\n",
    "\n",
    "(define (check prop)\n",
    "  (if prop\n",
    "      (printf \"Success\\n\")\n",
    "      (printf \"Failed!\\n\")))\n",
    "\n",
    "(check (functor-law-1 map)) \n",
    "\n",
    "(define (bad-map f xs) (reverse xs))\n",
    "\n",
    "(check (functor-law-1 bad-map))\n"
   ]
  },
  {
   "cell_type": "markdown",
   "id": "aa8d962e-35f3-43b0-b98b-af6cdcc761d5",
   "metadata": {},
   "source": [
    "**Exercise 1.4.5** (+0.25% extra credit). Implement a function `functor-law-2` such that `(functor-law-2 map)`\n",
    "is a property that checks if for functions `f` and `g` and any list `lst`, mapping a composition of functions\n",
    "is equivalent to a composition of maps:\n",
    "\n",
    "```\n",
    "(map f (map g lst))\n",
    "; should be the same as\n",
    "(map (lambda (x) (f (g x))) lst)\n",
    "```\n",
    "\n",
    "It is enough to check lists of integers of random size (up to 100 elements).\n",
    "\n",
    "```\n",
    "(check (functor-law-2 map))\n",
    "; Success\n",
    "\n",
    "(check (functor-law-2 bad-map))\n",
    "; Falsified!\n",
    "; Counterexample: ((#<procedure:...> #<procedure:...>) 2 1 2 7 0 9 2 9)\n",
    "```"
   ]
  },
  {
   "cell_type": "code",
   "execution_count": 117,
   "id": "adc22e93-f037-46c8-b913-20b2563a252d",
   "metadata": {
    "vscode": {
     "languageId": "racket"
    }
   },
   "outputs": [
    {
     "name": "stdout",
     "output_type": "stream",
     "text": [
      "Success\n",
      "Falsified!\n",
      "Counterexample: (#<procedure:f> #<procedure:g> (81 19 60 76 99 14 57 11 53 74 28 94 41 38 99 40 80 30 56 34 36 0 18 65 53 66 30))\n"
     ]
    }
   ],
   "source": [
    "\n",
    "(define (functor-law-2 map)\n",
    "  (λ ()\n",
    "    (let* ([lst (build-list (random 101) (λ (_) (random 100)))]\n",
    "           [f (λ (x) (+ x 1))]                            \n",
    "           [g (λ (x) (* x 2))])                      \n",
    "      (if (equal? (map f (map g lst))\n",
    "                  (map (λ (x) (f (g x))) lst))\n",
    "          #t\n",
    "          (list f g lst)))))\n",
    "\n",
    "\n",
    "(define (bad-map f lst)\n",
    "  (if (null? lst)\n",
    "      '()\n",
    "      (cons (f (car lst)) lst)))\n",
    "\n",
    "(define (check prop)\n",
    "  (let loop ([n 100])\n",
    "    (cond\n",
    "      [(zero? n) (displayln \"Success\")]\n",
    "      [else\n",
    "       (let ([result (prop)])\n",
    "         (if result\n",
    "             (if (eq? result #t)\n",
    "                 (loop (sub1 n))\n",
    "                 (begin\n",
    "                   (displayln \"Falsified!\")\n",
    "                   (displayln (format \"Counterexample: ~a\" result))))\n",
    "             (loop (sub1 n))))])))\n",
    "\n",
    "(check (functor-law-2 map))\n",
    "\n",
    "(check (functor-law-2 bad-map))\n"
   ]
  },
  {
   "cell_type": "markdown",
   "id": "ec571fe3-d1dc-49f0-b345-f0159ac3d988",
   "metadata": {},
   "source": [
    "**Exercise 1.4.6** (+0.25% extra credit). Implement a function `filter-shortens-list` such that\n",
    "`(filter-shortens-list filt)` is a property that checks `(filt p lst)` is shorter than `lst` for any\n",
    "predicate `p` and any list `lst`. It is enough to check lists of integers of random size (up to 100 elements).\n",
    "\n",
    "```\n",
    "(filter p xs)\n",
    "; should be the same length or shorter than xs\n",
    "```\n",
    "\n",
    "It is enough to check lists of integers of random size (up to 100 elements).\n",
    "\n",
    "```\n",
    "(check (filter-shortens-list filter))\n",
    "; Success\n",
    "\n",
    "(define (bad-filter p lst)\n",
    "    (append (filter p lst) (filter p lst)))\n",
    "(check (filter-shortens-list bad-filter))\n",
    "Falsified!\n",
    "Counterexample: (#<procedure:...> 2 1 2 7 0 9 2 9)\n",
    "```"
   ]
  },
  {
   "cell_type": "code",
   "execution_count": 138,
   "id": "1eff2816-ec6d-4949-a8b5-385c6b920c76",
   "metadata": {
    "vscode": {
     "languageId": "racket"
    }
   },
   "outputs": [
    {
     "name": "stdout",
     "output_type": "stream",
     "text": [
      "Success\n",
      "Falsified!\n",
      "Counterexample: (#<procedure:p> (90 17 26 15 21 50 50 6 12 24 59))\n"
     ]
    }
   ],
   "source": [
    "\n",
    "(define (filter-shortens-list filt)\n",
    "  (λ ()\n",
    "    (let* ([lst (build-list (random 101) (λ (_) (random 100)))] \n",
    "           [p (λ (x) (< x 50))]                                \n",
    "           [filtered (filt p lst)])                            \n",
    "      (if (<= (length filtered) (length lst))\n",
    "          #t                                                  \n",
    "          (list p lst)))))                                    \n",
    "\n",
    "\n",
    "(define (bad-filter p lst)\n",
    "  (append (filter p lst) (filter p lst)))\n",
    "\n",
    "(define (check prop)\n",
    "  (let loop ([n 100])\n",
    "    (cond\n",
    "      [(zero? n) (displayln \"Success\")]    \n",
    "      [else\n",
    "       (let ([result (prop)])       \n",
    "         (if (eq? result #t)\n",
    "             (loop (sub1 n))     \n",
    "             (begin\n",
    "               (displayln \"Falsified!\") \n",
    "               (displayln (format \"Counterexample: ~a\" result)))))]))) \n",
    "\n",
    "(check (filter-shortens-list filter))\n",
    "\n",
    "(check (filter-shortens-list bad-filter))\n"
   ]
  },
  {
   "cell_type": "markdown",
   "id": "98ad658f-8769-4604-b770-10cf26f1f40e",
   "metadata": {},
   "source": [
    "## **1.5 Proving Properties**\n",
    "\n",
    "In this section, using equational reasoning (aka the Substitution Model [1, §1.1.5]) prove formally the\n",
    "properties that you have checked in the previous section."
   ]
  },
  {
   "cell_type": "markdown",
   "id": "110174d4-3e4a-4519-a69b-701403308223",
   "metadata": {},
   "source": [
    "**Exercise 1.5.1** (5 points). Prove the first functor law for `map` and lists. Specifically, provide a correct\n",
    "definition of `map` and show that for any list `lst`, you have\n",
    "\n",
    "```\n",
    "(map identity lst) = ... = lst\n",
    "```"
   ]
  },
  {
   "cell_type": "markdown",
   "id": "696ee7d6-0b86-470f-9e37-2540ae3f9d0e",
   "metadata": {},
   "source": [
    "1. Define `map`\n",
    "   \n",
    "    ```\n",
    "    (define (map f lst)\n",
    "      (if (null? lst)\n",
    "        '()                         \n",
    "        (cons (f (car lst))         \n",
    "              (map f (cdr lst))))) \n",
    "    ```\n",
    "    Base case is empty list. Then, apply `f` to the first element. After that recursively apply f to the rest of the list.\n",
    "\n",
    "2. Prove the Functor Law\n",
    "\n",
    "   1. Base Case:\n",
    "      \n",
    "      - For the empty list:\n",
    "\n",
    "   \n",
    "      ```\n",
    "      map identity ’()=’()\n",
    "      ```\n",
    "\n",
    "      - This holds because by definition of `map`, when `lst` is empty, it returns an empty list.\n",
    "   2. Inductive Step\n",
    "\n",
    "      - Assume the property holds for a list `lst`, which means: `map identity lst=lst`\n",
    "      - We want to prove it for the list `(cons x lst)` where `x` is the head of the list and `lst` is the tail.\n",
    "        ```\n",
    "        map identity (cons x lst)=cons (identity x) (map identity lst)\n",
    "        ```\n",
    "      - By the definition of the identity function: `identity x=x`\n",
    "      - Therefore, we can substitute:\n",
    "        ```\n",
    "        map identity (cons x lst)=cons x (map identity lst)\n",
    "        ```\n",
    "      - By the inductive hypothesis: `map identity lst=lst`\n",
    "      - We substitute this back into the equation:\n",
    "        ```\n",
    "          map identity (cons x lst)=cons x lst\n",
    "        ```\n",
    "\n",
    "Both the base case and inductive step hold true, therefore, we can conclude that for any list `lst`: `map identity lst=lst`"
   ]
  },
  {
   "cell_type": "markdown",
   "id": "6c2e48d4-7fa9-4c17-a260-1bdf46e1221b",
   "metadata": {},
   "source": [
    "**Exercise 1.5.2** (5 points). Prove the second functor law for `map` and lists. Specifically, provide a\n",
    "correct definition of `map` and show that for any *pure* functions `f` and `g` and any list `lst`, you have\n",
    "\n",
    "```\n",
    "(map f (map g lst)) = ... = (map (lambda (x) (f (g x))) lst)\n",
    "```"
   ]
  },
  {
   "cell_type": "markdown",
   "id": "0e25cf85-fd84-4559-9756-2bc2637f03a4",
   "metadata": {},
   "source": [
    "1. Base Case (Empty List):\n",
    "   \n",
    "    When the list is empty `(lst = '())`, both sides of the equation should evaluate to an empty list:\n",
    "\n",
    "    - Left-hand side:\n",
    "      \n",
    "        $\\text{map } f (\\text{map } g \\, '()) = \\text{map } f \\, '() = '()$\n",
    "      \n",
    "      This holds because map applied to an empty list always returns an empty list.\n",
    "\n",
    "    - Right-hand side:\n",
    "\n",
    "        $\\text{map } (\\lambda (x) \\, (f (g x))) \\, '() = '()$\n",
    "      \n",
    "       This also holds because map applied to an empty list returns an empty list.\n",
    "\n",
    "      **Thus, both sides are equal for the empty list.**\n",
    "\n",
    "2. Inductive Step (Non-Empty List):\n",
    "\n",
    "   Now, assume the property holds for a list `lst`. That is, assume:\n",
    "\n",
    "   `map f(map g lst) = map (lambda(x)(f(gx)))lst`\n",
    "\n",
    "   We need to prove the property holds for a list of the form `(cons x lst)`, where `x` is the head of the list and `lst` is the tail.\n",
    "\n",
    "   - **LHS:**\n",
    "\n",
    "     `map f(map g(cons x lst)) = map f(cons (gx)(map g lst))`\n",
    "\n",
    "     By the definition of `map`, this becomes:\n",
    "\n",
    "     `cons (f(gx))(map f(map g lst))`\n",
    "\n",
    "     Using the inductive hypothesis, we know:\n",
    "\n",
    "     `map f(map g lst) = map (lambda(x)(f(gx)))lst`\n",
    "\n",
    "     Therefore, we substitute this in:\n",
    "\n",
    "     `cons (f(gx))(map (lambda(x)(f(gx)))lst)`\n",
    "\n",
    "   - **RHS:**\n",
    "  \n",
    "     `map (lambda(x)(f(gx)))(cons x lst) = cons ((lambda(x)(f(gx)))x)(map (lambda(x)(f(gx)))lst)`\n",
    "\n",
    "     Simplifying the application of the lambda function:\n",
    "\n",
    "     `cons (f(gx))(map (lambda(x)(f(gx)))lst)`\n",
    "\n",
    "Thus, both the **LHS** and **RHS** simplify to the same expression:\n",
    "\n",
    "`cons (f(gx))(map (lambda(x)(f(gx)))lst)`\n",
    "\n",
    "Since both the base case (empty list) and the inductive step (non-empty list) have been shown to hold, we can conclude by mathematical induction that for all lists `lst` and for all functions `f` and `g`:\n",
    "\n",
    "```\n",
    "map f(map g lst)=map (lambda(x)(f(gx)))lst\n",
    "```"
   ]
  },
  {
   "cell_type": "markdown",
   "id": "308264bd-b781-4ea9-ac6c-39a4f1c91a16",
   "metadata": {},
   "source": [
    "**Exercise 1.5.3** (+0.25% extra credit). Prove that filtering a list cannot increase its length. Specifically, provide a correct definition of `filter` and show that for any *pure* predicate `p` and any list `lst`,\n",
    "you have\n",
    "\n",
    "```\n",
    "(length (filter p lst)) <= (length lst)\n",
    "```\n",
    "\n"
   ]
  },
  {
   "cell_type": "markdown",
   "id": "f8237b7b-a734-4a94-b01f-5f419b729ed6",
   "metadata": {},
   "source": [
    "1. Define `filter`\n",
    "```\n",
    "(define (filter p lst)\n",
    "  (if (null? lst)\n",
    "      '()                                    \n",
    "      (let ([first (car lst)]                \n",
    "            [rest (cdr lst)])                \n",
    "        (if (p first)                        \n",
    "            (cons first (filter p rest))     \n",
    "            (filter p rest)))))\n",
    "```\n",
    "\n",
    "It applies a predicate `p` to each element of a list, retaining only those elements for which the predicate returns `#t`\n",
    "\n",
    "2. Prove Using Induction (Empty list)\n",
    "   \n",
    "    1. Base Case:\n",
    "\n",
    "       - When the list is empty `(lst = '())`:\n",
    "       \n",
    "       - Left-hand side:\n",
    "    \n",
    "        $\\text{length}(\\text{filter } p \\, '()) = \\text{length}('()) = 0$\n",
    "\n",
    "       - Right-hand side (RHS):\n",
    "\n",
    "\n",
    "        $\\text{length}('()) = 0$\n",
    "\n",
    "       Thus, for the empty list:\n",
    "\n",
    "       $0≤0$\n",
    "\n",
    "       This holds, so the property is true for the base case.\n",
    "\n",
    "3. Inductive Step (Non-Empty List)\n",
    "\n",
    "   Now, assume the property holds for a list `lst`, meaning:\n",
    "\n",
    "   `length(filter p lst) ≤ length(lst)`\n",
    "\n",
    "   Prove that the property holds for a list of the form `(cons x lst)`, where `x` is the head of the list and `lst` is the tail.\n",
    "\n",
    "   Consider two cases for the element `x`:\n",
    "\n",
    "   - **Case 1**: `p(x)` is true:\n",
    "  \n",
    "     In this case, `x` is included in the filtered list.\n",
    "\n",
    "     The lengths of both sides of the equation are:\n",
    "\n",
    "     **LHS**: `length(filter p(cons x lst)) = 1 + length(filter p lst)`\n",
    "\n",
    "     **RHS**: `length(cons x lst) = 1 + length(lst)`\n",
    "\n",
    "     By the inductive hypothesis: `length(filter p lst) ≤ length(lst)`\n",
    "\n",
    "     Thus: `1 + length(filter p lst) ≤ 1 + length(lst)`\n",
    "\n",
    "     Therefore: `length(filter p (cons x lst)) ≤ length(cons x lst)`\n",
    "\n",
    "   - **Case 2** : `p(x)` is false:\n",
    "\n",
    "     In this case, `x` is not included in the filtered list.\n",
    "\n",
    "     The lengths of both sides of the equation are:\n",
    "\n",
    "     **LHS**: `length(filter p (cons x lst)) = length(filter p lst)`\n",
    "\n",
    "     **RHS**: `length(cons x lst) = 1 + length(lst)`\n",
    "\n",
    "    By the inductive hypothesis: `length(filter p lst) ≤ length(lst)`\n",
    "\n",
    "   Thus: `length(filter p (cons x lst)) ≤ 1 + length(lst)`\n",
    "\n",
    "Since both the base case (empty list) and the inductive step (non-empty list) have been shown to hold, we can conclude by mathematical induction that for any predicate `p` and any list `lst`:\n",
    "\n",
    "`length(filter plst) ≤ length(lst)`\n",
    "\n",
    "\n",
    "This proves that filtering a list cannot increase its length."
   ]
  },
  {
   "cell_type": "markdown",
   "id": "8957fa80",
   "metadata": {},
   "source": []
  }
 ],
 "metadata": {
  "kernelspec": {
   "display_name": "Racket",
   "language": "racket",
   "name": "racket"
  },
  "language_info": {
   "codemirror_mode": "scheme",
   "file_extension": ".rkt",
   "mimetype": "text/x-racket",
   "name": "Racket",
   "pygments_lexer": "racket",
   "version": "8.14"
  }
 },
 "nbformat": 4,
 "nbformat_minor": 5
}
