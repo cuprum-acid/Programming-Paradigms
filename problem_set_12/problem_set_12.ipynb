{
 "cells": [
  {
   "cell_type": "markdown",
   "id": "294edc9a-f5f5-44bb-a6a7-01bd75aba2ed",
   "metadata": {},
   "source": [
    "# Week 12. Problem set (+1% extra credit)\n",
    "\n",
    "Evgeny Bobkunov\n",
    "\n",
    "e.bobkunov@innopolis.university\n",
    "\n",
    "SD-03\n",
    "\n",
    "In the following exercises, use this knowledge base:"
   ]
  },
  {
   "cell_type": "code",
   "execution_count": 403,
   "id": "b5db60c1-cb9e-451d-8b93-c692e3dbbed1",
   "metadata": {},
   "outputs": [],
   "source": [
    "(require minikanren)\n",
    "(require minikanren/matche)\n",
    "\n",
    "(defrel (studento name group)\n",
    "    (matche (cons name group)\n",
    "        [(alisa . 2)]\n",
    "        [(bob . 1)]\n",
    "        [(chloe . 2)]\n",
    "        [(denise . 1)]\n",
    "        [(edward . 2)]))\n",
    "\n",
    "(defrel (friendo name1 name2)\n",
    "    (matche (cons name1 name2)\n",
    "        [(alisa . bob)]\n",
    "        [(alisa . denise)]\n",
    "        [(bob . chloe)]\n",
    "        [(bob . edward)]\n",
    "        [(chloe . denise)]\n",
    "        [(denise . edward)]))\n",
    "\n",
    "(defrel (parento parent-name child-name)\n",
    "    (matche (cons parent-name child-name)\n",
    "        [(marjorie . bart)]\n",
    "        [(marjorie . lisa)]\n",
    "        [(marjorie . maggie)]\n",
    "        [(homer . bart)]\n",
    "        [(homer . lisa)]\n",
    "        [(homer . maggie)]\n",
    "        [(abraham . homer)]\n",
    "        [(mona . homer)]\n",
    "        [(jacqueline . marjorie)]\n",
    "        [(jacqueline . patty)]\n",
    "        [(jacqueline . selma)]\n",
    "        [(clancy . marjorie)]\n",
    "        [(clancy . patty)]\n",
    "        [(clancy . selma)]\n",
    "        [(selma . ling)]))\n",
    "\n",
    "(defrel (unaryo n)\n",
    "    (conde\n",
    "        [(== 'z n)]\n",
    "        [(fresh (m)\n",
    "            (== `(s ,m) n)\n",
    "            (unaryo m))]))"
   ]
  },
  {
   "cell_type": "markdown",
   "id": "bd8baf2b-2bd7-4941-8d71-ad3f0632ec90",
   "metadata": {},
   "source": [
    "1. Write down relation `groupmateso` that checks whether two students are from the same group.\n",
    "\n",
    "```\n",
    "(run 1 (q) (groupmateso 'alisa 'bob)) ; '()\n",
    "(run 1 (q) (groupmateso 'alisa 'edward)) ; '(_.0)\n",
    "```"
   ]
  },
  {
   "cell_type": "code",
   "execution_count": 73,
   "id": "7e2f3dce-716a-4a12-8cf6-cae4180f6421",
   "metadata": {},
   "outputs": [
    {
     "data": {
      "text/html": [
       "<code>'()</code>"
      ],
      "text/plain": [
       "'()"
      ]
     },
     "execution_count": 73,
     "metadata": {},
     "output_type": "execute_result"
    }
   ],
   "source": [
    "(defrel (groupmateso name1 name2)\n",
    "  (fresh (group1 group2)\n",
    "    (studento name1 group1)\n",
    "    (studento name2 group2)\n",
    "    (== group1 group2)))\n",
    "\n",
    "(run 1 (q) (groupmateso 'alisa 'bob))"
   ]
  },
  {
   "cell_type": "code",
   "execution_count": 75,
   "id": "4d822ea6-ad53-42ef-a618-86a43d21fd3f",
   "metadata": {},
   "outputs": [
    {
     "data": {
      "text/html": [
       "<code>'(_.0)</code>"
      ],
      "text/plain": [
       "'(_.0)"
      ]
     },
     "execution_count": 75,
     "metadata": {},
     "output_type": "execute_result"
    }
   ],
   "source": [
    "(run 1 (q) (groupmateso 'alisa 'edward))"
   ]
  },
  {
   "cell_type": "markdown",
   "id": "da3178a9-be35-48d2-a91c-2bbbda559dd9",
   "metadata": {},
   "source": [
    "2. Implement predicate `relativeo` that checks whether two people are related by blood (share a common ancestor):\n",
    "\n",
    "```\n",
    "(run 1 (q) (relativeo 'selma 'patty)) ; '(_.0)\n",
    "(run 1 (q) (relativeo 'lisa 'ling)) ; '(_.0)\n",
    "(run 1 (q) (relativeo 'lisa 'selma)) ; '(_.0)\n",
    "(run 1 (q) (relativeo 'homer 'selma)) ; '()\n",
    "```"
   ]
  },
  {
   "cell_type": "code",
   "execution_count": 98,
   "id": "a5433d66-7cb2-4cf0-b860-138f7588c74a",
   "metadata": {},
   "outputs": [],
   "source": [
    "(defrel (ancestoro person ancestor)\n",
    "  (conde\n",
    "    [(parento ancestor person)]\n",
    "    [(fresh (parent)\n",
    "      (parento parent person)\n",
    "      (ancestoro parent ancestor))]))\n",
    "\n",
    "(defrel (common-ancestoro person1 person2)\n",
    "  (fresh (ancestor)\n",
    "    (ancestoro person1 ancestor)\n",
    "    (ancestoro person2 ancestor)))\n",
    "\n",
    "(defrel (relativeo person1 person2)\n",
    "  (conde\n",
    "    [(common-ancestoro person1 person2)]\n",
    "    [(ancestoro person2 person1)]\n",
    "    [(ancestoro person1 person2)]))"
   ]
  },
  {
   "cell_type": "code",
   "execution_count": 90,
   "id": "94500f32-fe7a-470e-891f-4d3d7f634d62",
   "metadata": {},
   "outputs": [
    {
     "data": {
      "text/html": [
       "<code>'(_.0)</code>"
      ],
      "text/plain": [
       "'(_.0)"
      ]
     },
     "execution_count": 90,
     "metadata": {},
     "output_type": "execute_result"
    }
   ],
   "source": [
    "(run 1 (q) (relativeo 'selma 'patty)) ; '(_.0)"
   ]
  },
  {
   "cell_type": "code",
   "execution_count": 92,
   "id": "0fcbef50-9e4f-40d6-9828-07ad7be7d348",
   "metadata": {},
   "outputs": [
    {
     "data": {
      "text/html": [
       "<code>'(_.0)</code>"
      ],
      "text/plain": [
       "'(_.0)"
      ]
     },
     "execution_count": 92,
     "metadata": {},
     "output_type": "execute_result"
    }
   ],
   "source": [
    "(run 1 (q) (relativeo 'lisa 'ling)) ; '(_.0)"
   ]
  },
  {
   "cell_type": "code",
   "execution_count": 94,
   "id": "40c3f3ae-c846-43c9-9a66-0ac2115f0b9d",
   "metadata": {},
   "outputs": [
    {
     "data": {
      "text/html": [
       "<code>'(_.0)</code>"
      ],
      "text/plain": [
       "'(_.0)"
      ]
     },
     "execution_count": 94,
     "metadata": {},
     "output_type": "execute_result"
    }
   ],
   "source": [
    "(run 1 (q) (relativeo 'lisa 'selma)) ; '(_.0)\n"
   ]
  },
  {
   "cell_type": "code",
   "execution_count": 96,
   "id": "13a7bcca-0f57-4686-9aa7-84bfab16718f",
   "metadata": {},
   "outputs": [
    {
     "data": {
      "text/html": [
       "<code>'()</code>"
      ],
      "text/plain": [
       "'()"
      ]
     },
     "execution_count": 96,
     "metadata": {},
     "output_type": "execute_result"
    }
   ],
   "source": [
    "(run 1 (q) (relativeo 'homer 'selma)) ; '()"
   ]
  },
  {
   "cell_type": "markdown",
   "id": "c90e1a33-d8cb-4155-b9ca-1d6df427d43d",
   "metadata": {},
   "source": [
    "3. Implement the following predicates for unary numbers:\n",
    "\n",
    "    (a) Implement a predicate `doubleo` that checks if first number is exactly two times the second:\n",
    "\n",
    "```\n",
    "(run 1 (q) (doubleo '(s (s z)) '(s (s (s (s z)))))) ; '(_.0)\n",
    "(run 1 (x) (doubleo '(s (s z)) x)) ; '((s (s (s (s z)))))\n",
    "(run 1 (x) (doubleo x '(s (s (s (s z)))))) ; '((s (s z)))\n",
    "(run 1 (x) (doubleo x '(s (s (s z))))) ; '()\n",
    "```"
   ]
  },
  {
   "cell_type": "code",
   "execution_count": 165,
   "id": "1763b817-cdbf-4432-ae9f-25fac18706f3",
   "metadata": {},
   "outputs": [],
   "source": [
    "(defrel (pluso n m sum)\n",
    "  (conde\n",
    "    [(== n 'z) (== m sum)]\n",
    "    [(fresh (n-1 sum-1)\n",
    "      (== n `(s ,n-1))\n",
    "      (== sum `(s ,sum-1))\n",
    "      (pluso n-1 m sum-1))]))\n",
    "\n",
    "(defrel (doubleo n m)\n",
    "  (fresh (temp q)\n",
    "    (pluso n n m)))"
   ]
  },
  {
   "cell_type": "code",
   "execution_count": 157,
   "id": "6d7de3a8-3065-4c70-ace9-4f18c0baf4e7",
   "metadata": {},
   "outputs": [
    {
     "data": {
      "text/html": [
       "<code>'(_.0)</code>"
      ],
      "text/plain": [
       "'(_.0)"
      ]
     },
     "execution_count": 157,
     "metadata": {},
     "output_type": "execute_result"
    }
   ],
   "source": [
    "(run 1 (q) (doubleo '(s (s z)) '(s (s (s (s z)))))) ; '(_.0)"
   ]
  },
  {
   "cell_type": "code",
   "execution_count": 159,
   "id": "85cc236c-92aa-4321-8bec-0b53d28a90ef",
   "metadata": {},
   "outputs": [
    {
     "data": {
      "text/html": [
       "<code>'((s (s (s (s z)))))</code>"
      ],
      "text/plain": [
       "'((s (s (s (s z)))))"
      ]
     },
     "execution_count": 159,
     "metadata": {},
     "output_type": "execute_result"
    }
   ],
   "source": [
    "(run 1 (x) (doubleo '(s (s z)) x)) ; '((s (s (s (s z)))))"
   ]
  },
  {
   "cell_type": "code",
   "execution_count": 161,
   "id": "a7607879-a292-410c-9a15-94145f1efeda",
   "metadata": {},
   "outputs": [
    {
     "data": {
      "text/html": [
       "<code>'((s (s z)))</code>"
      ],
      "text/plain": [
       "'((s (s z)))"
      ]
     },
     "execution_count": 161,
     "metadata": {},
     "output_type": "execute_result"
    }
   ],
   "source": [
    "(run 1 (x) (doubleo x '(s (s (s (s z)))))) ; '((s (s z)))"
   ]
  },
  {
   "cell_type": "code",
   "execution_count": 163,
   "id": "8e75eed0-ad47-46f1-ac5a-956cf3ba8ead",
   "metadata": {},
   "outputs": [
    {
     "data": {
      "text/html": [
       "<code>'()</code>"
      ],
      "text/plain": [
       "'()"
      ]
     },
     "execution_count": 163,
     "metadata": {},
     "output_type": "execute_result"
    }
   ],
   "source": [
    "(run 1 (x) (doubleo x '(s (s (s z))))) ; '()"
   ]
  },
  {
   "cell_type": "markdown",
   "id": "cc24b39d-62bf-40b6-a387-e872082d6572",
   "metadata": {},
   "source": [
    "(b) Implement a predicate `leqo` that checks if the first number is less than or equal to the second numbers:\n",
    "\n",
    "```\n",
    "(run 1 (q) (leqo '(s (s z)) '(s (s (s (z)))))) ; '(_.0)\n",
    "(run 1 (q) (leqo '(s (s (s (s z)))) '(s (s (s z))))) ; '()\n",
    "```"
   ]
  },
  {
   "cell_type": "code",
   "execution_count": 185,
   "id": "074cf33e-fcd5-4f91-a76f-1e8260de27e3",
   "metadata": {},
   "outputs": [],
   "source": [
    "(defrel (leqo n m)\n",
    "  (conde\n",
    "    [(== n 'z)]\n",
    "    [(== n m)]\n",
    "    [(fresh (n-1 m-1)\n",
    "      (== n `(s ,n-1))\n",
    "      (== m `(s ,m-1))\n",
    "      (leqo n-1 m-1))]\n",
    "    [(fresh (m-1)\n",
    "      (== m `(s ,m-1))\n",
    "      (leqo n m-1))]))"
   ]
  },
  {
   "cell_type": "code",
   "execution_count": 187,
   "id": "7d7dd8b2-4b23-4837-b401-a02b0eef8a36",
   "metadata": {},
   "outputs": [
    {
     "data": {
      "text/html": [
       "<code>'(_.0)</code>"
      ],
      "text/plain": [
       "'(_.0)"
      ]
     },
     "execution_count": 187,
     "metadata": {},
     "output_type": "execute_result"
    }
   ],
   "source": [
    "(run 1 (q) (leqo '(s (s z)) '(s (s (s (z)))))) ; '(_.0)"
   ]
  },
  {
   "cell_type": "code",
   "execution_count": 189,
   "id": "af75b4d0-39cf-43e9-b805-6039edc28952",
   "metadata": {},
   "outputs": [
    {
     "data": {
      "text/html": [
       "<code>'()</code>"
      ],
      "text/plain": [
       "'()"
      ]
     },
     "execution_count": 189,
     "metadata": {},
     "output_type": "execute_result"
    }
   ],
   "source": [
    "(run 1 (q) (leqo '(s (s (s (s z)))) '(s (s (s z))))) ; '()"
   ]
  },
  {
   "cell_type": "markdown",
   "id": "3cb02a86-e166-4303-955e-7bd74d8d78b3",
   "metadata": {},
   "source": [
    "(c) Implement multiplication for unary numbers as a predicate `multo`:\n",
    "\n",
    "```\n",
    "(run 1 (x) (multo '(s (s z)) '(s (s (s z))) x)) ; '((s (s (s (s (s (s z)))))))\n",
    "(run 1 (x) (multo x '(s (s (s z))) '(s (s (s (s (s (s (z))))))))) ; '((s (s z)))\n",
    "```"
   ]
  },
  {
   "cell_type": "code",
   "execution_count": 251,
   "id": "f7a4b51b-c946-4043-b720-c385b600f637",
   "metadata": {},
   "outputs": [],
   "source": [
    "(defrel (pluso n m sum)\n",
    "  (conde\n",
    "    [(== n 'z) (== m sum)]\n",
    "    [(fresh (n-1 sum-1)\n",
    "      (== n `(s ,n-1))\n",
    "      (== sum `(s ,sum-1))\n",
    "      (pluso n-1 m sum-1))]))\n",
    "\n",
    "(defrel (multo n m p)\n",
    "  (conde \n",
    "    ; 0 × m = 0\n",
    "    [(== n 'z) (== p 'z)]\n",
    "    ; (1 + n) × m = m + (n × m)\n",
    "    [(fresh (n-1 p-1)\n",
    "      (== n `(s ,n-1))\n",
    "      (multo n-1 m p-1)\n",
    "      (pluso m p-1 p))]))"
   ]
  },
  {
   "cell_type": "code",
   "execution_count": 253,
   "id": "36682b4d-13a1-44ba-a123-81ac9c7a59cb",
   "metadata": {},
   "outputs": [
    {
     "data": {
      "text/html": [
       "<code>'((s (s (s (s (s (s z)))))))</code>"
      ],
      "text/plain": [
       "'((s (s (s (s (s (s z)))))))"
      ]
     },
     "execution_count": 253,
     "metadata": {},
     "output_type": "execute_result"
    }
   ],
   "source": [
    "(run 1 (x) (multo '(s (s z)) '(s (s (s z))) x)) ; '((s (s (s (s (s (s z)))))))\n"
   ]
  },
  {
   "cell_type": "code",
   "execution_count": null,
   "id": "d83c5f88-b8bd-4842-ad7d-955abbee8fc3",
   "metadata": {},
   "outputs": [],
   "source": [
    "(run 1 (x) (multo x '(s (s (s z))) '(s (s (s (s (s (s (z))))))))) ; '((s (s z)))"
   ]
  },
  {
   "cell_type": "markdown",
   "id": "1e6138b8-4b8e-47d0-a5d3-62b92a1085e8",
   "metadata": {},
   "source": [
    "(d) Implement a predicate `power-of-2o` such that `(power-of-2o n m)` is true when $m = 2^n$:\n",
    "\n",
    "```\n",
    "(run 1 (q) (power-of-2o '(s (s z)) '(s (s (s (s z)))))) ; '(_.0)\n",
    "(run 1 (x) (power-of-2o x '(s (s (s z))))) ; '()\n",
    "(run 1 (x) (power-of-2o '(s z) x)) ; '((s (s z)))\n",
    "(run 3 (x y) (power-of-2o x y))\n",
    "; '((z (s z))\n",
    "; ((s z) (s (s z)))\n",
    "; ((s (s z)) (s (s (s (s z))))))\n",
    "```\n",
    "\n",
    "*Hint: for the last query to produce each result in finite time, you need to put an upper bound\n",
    "on the second argument, e.g. using `leqo`.*"
   ]
  },
  {
   "cell_type": "code",
   "execution_count": 296,
   "id": "7b8d19cd-46fe-4faa-8bab-c86bb182fbb3",
   "metadata": {},
   "outputs": [],
   "source": [
    "(defrel (leqo n m)\n",
    "  (conde\n",
    "    [(== n 'z)]\n",
    "    [(== n m)]\n",
    "    [(fresh (n-1 m-1)\n",
    "      (== n `(s ,n-1))\n",
    "      (== m `(s ,m-1))\n",
    "      (leqo n-1 m-1))]\n",
    "    [(fresh (m-1)\n",
    "      (== m `(s ,m-1))\n",
    "      (leqo n m-1))]))\n",
    "\n",
    "(defrel (power-of-2o n m)\n",
    "  (conde\n",
    "    [(== n 'z) (== m '(s z))]\n",
    "    [(fresh (n-1 m-1)\n",
    "      (== n `(s ,n-1))\n",
    "      (leqo m '(s (s (s (s (s (s (s (s z)))))))))\n",
    "      (power-of-2o n-1 m-1)\n",
    "      (multo '(s (s z)) m-1 m))]))"
   ]
  },
  {
   "cell_type": "code",
   "execution_count": 298,
   "id": "76ab8f66-bea3-4c18-aa09-9ec2cfbd3b6f",
   "metadata": {},
   "outputs": [
    {
     "data": {
      "text/html": [
       "<code>'(_.0)</code>"
      ],
      "text/plain": [
       "'(_.0)"
      ]
     },
     "execution_count": 298,
     "metadata": {},
     "output_type": "execute_result"
    }
   ],
   "source": [
    "(run 1 (q) (power-of-2o '(s (s z)) '(s (s (s (s z))))))"
   ]
  },
  {
   "cell_type": "code",
   "execution_count": null,
   "id": "78a38cd1-f0ec-4ff5-8eee-f4f7d7e8efda",
   "metadata": {},
   "outputs": [],
   "source": [
    "(run 1 (x) (power-of-2o x '(s (s (s z))))) "
   ]
  },
  {
   "cell_type": "code",
   "execution_count": 301,
   "id": "d2f3bee2-ec17-48a4-a1f7-5cdfdf9944fa",
   "metadata": {},
   "outputs": [
    {
     "data": {
      "text/html": [
       "<code>'((s (s z)))</code>"
      ],
      "text/plain": [
       "'((s (s z)))"
      ]
     },
     "execution_count": 301,
     "metadata": {},
     "output_type": "execute_result"
    }
   ],
   "source": [
    "(run 1 (x) (power-of-2o '(s z) x))"
   ]
  },
  {
   "cell_type": "code",
   "execution_count": 303,
   "id": "11ba7f04-b091-4350-ac3e-258158c592d2",
   "metadata": {},
   "outputs": [
    {
     "data": {
      "text/html": [
       "<code>'((z (s z)) ((s z) (s (s z))) ((s z) (s (s z))))</code>"
      ],
      "text/plain": [
       "'((z (s z)) ((s z) (s (s z))) ((s z) (s (s z))))"
      ]
     },
     "execution_count": 303,
     "metadata": {},
     "output_type": "execute_result"
    }
   ],
   "source": [
    "(run 3 (x y) (power-of-2o x y))"
   ]
  },
  {
   "cell_type": "markdown",
   "id": "8d8c4c20-0a2c-4f7d-b9eb-c5bcf9f7b0ed",
   "metadata": {},
   "source": [
    "4. Implement the following relations on lists:\n",
    "\n",
    "(a) Implement relation `subseqo` that checks whether the first list is a subsequence of the second list:\n",
    "\n",
    "```\n",
    "(run* (q) (subseqo '(2 4 5) '(1 2 3 4 5 6)))\n",
    "; '(_.0)\n",
    "\n",
    "(run* (xs) (subseqo xs '(1 2 3)))\n",
    "; '(() (1) (2) (1 2) (3) (1 3) (2 3) (1 2 3))\n",
    "\n",
    "(run* (xs)\n",
    "    (fresh (a b c)\n",
    "        (== xs `(,a ,b ,c))\n",
    "        (subseqo '(1 2) xs)))\n",
    "; '((1 2 _.0) (1 _.0 2) (_.0 1 2))\n",
    "```\n"
   ]
  },
  {
   "cell_type": "code",
   "execution_count": 318,
   "id": "0acc2966-f813-4fdd-810b-e1bea09d7b9d",
   "metadata": {},
   "outputs": [],
   "source": [
    "(defrel (subseqo xs ys)\n",
    "  (conde\n",
    "    [(== xs '())]\n",
    "    [(fresh (x xs-rest y ys-rest)\n",
    "      (== xs `(,x . ,xs-rest))\n",
    "      (== ys `(,y . ,ys-rest))\n",
    "      (conde\n",
    "        [(== x y)\n",
    "         (subseqo xs-rest ys-rest)]\n",
    "        [(subseqo xs ys-rest)]))]))\n"
   ]
  },
  {
   "cell_type": "code",
   "execution_count": 320,
   "id": "5a296622-2bfa-4f76-b69f-d98e912edbd5",
   "metadata": {},
   "outputs": [
    {
     "data": {
      "text/html": [
       "<code>'(_.0)</code>"
      ],
      "text/plain": [
       "'(_.0)"
      ]
     },
     "execution_count": 320,
     "metadata": {},
     "output_type": "execute_result"
    }
   ],
   "source": [
    "(run* (q) (subseqo '(2 4 5) '(1 2 3 4 5 6)))\n",
    "; '(_.0)"
   ]
  },
  {
   "cell_type": "code",
   "execution_count": 322,
   "id": "13b7b9d4-2494-4cd8-bdf7-7048a528e33e",
   "metadata": {},
   "outputs": [
    {
     "data": {
      "text/html": [
       "<code>'(() (1) (2) (1 2) (3) (1 3) (2 3) (1 2 3))</code>"
      ],
      "text/plain": [
       "'(() (1) (2) (1 2) (3) (1 3) (2 3) (1 2 3))"
      ]
     },
     "execution_count": 322,
     "metadata": {},
     "output_type": "execute_result"
    }
   ],
   "source": [
    "(run* (xs) (subseqo xs '(1 2 3)))\n",
    "; '(() (1) (2) (1 2) (3) (1 3) (2 3) (1 2 3))"
   ]
  },
  {
   "cell_type": "code",
   "execution_count": 324,
   "id": "d530e80e-af76-4871-b7d0-e0bd82d62f44",
   "metadata": {},
   "outputs": [
    {
     "data": {
      "text/html": [
       "<code>'((1 2 _.0) (1 _.0 2) (_.0 1 2))</code>"
      ],
      "text/plain": [
       "'((1 2 _.0) (1 _.0 2) (_.0 1 2))"
      ]
     },
     "execution_count": 324,
     "metadata": {},
     "output_type": "execute_result"
    }
   ],
   "source": [
    "(run* (xs)\n",
    "    (fresh (a b c)\n",
    "        (== xs `(,a ,b ,c))\n",
    "        (subseqo '(1 2) xs)))\n",
    "; '((1 2 _.0) (1 _.0 2) (_.0 1 2))"
   ]
  },
  {
   "cell_type": "markdown",
   "id": "c6236789-3012-4b0e-9f4d-5a1fada7d677",
   "metadata": {},
   "source": [
    "(b) Implement predicate searcho, such that (searcho needle haystack position) is true when needle occurs as a sublist in haystack exactly at position position:\n",
    "\n",
    "```\n",
    "(run* (pos) (searcho '(a b a) '(c a b a b a d) pos))\n",
    "; '((1) (1 1)) == '(1 3)\n",
    "\n",
    "(run* (needle) (searcho needle '(c a b a b a d) (build-num 5)))\n",
    "; '(() (a) (a d))\n",
    "\n",
    "(run* (needle pos)\n",
    "    (fresh (x) (== needle `(a ,x a)))\n",
    "    (searcho needle '(c a b a b a d) pos))\n",
    "; '(((a b a) (1)) ((a b a) (1 1)))\n",
    "```\n"
   ]
  },
  {
   "cell_type": "markdown",
   "id": "2b78129d-dbdc-4866-8751-20e9ddb127ac",
   "metadata": {},
   "source": [
    "(c) Implement predicate `replaceo`, such that (replaceo old new old-whole new-whole) is true when new-whole can be produced from old-whole by replacing zero or more occurrences of old with new:\n",
    "\n",
    "```\n",
    "(run* (new-whole) (replaceo '(a b) '(N E W) '(a b r a b a) new-whole))\n",
    "; '((a b r a b a)\n",
    "; (N E W r a b a)\n",
    "; (N E W r N E W a)\n",
    "; (a b r N E W a))\n",
    "\n",
    "(run* (new-whole) (replaceo '(a a) '(x y) '(a a a a) new-whole))\n",
    "; '((a a a a)\n",
    "; (x y a a)\n",
    "; (a x y a)\n",
    "; (x y x y)\n",
    "; (a a x y))\n",
    "```"
   ]
  }
 ],
 "metadata": {
  "kernelspec": {
   "display_name": "Racket",
   "language": "racket",
   "name": "racket"
  },
  "language_info": {
   "codemirror_mode": "scheme",
   "file_extension": ".rkt",
   "mimetype": "text/x-racket",
   "name": "Racket",
   "pygments_lexer": "racket",
   "version": "8.14"
  }
 },
 "nbformat": 4,
 "nbformat_minor": 5
}
