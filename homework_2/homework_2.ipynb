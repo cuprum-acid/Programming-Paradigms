{
 "cells": [
  {
   "cell_type": "markdown",
   "id": "0dbfc388",
   "metadata": {},
   "source": [
    "# Homework 2. Programming in Haskell\n",
    "\n",
    "Evgeny Bobkunov\n",
    "\n",
    "e.bobkunov@innopolis.university\n",
    "\n",
    "SD-03"
   ]
  },
  {
   "cell_type": "markdown",
   "id": "d7f8d841",
   "metadata": {},
   "source": [
    "## 2.1 Forward Mode Automatic Differentiation"
   ]
  },
  {
   "cell_type": "markdown",
   "id": "2226c649",
   "metadata": {},
   "source": [
    "**Exercise 2.1.1**\n",
    "\n",
    "Implement a function `example_g` that computes $g(y) = (y − 1)^2 + 1$ together with its derivative assuming $y$ is a function of the variable we differentiate with respect to:\n",
    "\n",
    "```haskell\n",
    "example_g :: Num a => Forward a -> Forward a\n",
    "```\n",
    "\n",
    "Check your implementation:\n",
    "\n",
    "```haskell\n",
    ">>> example_g (lift 3)\n",
    "Forward 5 4\n",
    ">>> example_g (example_g (lift 3))\n",
    "Forward 17 32\n",
    ">>> example_f (example_g (lift 3))\n",
    "Forward (-4.794621373315692) 1.8375466106119718\n",
    "```"
   ]
  },
  {
   "cell_type": "code",
   "execution_count": 36,
   "id": "dd57fbcd",
   "metadata": {},
   "outputs": [
    {
     "data": {
      "text/html": [
       "<style>/* Styles used for the Hoogle display in the pager */\n",
       ".hoogle-doc {\n",
       "display: block;\n",
       "padding-bottom: 1.3em;\n",
       "padding-left: 0.4em;\n",
       "}\n",
       ".hoogle-code {\n",
       "display: block;\n",
       "font-family: monospace;\n",
       "white-space: pre;\n",
       "}\n",
       ".hoogle-text {\n",
       "display: block;\n",
       "}\n",
       ".hoogle-name {\n",
       "color: green;\n",
       "font-weight: bold;\n",
       "}\n",
       ".hoogle-head {\n",
       "font-weight: bold;\n",
       "}\n",
       ".hoogle-sub {\n",
       "display: block;\n",
       "margin-left: 0.4em;\n",
       "}\n",
       ".hoogle-package {\n",
       "font-weight: bold;\n",
       "font-style: italic;\n",
       "}\n",
       ".hoogle-module {\n",
       "font-weight: bold;\n",
       "}\n",
       ".hoogle-class {\n",
       "font-weight: bold;\n",
       "}\n",
       "\n",
       ".get-type {\n",
       "color: green;\n",
       "font-weight: bold;\n",
       "font-family: monospace;\n",
       "display: block;\n",
       "white-space: pre-wrap;\n",
       "}\n",
       ".show-type {\n",
       "color: green;\n",
       "font-weight: bold;\n",
       "font-family: monospace;\n",
       "margin-left: 1em;\n",
       "}\n",
       ".mono {\n",
       "font-family: monospace;\n",
       "display: block;\n",
       "}\n",
       ".err-msg {\n",
       "color: red;\n",
       "font-style: italic;\n",
       "font-family: monospace;\n",
       "white-space: pre;\n",
       "display: block;\n",
       "}\n",
       "#unshowable {\n",
       "color: red;\n",
       "font-weight: bold;\n",
       "}\n",
       ".err-msg.in.collapse {\n",
       "padding-top: 0.7em;\n",
       "}\n",
       "\n",
       ".highlight-code {\n",
       "white-space: pre;\n",
       "font-family: monospace;\n",
       "}\n",
       "\n",
       ".suggestion-warning { \n",
       "font-weight: bold;\n",
       "color: rgb(200, 130, 0);\n",
       "}\n",
       ".suggestion-error { \n",
       "font-weight: bold;\n",
       "color: red;\n",
       "}\n",
       ".suggestion-name {\n",
       "font-weight: bold;\n",
       "}\n",
       "\n",
       "</style><div class=\"suggestion-name\" style=\"clear:both;\">Use camelCase</div><div class=\"suggestion-row\" style=\"float: left;\"><div class=\"suggestion-warning\">Found:</div><div class=\"highlight-code\" id=\"haskell\">example_f :: Floating a => Forward a -> Forward a</div></div><div class=\"suggestion-row\" style=\"float: left;\"><div class=\"suggestion-warning\">Why Not:</div><div class=\"highlight-code\" id=\"haskell\">exampleF :: Floating a => Forward a -> Forward a</div></div><div class=\"suggestion-name\" style=\"clear:both;\">Use camelCase</div><div class=\"suggestion-row\" style=\"float: left;\"><div class=\"suggestion-warning\">Found:</div><div class=\"highlight-code\" id=\"haskell\">example_f (Forward y y') = ...</div></div><div class=\"suggestion-row\" style=\"float: left;\"><div class=\"suggestion-warning\">Why Not:</div><div class=\"highlight-code\" id=\"haskell\">exampleF (Forward y y') = ...</div></div><div class=\"suggestion-name\" style=\"clear:both;\">Use camelCase</div><div class=\"suggestion-row\" style=\"float: left;\"><div class=\"suggestion-warning\">Found:</div><div class=\"highlight-code\" id=\"haskell\">example_g :: Num a => Forward a -> Forward a</div></div><div class=\"suggestion-row\" style=\"float: left;\"><div class=\"suggestion-warning\">Why Not:</div><div class=\"highlight-code\" id=\"haskell\">exampleG :: Num a => Forward a -> Forward a</div></div><div class=\"suggestion-name\" style=\"clear:both;\">Use camelCase</div><div class=\"suggestion-row\" style=\"float: left;\"><div class=\"suggestion-warning\">Found:</div><div class=\"highlight-code\" id=\"haskell\">example_g (Forward y y') = ...</div></div><div class=\"suggestion-row\" style=\"float: left;\"><div class=\"suggestion-warning\">Why Not:</div><div class=\"highlight-code\" id=\"haskell\">exampleG (Forward y y') = ...</div></div>"
      ],
      "text/plain": [
       "Line 7: Use camelCase\n",
       "Found:\n",
       "example_f :: Floating a => Forward a -> Forward a\n",
       "Why not:\n",
       "exampleF :: Floating a => Forward a -> Forward aLine 8: Use camelCase\n",
       "Found:\n",
       "example_f (Forward y y') = ...\n",
       "Why not:\n",
       "exampleF (Forward y y') = ...Line 10: Use camelCase\n",
       "Found:\n",
       "example_g :: Num a => Forward a -> Forward a\n",
       "Why not:\n",
       "exampleG :: Num a => Forward a -> Forward aLine 11: Use camelCase\n",
       "Found:\n",
       "example_g (Forward y y') = ...\n",
       "Why not:\n",
       "exampleG (Forward y y') = ..."
      ]
     },
     "metadata": {},
     "output_type": "display_data"
    },
    {
     "data": {
      "text/plain": [
       "Forward 5 4"
      ]
     },
     "metadata": {},
     "output_type": "display_data"
    },
    {
     "data": {
      "text/plain": [
       "Forward 17 32"
      ]
     },
     "metadata": {},
     "output_type": "display_data"
    },
    {
     "data": {
      "text/plain": [
       "Forward (-4.794621373315692) 1.8375466106119709"
      ]
     },
     "metadata": {},
     "output_type": "display_data"
    }
   ],
   "source": [
    "data Forward a = Forward a a\n",
    "    deriving (Show)\n",
    "\n",
    "lift :: Num a => a -> Forward a\n",
    "lift x = Forward x 1\n",
    "\n",
    "example_f :: Floating a => Forward a -> Forward a\n",
    "example_f (Forward y y') = Forward (y * sin y) ((y * cos y + sin y) * y')\n",
    "\n",
    "example_g :: Num a => Forward a -> Forward a\n",
    "example_g (Forward y y') = Forward ((y - 1) ^ 2 + 1) (2 * (y - 1) * y')\n",
    "\n",
    "example_g (lift 3)\n",
    "\n",
    "example_g (example_g (lift 3))\n",
    "\n",
    "example_f (example_g (lift 3))"
   ]
  },
  {
   "cell_type": "markdown",
   "id": "c2aacd86",
   "metadata": {},
   "source": [
    " Writing down every function with its derivative is a bit tedious. Instead, let’s make the tools to\n",
    "build complex functions from simpler ones:\n",
    "\n",
    "**Exercise 2.1.2**\n",
    "\n",
    "Implement helper `constant` and functions `constantF`, `linear` corresponding to $constantF(y) = c$ and $linear_{a,b}(y) = ay + b$. Note that $y$ here is itself a function:\n",
    "\n",
    "```haskell\n",
    "constant :: Num a => a -> Forward a\n",
    "constantF :: Num a => a -> Forward a -> Forward a\n",
    "linear :: Num a => a -> b -> Forward a -> Forward a\n",
    "```\n",
    "\n",
    "Check your implementation:\n",
    "\n",
    "```haskell\n",
    ">>> constant 4\n",
    "Forward 4 0\n",
    ">>> constantF 4 (lift 123)\n",
    "Forward 4 0\n",
    ">>> linear 2 (-3) (lift 1)\n",
    "Forward (-1) 2\n",
    ">>> linear 2 (-3) (lift 6)\n",
    "Forward 9 2\n",
    ">>> linear 2 (-3) (example_f (lift 6))\n",
    "Forward (-6.35298597838711) 10.96321244340654\n",
    "```"
   ]
  },
  {
   "cell_type": "code",
   "execution_count": 37,
   "id": "30e9ae0e",
   "metadata": {},
   "outputs": [
    {
     "data": {
      "text/plain": [
       "Forward 4 0"
      ]
     },
     "metadata": {},
     "output_type": "display_data"
    },
    {
     "data": {
      "text/plain": [
       "Forward 4 0"
      ]
     },
     "metadata": {},
     "output_type": "display_data"
    },
    {
     "data": {
      "text/plain": [
       "Forward (-1) 2"
      ]
     },
     "metadata": {},
     "output_type": "display_data"
    },
    {
     "data": {
      "text/plain": [
       "Forward 9 2"
      ]
     },
     "metadata": {},
     "output_type": "display_data"
    },
    {
     "data": {
      "text/plain": [
       "Forward (-6.35298597838711) 10.96321244340654"
      ]
     },
     "metadata": {},
     "output_type": "display_data"
    }
   ],
   "source": [
    "constant :: Num a => a -> Forward a\n",
    "constant c = Forward c 0\n",
    "\n",
    "constantF :: Num a => a -> Forward a -> Forward a\n",
    "constantF c _ = Forward c 0\n",
    "\n",
    "linear :: Num a => a -> a -> Forward a -> Forward a\n",
    "linear a b (Forward y y') = Forward (a * y + b) (a * y')\n",
    "\n",
    "constant 4\n",
    "\n",
    "constantF 4 (lift 123)\n",
    "\n",
    "linear 2 (-3) (lift 1)\n",
    "\n",
    "linear 2 (-3) (lift 6)\n",
    "\n",
    "linear 2 (-3) (example_f (lift 6))"
   ]
  },
  {
   "cell_type": "markdown",
   "id": "5ccbf4f2",
   "metadata": {},
   "source": [
    "Sometimes we will only be interested in the value of a derivative, so let’s introduce a helper.\n",
    "\n",
    "**Exercise 2.1.3**\n",
    "\n",
    "Implement a higher-order function that takes a differentiable function and\n",
    "computes the value of its derivative at a given point:\n",
    "\n",
    "```haskell\n",
    "diff :: Num a => (Forward a -> Forward a) -> a -> a\n",
    "```\n",
    "\n",
    "Check your implementation:\n",
    "\n",
    "```haskell\n",
    ">>> diff (linear 2 (-3)) 7.0\n",
    "2.0\n",
    ">>> diff example_f (pi/3)\n",
    "1.3896241793827375\n",
    ">>> diff example_g 4.0\n",
    "6.0\n",
    "```"
   ]
  },
  {
   "cell_type": "code",
   "execution_count": 38,
   "id": "18897c70",
   "metadata": {},
   "outputs": [
    {
     "data": {
      "text/plain": [
       "2.0"
      ]
     },
     "metadata": {},
     "output_type": "display_data"
    },
    {
     "data": {
      "text/plain": [
       "1.3896241793827375"
      ]
     },
     "metadata": {},
     "output_type": "display_data"
    },
    {
     "data": {
      "text/plain": [
       "6.0"
      ]
     },
     "metadata": {},
     "output_type": "display_data"
    }
   ],
   "source": [
    "diff :: Num a => (Forward a -> Forward a) -> a -> a\n",
    "diff f x = let Forward _ y' = f (lift x) in y'\n",
    "\n",
    "diff (linear 2 (-3)) 7.0\n",
    "\n",
    "diff example_f (pi/3)\n",
    "\n",
    "diff example_g 4.0"
   ]
  },
  {
   "cell_type": "markdown",
   "id": "af39c8a4",
   "metadata": {},
   "source": [
    "Differentiable values can be combined like numbers. Indeed, sums and products of differentiable\n",
    "functions are also differentiable.\n",
    "\n",
    "**Exercise 2.1.4**\n",
    "\n",
    "Implement addition (`+`), multiplication (`*`), negation (`negate`), absolute\n",
    "value (`abs`), signum (`signum`), and reciprocal (`recip`) operations over differentiable values:\n",
    "\n",
    "```haskell\n",
    "plusF :: Num a => Forward a -> Forward a -> Forward a\n",
    "timesF :: Num a => Forward a -> Forward a -> Forward a\n",
    "negateF :: Num a => Forward a -> Forward a\n",
    "absoluteF :: Num a => Forward a -> Forward a\n",
    "signumF :: Num a => Forward a -> Forward a\n",
    "recipF :: Fractional a => Forward a -> Forward a\n",
    "```\n",
    "\n",
    "In order to check your implementation more easily, we overload the regular numerical operators\n",
    "with the following type class instances:\n",
    "\n",
    "```haskell\n",
    "instance Num a => Num (Forward a) where\n",
    "  fromInteger n = constant (fromInteger n)\n",
    "  (+) = plusF\n",
    "  (*) = timesF\n",
    "  negate = negateF\n",
    "  abs = absoluteF\n",
    "  signum = signumF\n",
    "instance Fractional a => Fractional (Forward a) where\n",
    "  fromRational x = constant (fromRational x)\n",
    "  recip = recipF\n",
    "```\n",
    "\n",
    "You can now check your implementation using the usual numerical operators:\n",
    "\n",
    "```haskell\n",
    ">>> diff (\\x -> x^3 + 2 * x + 1) 1\n",
    "5\n",
    "```\n",
    "\n",
    "The example above corresponds to\n",
    "\n",
    "```haskell\n",
    ">>> diff (\\x -> (x `timesF` x `timesF` x) `plusF` (constant 2 `timesF` x) `plusF` 1) 1\n",
    "5\n",
    "```\n",
    "\n",
    "Here are more examples to check:\n",
    "\n",
    "```haskell\n",
    ">>> diff (\\x -> signum x * (x - 2) * abs x) 4\n",
    "6\n",
    ">>> diff (\\x -> signum x * (x - 2) * abs x) (-2)\n",
    "-6\n",
    ">>> diff (\\x -> x ^ 10) 2\n",
    "5120\n",
    ">>> diff (\\x -> 1 / x) 2\n",
    "-0.25\n",
    ">>> diff (\\x -> x^2 / x) 2\n",
    "1.0\n",
    ">>> diff (\\x -> (abs x - 1)^2 / (x + 8)) (-3)\n",
    "-0.9600000000000001\n",
    "```"
   ]
  },
  {
   "cell_type": "code",
   "execution_count": 39,
   "id": "02b926b4",
   "metadata": {},
   "outputs": [
    {
     "data": {
      "text/html": [
       "<style>/* Styles used for the Hoogle display in the pager */\n",
       ".hoogle-doc {\n",
       "display: block;\n",
       "padding-bottom: 1.3em;\n",
       "padding-left: 0.4em;\n",
       "}\n",
       ".hoogle-code {\n",
       "display: block;\n",
       "font-family: monospace;\n",
       "white-space: pre;\n",
       "}\n",
       ".hoogle-text {\n",
       "display: block;\n",
       "}\n",
       ".hoogle-name {\n",
       "color: green;\n",
       "font-weight: bold;\n",
       "}\n",
       ".hoogle-head {\n",
       "font-weight: bold;\n",
       "}\n",
       ".hoogle-sub {\n",
       "display: block;\n",
       "margin-left: 0.4em;\n",
       "}\n",
       ".hoogle-package {\n",
       "font-weight: bold;\n",
       "font-style: italic;\n",
       "}\n",
       ".hoogle-module {\n",
       "font-weight: bold;\n",
       "}\n",
       ".hoogle-class {\n",
       "font-weight: bold;\n",
       "}\n",
       "\n",
       ".get-type {\n",
       "color: green;\n",
       "font-weight: bold;\n",
       "font-family: monospace;\n",
       "display: block;\n",
       "white-space: pre-wrap;\n",
       "}\n",
       ".show-type {\n",
       "color: green;\n",
       "font-weight: bold;\n",
       "font-family: monospace;\n",
       "margin-left: 1em;\n",
       "}\n",
       ".mono {\n",
       "font-family: monospace;\n",
       "display: block;\n",
       "}\n",
       ".err-msg {\n",
       "color: red;\n",
       "font-style: italic;\n",
       "font-family: monospace;\n",
       "white-space: pre;\n",
       "display: block;\n",
       "}\n",
       "#unshowable {\n",
       "color: red;\n",
       "font-weight: bold;\n",
       "}\n",
       ".err-msg.in.collapse {\n",
       "padding-top: 0.7em;\n",
       "}\n",
       "\n",
       ".highlight-code {\n",
       "white-space: pre;\n",
       "font-family: monospace;\n",
       "}\n",
       "\n",
       ".suggestion-warning { \n",
       "font-weight: bold;\n",
       "color: rgb(200, 130, 0);\n",
       "}\n",
       ".suggestion-error { \n",
       "font-weight: bold;\n",
       "color: red;\n",
       "}\n",
       ".suggestion-name {\n",
       "font-weight: bold;\n",
       "}\n",
       "\n",
       "</style><div class=\"suggestion-name\" style=\"clear:both;\">Avoid lambda using `infix`</div><div class=\"suggestion-row\" style=\"float: left;\"><div class=\"suggestion-warning\">Found:</div><div class=\"highlight-code\" id=\"haskell\">(\\ x -> x ^ 10)</div></div><div class=\"suggestion-row\" style=\"float: left;\"><div class=\"suggestion-warning\">Why Not:</div><div class=\"highlight-code\" id=\"haskell\">(^ 10)</div></div><div class=\"suggestion-name\" style=\"clear:both;\">Avoid lambda</div><div class=\"suggestion-row\" style=\"float: left;\"><div class=\"suggestion-warning\">Found:</div><div class=\"highlight-code\" id=\"haskell\">(\\ x -> 1 / x)</div></div><div class=\"suggestion-row\" style=\"float: left;\"><div class=\"suggestion-warning\">Why Not:</div><div class=\"highlight-code\" id=\"haskell\">(1 /)</div></div>"
      ],
      "text/plain": [
       "Line 38: Avoid lambda using `infix`\n",
       "Found:\n",
       "(\\ x -> x ^ 10)\n",
       "Why not:\n",
       "(^ 10)Line 40: Avoid lambda\n",
       "Found:\n",
       "(\\ x -> 1 / x)\n",
       "Why not:\n",
       "(1 /)"
      ]
     },
     "metadata": {},
     "output_type": "display_data"
    },
    {
     "data": {
      "text/plain": [
       "5"
      ]
     },
     "metadata": {},
     "output_type": "display_data"
    },
    {
     "data": {
      "text/plain": [
       "6"
      ]
     },
     "metadata": {},
     "output_type": "display_data"
    },
    {
     "data": {
      "text/plain": [
       "-6"
      ]
     },
     "metadata": {},
     "output_type": "display_data"
    },
    {
     "data": {
      "text/plain": [
       "5120"
      ]
     },
     "metadata": {},
     "output_type": "display_data"
    },
    {
     "data": {
      "text/plain": [
       "-0.25"
      ]
     },
     "metadata": {},
     "output_type": "display_data"
    },
    {
     "data": {
      "text/plain": [
       "1.0"
      ]
     },
     "metadata": {},
     "output_type": "display_data"
    },
    {
     "data": {
      "text/plain": [
       "-0.9600000000000001"
      ]
     },
     "metadata": {},
     "output_type": "display_data"
    }
   ],
   "source": [
    "plusF :: Num a => Forward a -> Forward a -> Forward a\n",
    "plusF (Forward fx f') (Forward gx g') = Forward (fx + gx) (f' + g')\n",
    "\n",
    "timesF :: Num a => Forward a -> Forward a -> Forward a\n",
    "timesF (Forward fx f') (Forward gx g') = Forward (fx * gx) (fx * g' + f' * gx)\n",
    "\n",
    "negateF :: Num a => Forward a -> Forward a\n",
    "negateF (Forward fx f') = Forward (-fx) (-f')\n",
    "\n",
    "absoluteF :: Num a => Forward a -> Forward a\n",
    "absoluteF (Forward fx f') = Forward (abs fx) (signum fx * f')\n",
    "\n",
    "signumF :: Num a => Forward a -> Forward a\n",
    "signumF (Forward fx _) = Forward (signum fx) 0\n",
    "\n",
    "recipF :: Fractional a => Forward a -> Forward a\n",
    "recipF (Forward fx f') = Forward (recip fx) (-f' / (fx * fx))\n",
    "\n",
    "instance Num a => Num (Forward a) where\n",
    "  fromInteger n = constant (fromInteger n)\n",
    "  (+) = plusF\n",
    "  (*) = timesF\n",
    "  negate = negateF\n",
    "  abs = absoluteF\n",
    "  signum = signumF\n",
    "\n",
    "instance Fractional a => Fractional (Forward a) where\n",
    "  fromRational x = constant (fromRational x)\n",
    "  recip = recipF\n",
    "  \n",
    "  \n",
    "diff (\\x -> x^3 + 2 * x + 1) 1\n",
    "\n",
    "diff (\\x -> signum x * (x - 2) * abs x) 4\n",
    "\n",
    "diff (\\x -> signum x * (x - 2) * abs x) (-2)\n",
    "\n",
    "diff (\\x -> x ^ 10) 2\n",
    "\n",
    "diff (\\x -> 1 / x) 2\n",
    "\n",
    "diff (\\x -> x^2 / x) 2\n",
    "\n",
    "diff (\\x -> (abs x - 1)^2 / (x + 8)) (-3)"
   ]
  },
  {
   "cell_type": "markdown",
   "id": "998cfa66",
   "metadata": {},
   "source": [
    "Next step is to support more standard functions in the `Floating` type class:\n",
    "\n",
    "**Exercise 2.1.5**\n",
    "\n",
    "Implement exponentiation $e^x$ (`exp`), natural logarithm $\\ln x$ (`log`), $\\sin x$ (`sin`), $\\cos x$ (`cos`), $\\arcsin x$ (`asin`), $\\arccos x$ (`acos`), and $\\arctan x$ (`atan`) operations over differentiable values:\n",
    "\n",
    "```haskell\n",
    "expF :: Floating a => Forward a -> Forward a\n",
    "logF :: Floating a => Forward a -> Forward a\n",
    "sinF :: Floating a => Forward a -> Forward a\n",
    "cosF :: Floating a => Forward a -> Forward a\n",
    "asinF :: Floating a => Forward a -> Forward a\n",
    "acosF :: Floating a => Forward a -> Forward a\n",
    "atanF :: Floating a => Forward a -> Forward a\n",
    "```\n",
    "\n",
    "Plug in your implementations in the following type class instance:\n",
    "\n",
    "```haskell\n",
    "instance Floating a => Floating (Forward a) where\n",
    "  pi = constant pi\n",
    "  exp = expF\n",
    "  log = logF\n",
    "  sin = sinF\n",
    "  cos = cosF\n",
    "  asin = asinF\n",
    "  acos = acosF\n",
    "  atan = atanF\n",
    "```\n",
    "\n",
    "Check your implementation:\n",
    "\n",
    "```haskell\n",
    ">>> diff (\\x -> sin (asin x)) 0.1\n",
    "1.0\n",
    ">>> diff (\\x -> acos (cos x)) 0.1\n",
    "1.0000000000000053\n",
    ">>> diff (\\x -> atan (tan x)) 0.1\n",
    "1.0\n",
    "```\n",
    "\n",
    "```haskell\n",
    ">>> f x = x * sin x\n",
    ">>> f (pi/2)\n",
    "1.5707963267948966\n",
    ">>> diff f (pi/2)\n",
    "1.0\n",
    ">>> diff (diff f) (pi/2)\n",
    "-1.5707963267948966\n",
    ">>> diff (diff (diff f)) (pi/2)\n",
    "-3.0\n",
    "```"
   ]
  },
  {
   "cell_type": "code",
   "execution_count": 40,
   "id": "e48d2d5e",
   "metadata": {},
   "outputs": [
    {
     "data": {
      "text/html": [
       "<style>/* Styles used for the Hoogle display in the pager */\n",
       ".hoogle-doc {\n",
       "display: block;\n",
       "padding-bottom: 1.3em;\n",
       "padding-left: 0.4em;\n",
       "}\n",
       ".hoogle-code {\n",
       "display: block;\n",
       "font-family: monospace;\n",
       "white-space: pre;\n",
       "}\n",
       ".hoogle-text {\n",
       "display: block;\n",
       "}\n",
       ".hoogle-name {\n",
       "color: green;\n",
       "font-weight: bold;\n",
       "}\n",
       ".hoogle-head {\n",
       "font-weight: bold;\n",
       "}\n",
       ".hoogle-sub {\n",
       "display: block;\n",
       "margin-left: 0.4em;\n",
       "}\n",
       ".hoogle-package {\n",
       "font-weight: bold;\n",
       "font-style: italic;\n",
       "}\n",
       ".hoogle-module {\n",
       "font-weight: bold;\n",
       "}\n",
       ".hoogle-class {\n",
       "font-weight: bold;\n",
       "}\n",
       "\n",
       ".get-type {\n",
       "color: green;\n",
       "font-weight: bold;\n",
       "font-family: monospace;\n",
       "display: block;\n",
       "white-space: pre-wrap;\n",
       "}\n",
       ".show-type {\n",
       "color: green;\n",
       "font-weight: bold;\n",
       "font-family: monospace;\n",
       "margin-left: 1em;\n",
       "}\n",
       ".mono {\n",
       "font-family: monospace;\n",
       "display: block;\n",
       "}\n",
       ".err-msg {\n",
       "color: red;\n",
       "font-style: italic;\n",
       "font-family: monospace;\n",
       "white-space: pre;\n",
       "display: block;\n",
       "}\n",
       "#unshowable {\n",
       "color: red;\n",
       "font-weight: bold;\n",
       "}\n",
       ".err-msg.in.collapse {\n",
       "padding-top: 0.7em;\n",
       "}\n",
       "\n",
       ".highlight-code {\n",
       "white-space: pre;\n",
       "font-family: monospace;\n",
       "}\n",
       "\n",
       ".suggestion-warning { \n",
       "font-weight: bold;\n",
       "color: rgb(200, 130, 0);\n",
       "}\n",
       ".suggestion-error { \n",
       "font-weight: bold;\n",
       "color: red;\n",
       "}\n",
       ".suggestion-name {\n",
       "font-weight: bold;\n",
       "}\n",
       "\n",
       "</style><div class=\"suggestion-name\" style=\"clear:both;\">Avoid lambda</div><div class=\"suggestion-row\" style=\"float: left;\"><div class=\"suggestion-warning\">Found:</div><div class=\"highlight-code\" id=\"haskell\">\\ x -> sin (asin x)</div></div><div class=\"suggestion-row\" style=\"float: left;\"><div class=\"suggestion-warning\">Why Not:</div><div class=\"highlight-code\" id=\"haskell\">sin . asin</div></div><div class=\"suggestion-name\" style=\"clear:both;\">Avoid lambda</div><div class=\"suggestion-row\" style=\"float: left;\"><div class=\"suggestion-warning\">Found:</div><div class=\"highlight-code\" id=\"haskell\">\\ x -> acos (cos x)</div></div><div class=\"suggestion-row\" style=\"float: left;\"><div class=\"suggestion-warning\">Why Not:</div><div class=\"highlight-code\" id=\"haskell\">acos . cos</div></div><div class=\"suggestion-name\" style=\"clear:both;\">Avoid lambda</div><div class=\"suggestion-row\" style=\"float: left;\"><div class=\"suggestion-warning\">Found:</div><div class=\"highlight-code\" id=\"haskell\">\\ x -> atan (tan x)</div></div><div class=\"suggestion-row\" style=\"float: left;\"><div class=\"suggestion-warning\">Why Not:</div><div class=\"highlight-code\" id=\"haskell\">atan . tan</div></div>"
      ],
      "text/plain": [
       "Line 33: Avoid lambda\n",
       "Found:\n",
       "\\ x -> sin (asin x)\n",
       "Why not:\n",
       "sin . asinLine 35: Avoid lambda\n",
       "Found:\n",
       "\\ x -> acos (cos x)\n",
       "Why not:\n",
       "acos . cosLine 37: Avoid lambda\n",
       "Found:\n",
       "\\ x -> atan (tan x)\n",
       "Why not:\n",
       "atan . tan"
      ]
     },
     "metadata": {},
     "output_type": "display_data"
    },
    {
     "data": {
      "text/plain": [
       "1.0"
      ]
     },
     "metadata": {},
     "output_type": "display_data"
    },
    {
     "data": {
      "text/plain": [
       "1.0000000000000053"
      ]
     },
     "metadata": {},
     "output_type": "display_data"
    },
    {
     "data": {
      "text/plain": [
       "1.0"
      ]
     },
     "metadata": {},
     "output_type": "display_data"
    },
    {
     "data": {
      "text/plain": [
       "1.5707963267948966"
      ]
     },
     "metadata": {},
     "output_type": "display_data"
    },
    {
     "data": {
      "text/plain": [
       "1.0"
      ]
     },
     "metadata": {},
     "output_type": "display_data"
    },
    {
     "data": {
      "text/plain": [
       "-1.5707963267948966"
      ]
     },
     "metadata": {},
     "output_type": "display_data"
    },
    {
     "data": {
      "text/plain": [
       "-3.0"
      ]
     },
     "metadata": {},
     "output_type": "display_data"
    }
   ],
   "source": [
    "expF :: Floating a => Forward a -> Forward a\n",
    "expF (Forward fx f') = Forward (exp fx) (f' * exp fx)\n",
    "\n",
    "logF :: Floating a => Forward a -> Forward a\n",
    "logF (Forward fx f') = Forward (log fx) (f' / fx)\n",
    "\n",
    "sinF :: Floating a => Forward a -> Forward a\n",
    "sinF (Forward fx f') = Forward (sin fx) (f' * cos fx)\n",
    "\n",
    "cosF :: Floating a => Forward a -> Forward a\n",
    "cosF (Forward fx f') = Forward (cos fx) (-f' * sin fx)\n",
    "\n",
    "asinF :: Floating a => Forward a -> Forward a\n",
    "asinF (Forward fx f') = Forward (asin fx) (f' / sqrt (1 - fx^2))\n",
    "\n",
    "acosF :: Floating a => Forward a -> Forward a\n",
    "acosF (Forward fx f') = Forward (acos fx) (-f' / sqrt (1 - fx^2))\n",
    "\n",
    "atanF :: Floating a => Forward a -> Forward a\n",
    "atanF (Forward fx f') = Forward (atan fx) (f' / (1 + fx^2))\n",
    "\n",
    "\n",
    "instance Floating a => Floating (Forward a) where\n",
    "  pi = constant pi\n",
    "  exp = expF\n",
    "  log = logF\n",
    "  sin = sinF\n",
    "  cos = cosF\n",
    "  asin = asinF\n",
    "  acos = acosF\n",
    "  atan = atanF\n",
    "\n",
    "diff (\\x -> sin (asin x)) 0.1\n",
    "\n",
    "diff (\\x -> acos (cos x)) 0.1\n",
    "\n",
    "diff (\\x -> atan (tan x)) 0.1\n",
    "\n",
    "f x = x * sin x\n",
    "\n",
    "f (pi/2)\n",
    "\n",
    "diff f (pi/2)\n",
    "\n",
    "diff (diff f) (pi/2)\n",
    "\n",
    "diff (diff (diff f)) (pi/2)"
   ]
  },
  {
   "cell_type": "markdown",
   "id": "e82e79c6",
   "metadata": {},
   "source": [
    "**Exercise 2.1.6**\n",
    "\n",
    "Explain how examples above are able to produce valid values of higher derivatives even though `Forward` only contains value of a first derivative. More specifically, assuming\n",
    "\n",
    "```haskell\n",
    "f :: Floating a => a -> a\n",
    "f x = x * sin x\n",
    "```\n",
    "\n",
    "1. Explain how the parametrically polymorphic type of `diff` is instantiated for every use in the following expressions:\n",
    "\n",
    "```haskell\n",
    "(a) diff f (pi/2) :: Double\n",
    "(b) diff (diff f) (pi/2) :: Double\n",
    "(c) diff (diff (diff f)) (pi/2) :: Double\n",
    "```\n",
    "\n",
    "2. Using the defining equations of `plusF`, `timesF`, `negateF`, `sinF`, and `cosF`, prove by *equational reasoning* that\n",
    "\n",
    "```\n",
    "(a) for any input x we have diff f x = x * cos x + sin x\n",
    "(b) for any input x we have diff (diff f) x = x * (- sin x) + cos x + cos x\n",
    "```\n"
   ]
  },
  {
   "cell_type": "markdown",
   "id": "4197a90c",
   "metadata": {},
   "source": [
    "**1. Instantiation of `diff`'s Polymorphic Type**\n",
    "\n",
    "The function `diff` has the following type signature:\n",
    "\n",
    "```haskell\n",
    "diff :: Num a => (Forward a -> Forward a) -> a -> a\n",
    "```\n",
    "\n",
    "Since `diff` takes a function `(Forward a -> Forward a)` and returns a function that takes a `Num`-type input and returns a `Num`-type output, it’s capable of calculating derivatives by wrapping its input value in a `Forward` type, computing the function and its derivative, and then extracting the derivative.\n",
    "\n",
    "Each time `diff` is applied, it instantiates `a` as a `Forward` type with the underlying numeric type (usually `Double`). By chaining `diff` applications, we create \"layers\" of `Forward` values that represent higher derivatives as we repeatedly calculate derivatives of derivatives. Let’s look at some examples:\n",
    "\n",
    "1. `diff f (pi/2)`\n",
    "\n",
    "    Here, `diff f (pi/2) :: Double` calculates the first derivative. `diff` wraps `pi/2` in a `Forward` type with an initial derivative of `1` (since `lift (pi/2)` is `Forward (pi/2) 1`). Then it applies `f`, which is `x * sin x`, calculates the first derivative by chain rule, and extracts the resulting derivative value as a `Double`.\n",
    "    \n",
    "    \n",
    "2. `diff (diff f) (pi/2)`\n",
    "\n",
    "    In this case, `diff (diff f) (pi/2) :: Double` calculates the second derivative. The inner call `diff f` returns the derivative function of `f` as a `Forward Double -> Forward Double`, which is now differentiated again by the outer `diff`. This wraps `pi/2` in a `Forward` type, calculates the derivative of the derivative of `f`, and returns the second derivative as a `Double`.\n",
    "    \n",
    "\n",
    "3. `diff (diff (diff f)) (pi/2)`\n",
    "\n",
    "    This expression calculates the third derivative by applying `diff` three times. Each level of `diff` wraps the input `pi/2` in a new layer of `Forward` types and calculates the next derivative, returning the third derivative as a `Double`.\n",
    "    \n",
    "    \n",
    "**2. Equational Reasoning for Higher Derivatives**\n",
    "\n",
    "Now, let's analyze the derivative calculations step-by-step for `f(x) = x * sin x`.\n",
    "\n",
    "**(a) Proving `diff f x = x * cos x + sin x`**\n",
    "\n",
    "The function `f(x) = x * sin x` can be represented as:\n",
    "\n",
    "```haskell\n",
    "f (Forward x x') = Forward (x * sin x) (x' * cos x + sin x)\n",
    "```\n",
    "\n",
    "- **Value:** $x⋅sin(x)$\n",
    "\n",
    "- **Derivative:** Using the product rule, $\\frac{d}{dx} (x \\sin(x)) = x \\cos (x) + \\sin (x)$\n",
    "\n",
    "Since `x'` is initialized to `1` by `lift`, the derivative term becomes:\n",
    "\n",
    "$x'⋅cos(x)+sin(x)=1⋅cos(x)+sin(x)=x⋅cos(x)+sin(x)$\n",
    "\n",
    "Thus, `diff f x = x * cos x + sin x`, matching our expectation.\n",
    "\n",
    "**(b) Proving `diff (diff f) x = x * (- sin x) + cos x + cos x`**\n",
    "\n",
    "To find the second derivative of `f`, we need to differentiate the result from (a), which is `x⋅cos(x)+sin(x)`:\n",
    "\n",
    "1. Differentiate `x⋅cos(x)`:\n",
    "\n",
    "    - Using the product rule again:  $\\frac{d}{dx} (x \\cos(x))=x⋅(−\\sin(x))+ \\cos(x)=−x⋅\\sin(x)+\\cos(x)$\n",
    "\n",
    "2. Differentiate `sin(x)`:\n",
    "\n",
    "    - This is simply `cos(x)`.\n",
    "    \n",
    "    \n",
    "Combining these:\n",
    "\n",
    "$\\frac{d^2}{dx^2} f(x) =−x⋅\\sin(x)+\\cos(x)+\\cos(x)=x⋅(−\\sin(x))+2\\cos(x)$\n",
    "\n",
    "Thus, `diff (diff f) x = x * (- sin x) + cos x + cos x`, as required."
   ]
  },
  {
   "cell_type": "markdown",
   "id": "78b992aa",
   "metadata": {},
   "source": [
    "**Exercise 2.1.7**\n",
    "\n",
    "Implement a higher-order function `newton` that looks for a zero of a differentiable function given an initial approximation. The function should produce an infinite list of increasingly accurate approximations, following the Newton’s method:\n",
    "\n",
    "```haskell\n",
    "newton :: Floating a => (Forward a -> Forward a) -> a -> [a]\n",
    "```\n",
    "\n",
    "Check your implementation:\n",
    "\n",
    "```haskell\n",
    ">>> mapM_ print $ take 10 $ newton (\\x -> (x - 3)^2 - 16) 4\n",
    "4.0\n",
    "11.5\n",
    "8.191176470588236\n",
    "7.136664722546242\n",
    "7.002257524798522\n",
    "7.000000636692939\n",
    "7.000000000000051\n",
    "7.0\n",
    "7.0\n",
    "7.0\n",
    "```"
   ]
  },
  {
   "cell_type": "code",
   "execution_count": 41,
   "id": "8c54f080",
   "metadata": {},
   "outputs": [
    {
     "data": {
      "text/plain": [
       "4.0\n",
       "11.5\n",
       "8.191176470588236\n",
       "7.136664722546242\n",
       "7.002257524798522\n",
       "7.000000636692939\n",
       "7.000000000000051\n",
       "7.0\n",
       "7.0\n",
       "7.0"
      ]
     },
     "metadata": {},
     "output_type": "display_data"
    }
   ],
   "source": [
    "newton :: Floating a => (Forward a -> Forward a) -> a -> [a]\n",
    "newton f = iterate next\n",
    "  where\n",
    "    calcValueAndDeriv x = let (Forward v d) = f (lift x) in (v, d)\n",
    "\n",
    "    next x_n = x_n - uncurry (/) (calcValueAndDeriv x_n)\n",
    "\n",
    "\n",
    "mapM_ print $ take 10 $ newton (\\x -> (x - 3)^2 - 16) 4"
   ]
  },
  {
   "cell_type": "markdown",
   "id": "1aed0fb1",
   "metadata": {},
   "source": [
    "Newton’s method finds roots of `f(x) = 0`. When both sides of an equation are non-zero, we can\n",
    "solve it by moving terms to one side and then calling `newton`. Consider the following data type:\n",
    "\n",
    "```haskell\n",
    "data Equation a = a :=: a\n",
    "infix 1 :=:\n",
    "```\n",
    "\n",
    "Here, `(:=:)` is an infix data constructor with a low priority (useful when mixing with other infix\n",
    "operators).\n",
    "\n",
    "**Exercise 2.1.8**\n",
    "\n",
    "Using `newton`, implement function `solve` that is capable of solving equations. To make sure this function does not run forever, use a tolerance of $10^{−3}$, maximum number of $10^3$ iterations, and an initial approximation $x_0 = 0.2024$:\n",
    "\n",
    "```haskell\n",
    "solve :: (Ord a, Floating a) => (Forward a -> Equation (Forward a)) -> Maybe a\n",
    "```\n",
    "\n",
    "Check your implementation:\n",
    "\n",
    "```haskell\n",
    ">>> solve (\\x -> x * sin x :=: 1)\n",
    "Just 2.772604795692667\n",
    ">>> map (\\n -> solve (\\x -> x^n :=: 1024)) [2,5,10,100]\n",
    "[Just 32.00000000035865,Just 4.000000000806468,Just 2.0000003470909324,Nothing]\n",
    "```"
   ]
  },
  {
   "cell_type": "code",
   "execution_count": 35,
   "id": "fa97d243",
   "metadata": {},
   "outputs": [
    {
     "data": {
      "text/plain": [
       "Just 2.7729733227726814"
      ]
     },
     "metadata": {},
     "output_type": "display_data"
    },
    {
     "data": {
      "text/plain": [
       "[Just 32.000000000358696,Just 4.000000000806514,Just 2.000000000000273,Nothing]"
      ]
     },
     "metadata": {},
     "output_type": "display_data"
    }
   ],
   "source": [
    "data Equation a = a :=: a\n",
    "infix 1 :=:\n",
    "\n",
    "solve :: (Ord a, Floating a) => (a -> Equation a) -> Maybe a\n",
    "solve eq = newtonWithTolerance 0.2024\n",
    "  where\n",
    "    newtonWithTolerance x0 =\n",
    "      let tolerance = 1e-3\n",
    "          maxIters = 1000\n",
    "      in iterateNewton x0 tolerance maxIters 0\n",
    "\n",
    "    iterateNewton x tolerance maxIters iter\n",
    "      | iter >= maxIters = Nothing\n",
    "      | abs fx < tolerance = Just x\n",
    "      | otherwise = iterateNewton xNext tolerance maxIters (iter + 1)\n",
    "      where\n",
    "        fx = eval x\n",
    "        f'x = evalDerivative x\n",
    "        xNext = x - (fx / f'x)\n",
    "\n",
    "    eval x = let lhs :=: rhs = eq x in lhs - rhs\n",
    "\n",
    "    evalDerivative x =\n",
    "      let h = 1e-5\n",
    "          fPlusH = eval (x + h)\n",
    "          fMinusH = eval (x - h)\n",
    "      in (fPlusH - fMinusH) / (2 * h)\n",
    "\n",
    "\n",
    "solve (\\x -> x * sin x :=: 1)\n",
    "\n",
    "map (\\n -> solve (\\x -> x^n :=: 1024)) [2,5,10,100]"
   ]
  },
  {
   "cell_type": "markdown",
   "id": "2097d58c",
   "metadata": {},
   "source": [
    "## 2.2 Vectors, Gradients, and Gradient Descent"
   ]
  },
  {
   "cell_type": "markdown",
   "id": "525509ea",
   "metadata": {},
   "source": [
    "In this section, we will consider scalar functions over 2-dimensional vectors, that is functions like $f : \\mathbb{R}^2 → \\mathbb{R}$ or $f : \\mathbb{C}^2 → \\mathbb{C}$. First, we introduce the type of 2D vectors:\n",
    "\n",
    "```haskell\n",
    "data V2 a = V2 a a\n",
    "  deriving (Show)\n",
    "```\n",
    "\n",
    "A value `V2` `x` `y` represents a 2D vector `⟨x, y⟩`. Let us define some helper functions for vectors."
   ]
  },
  {
   "cell_type": "markdown",
   "id": "62c8975d",
   "metadata": {},
   "source": [
    "**Exercise 2.2.1**\n",
    "\n",
    "Define scaling, addition, negation, and length for 2D vectors:\n",
    "\n",
    "```haskell\n",
    "scaleV2 :: Num a => a -> V2 a -> V2 a\n",
    "addV2 :: Num a => V2 a -> V2 a -> V2 a\n",
    "negateV2 :: Num a => V2 a -> V2 a\n",
    "lengthV2 :: Floating a => V2 a -> a\n",
    "```\n",
    "\n",
    "Check your implementation:\n",
    "\n",
    "```haskell\n",
    ">>> scaleV2 0.5 (V2 3 4)\n",
    "V2 1.5 2.0\n",
    ">>> addV2 (V2 1 2) (V2 3 4)\n",
    "V2 4 6\n",
    ">>> negateV2 (V2 3 4)\n",
    "V2 (-3) (-4)\n",
    ">>> lengthV2 (V2 3 4)\n",
    "5.0\n",
    "```\n",
    "\n"
   ]
  },
  {
   "cell_type": "code",
   "execution_count": 45,
   "id": "5a8f55c3",
   "metadata": {},
   "outputs": [
    {
     "data": {
      "text/plain": [
       "V2 1.5 2.0"
      ]
     },
     "metadata": {},
     "output_type": "display_data"
    },
    {
     "data": {
      "text/plain": [
       "V2 4 6"
      ]
     },
     "metadata": {},
     "output_type": "display_data"
    },
    {
     "data": {
      "text/plain": [
       "V2 (-3) (-4)"
      ]
     },
     "metadata": {},
     "output_type": "display_data"
    },
    {
     "data": {
      "text/plain": [
       "5.0"
      ]
     },
     "metadata": {},
     "output_type": "display_data"
    }
   ],
   "source": [
    "data V2 a = V2 a a\n",
    "  deriving (Show)\n",
    "\n",
    "scaleV2 :: Num a => a -> V2 a -> V2 a\n",
    "scaleV2 k (V2 x y) = V2 (k * x) (k * y)\n",
    "\n",
    "addV2 :: Num a => V2 a -> V2 a -> V2 a\n",
    "addV2 (V2 x1 y1) (V2 x2 y2) = V2 (x1 + x2) (y1 + y2)\n",
    "\n",
    "negateV2 :: Num a => V2 a -> V2 a\n",
    "negateV2 (V2 x y) = V2 (-x) (-y)\n",
    "\n",
    "lengthV2 :: Floating a => V2 a -> a\n",
    "lengthV2 (V2 x y) = sqrt (x^2 + y^2)\n",
    "\n",
    "scaleV2 0.5 (V2 3 4)\n",
    "\n",
    "addV2 (V2 1 2) (V2 3 4)\n",
    "\n",
    "negateV2 (V2 3 4)\n",
    "\n",
    "lengthV2 (V2 3 4)"
   ]
  },
  {
   "cell_type": "markdown",
   "id": "d03200cd",
   "metadata": {},
   "source": [
    "When differentiating functions from vectors to scalars, we need to select a direction along which\n",
    "we are differentiating. In the simplest case, we may choose to differentiate with respect to *x* or *y*.\n",
    "\n",
    "In Haskell, we can define function `h` as follows:\n",
    "\n",
    "```haskell\n",
    "example_h :: Num a => V2 a -> a\n",
    "example_h (V2 x y) = x^2 + x * y^2\n",
    "```\n",
    "\n",
    "Before computing the partial derivatives, we need to be able to specify the direction in Haskell. To\n",
    "that end, we introduce two combinators, analogous to `lift` for the 1-dimensional case in the previous\n",
    "section:\n",
    "\n",
    "```haskell\n",
    "dx :: V2 a -> V2 (Forward a)\n",
    "dx (V2 x y) = V2 (lift x) (constant y)\n",
    "\n",
    "dy :: V2 a -> V2 (Forward a)\n",
    "dy (V2 x y) = V2 (constant x) (lift y)\n",
    "```\n",
    "\n",
    "We are now ready to define an automatic partial derivative.\n",
    "\n",
    "**Exercise 2.2.2** \n",
    "\n",
    "Define a higher-order function `pdiff` that computes a partial derivative\n",
    "of a vector-to-scalar function, given the direction:\n",
    "\n",
    "\n",
    "```haskell\n",
    "pdiff :: Num a\n",
    "=> (V2 a -> V2 (Forward a)) -- Direction of differentiation (dx or dy).\n",
    "-> (V2 (Forward a) -> Forward a) -- Vector-to-scalar function.\n",
    "-> V2 a -- The vector at which to compute the partial derivative.\n",
    "-> a\n",
    "```\n",
    "\n",
    "Check your implementation:\n",
    "\n",
    "```haskell\n",
    ">>> example_h (V2 2 3)\n",
    "22\n",
    ">>> pdiff dx example_h (V2 2 3)\n",
    "13\n",
    ">>> pdiff dy example_h (V2 2 3)\n",
    "12\n",
    "```"
   ]
  },
  {
   "cell_type": "code",
   "execution_count": 75,
   "id": "28b39282",
   "metadata": {},
   "outputs": [
    {
     "data": {
      "text/plain": [
       "22"
      ]
     },
     "metadata": {},
     "output_type": "display_data"
    },
    {
     "data": {
      "text/plain": [
       "13"
      ]
     },
     "metadata": {},
     "output_type": "display_data"
    },
    {
     "data": {
      "text/plain": [
       "12"
      ]
     },
     "metadata": {},
     "output_type": "display_data"
    }
   ],
   "source": [
    "data V2 a = V2 a a\n",
    "data Forward a = Forward a a\n",
    "\n",
    "instance Show a => Show (Forward a) where\n",
    "    show (Forward value derivative) = \"(\" ++ show value ++ \", \" ++ show derivative ++ \")\"\n",
    "\n",
    "instance Num a => Num (Forward a) where\n",
    "    (Forward x dx) + (Forward y dy) = Forward (x + y) (dx + dy)\n",
    "    (Forward x dx) - (Forward y dy) = Forward (x - y) (dx - dy)\n",
    "    (Forward x dx) * (Forward y dy) = Forward (x * y) (x * dy + y * dx)\n",
    "    abs (Forward x dx) = Forward (abs x) (signum x * dx)\n",
    "    signum (Forward x dx) = Forward (signum x) 0\n",
    "    fromInteger x = Forward (fromInteger x) 0\n",
    "\n",
    "lift :: Num a => a -> Forward a\n",
    "lift x = Forward x 1\n",
    "\n",
    "constant :: Num a => a -> Forward a\n",
    "constant x = Forward x 0\n",
    "\n",
    "dx :: Num a => V2 a -> V2 (Forward a)\n",
    "dx (V2 x y) = V2 (lift x) (constant y)\n",
    "\n",
    "dy :: Num a => V2 a -> V2 (Forward a)\n",
    "dy (V2 x y) = V2 (constant x) (lift y)\n",
    "\n",
    "pdiff :: Num a =>\n",
    "    (V2 a -> V2 (Forward a)) ->\n",
    "    (V2 (Forward a) -> Forward a) ->\n",
    "    V2 a -> a\n",
    "pdiff direction f (V2 x y) =\n",
    "    let (Forward val dx) = f (direction (V2 x y))\n",
    "    in dx\n",
    "\n",
    "exampleH :: Num a => V2 a -> a\n",
    "exampleH (V2 x y) = x^2 + x * y^2\n",
    "\n",
    "exampleH (V2 2 3)\n",
    "pdiff dx exampleH (V2 2 3)\n",
    "pdiff dy exampleH (V2 2 3)\n"
   ]
  },
  {
   "cell_type": "markdown",
   "id": "f001db1c",
   "metadata": {},
   "source": [
    "**Exercise 2.2.3**\n",
    "\n",
    "Define a higher-order function `grad` that computes a gradient vector of a\n",
    "vector-to-scalar function:\n",
    "\n",
    "```haskell\n",
    "grad :: Num a => (V2 (Forward a) -> Forward a) -> V2 a -> V2 a\n",
    "```\n",
    "\n",
    "Check your implementation:\n",
    "\n",
    "```haskell\n",
    ">>> grad (\\(V2 x y) -> (x - 1)^2 * (y - 2)^3) (V2 2 5)\n",
    "V2 54 27\n",
    ">>> grad (\\(V2 x y) -> sin x * cos y) (V2 (pi/3) (pi/3))\n",
    "V2 0.2500000000000001 (-0.7499999999999999)\n",
    "```"
   ]
  },
  {
   "cell_type": "code",
   "execution_count": null,
   "id": "dd1267c7",
   "metadata": {},
   "outputs": [
    {
     "data": {
      "text/html": [
       "<style>/* Styles used for the Hoogle display in the pager */\n",
       ".hoogle-doc {\n",
       "display: block;\n",
       "padding-bottom: 1.3em;\n",
       "padding-left: 0.4em;\n",
       "}\n",
       ".hoogle-code {\n",
       "display: block;\n",
       "font-family: monospace;\n",
       "white-space: pre;\n",
       "}\n",
       ".hoogle-text {\n",
       "display: block;\n",
       "}\n",
       ".hoogle-name {\n",
       "color: green;\n",
       "font-weight: bold;\n",
       "}\n",
       ".hoogle-head {\n",
       "font-weight: bold;\n",
       "}\n",
       ".hoogle-sub {\n",
       "display: block;\n",
       "margin-left: 0.4em;\n",
       "}\n",
       ".hoogle-package {\n",
       "font-weight: bold;\n",
       "font-style: italic;\n",
       "}\n",
       ".hoogle-module {\n",
       "font-weight: bold;\n",
       "}\n",
       ".hoogle-class {\n",
       "font-weight: bold;\n",
       "}\n",
       "\n",
       ".get-type {\n",
       "color: green;\n",
       "font-weight: bold;\n",
       "font-family: monospace;\n",
       "display: block;\n",
       "white-space: pre-wrap;\n",
       "}\n",
       ".show-type {\n",
       "color: green;\n",
       "font-weight: bold;\n",
       "font-family: monospace;\n",
       "margin-left: 1em;\n",
       "}\n",
       ".mono {\n",
       "font-family: monospace;\n",
       "display: block;\n",
       "}\n",
       ".err-msg {\n",
       "color: red;\n",
       "font-style: italic;\n",
       "font-family: monospace;\n",
       "white-space: pre;\n",
       "display: block;\n",
       "}\n",
       "#unshowable {\n",
       "color: red;\n",
       "font-weight: bold;\n",
       "}\n",
       ".err-msg.in.collapse {\n",
       "padding-top: 0.7em;\n",
       "}\n",
       "\n",
       ".highlight-code {\n",
       "white-space: pre;\n",
       "font-family: monospace;\n",
       "}\n",
       "\n",
       ".suggestion-warning { \n",
       "font-weight: bold;\n",
       "color: rgb(200, 130, 0);\n",
       "}\n",
       ".suggestion-error { \n",
       "font-weight: bold;\n",
       "color: red;\n",
       "}\n",
       ".suggestion-name {\n",
       "font-weight: bold;\n",
       "}\n",
       "\n",
       "</style><div class=\"suggestion-name\" style=\"clear:both;\">Redundant bracket</div><div class=\"suggestion-row\" style=\"float: left;\"><div class=\"suggestion-warning\">Found:</div><div class=\"highlight-code\" id=\"haskell\">(cos x) ^ 2</div></div><div class=\"suggestion-row\" style=\"float: left;\"><div class=\"suggestion-warning\">Why Not:</div><div class=\"highlight-code\" id=\"haskell\">cos x ^ 2</div></div>"
      ],
      "text/plain": [
       "Line 26: Redundant bracket\n",
       "Found:\n",
       "(cos x) ^ 2\n",
       "Why not:\n",
       "cos x ^ 2"
      ]
     },
     "metadata": {},
     "output_type": "display_data"
    },
    {
     "data": {
      "text/plain": [
       "V2 54 27"
      ]
     },
     "metadata": {},
     "output_type": "display_data"
    },
    {
     "data": {
      "text/plain": [
       "V2 0.2500000000000001 -0.7499999999999999"
      ]
     },
     "metadata": {},
     "output_type": "display_data"
    }
   ],
   "source": [
    "data V2 a = V2 a a\n",
    "data Forward a = Forward a a\n",
    "\n",
    "instance Show a => Show (Forward a) where\n",
    "    show (Forward value derivative) = \"(\" ++ show value ++ \", \" ++ show derivative ++ \")\"\n",
    "\n",
    "instance Show a => Show (V2 a) where\n",
    "    show (V2 x y) = \"V2 \" ++ show x ++ \" \" ++ show y\n",
    "\n",
    "instance Num a => Num (Forward a) where\n",
    "    (Forward x dx) + (Forward y dy) = Forward (x + y) (dx + dy)\n",
    "    (Forward x dx) - (Forward y dy) = Forward (x - y) (dx - dy)\n",
    "    (Forward x dx) * (Forward y dy) = Forward (x * y) (x * dy + y * dx)\n",
    "    abs (Forward x dx) = Forward (abs x) (signum x * dx)\n",
    "    signum (Forward x dx) = Forward (signum x) 0\n",
    "    fromInteger x = Forward (fromInteger x) 0\n",
    "\n",
    "instance Fractional a => Fractional (Forward a) where\n",
    "    (Forward x dx) / (Forward y dy) = Forward (x / y) ((dy * x - y * dx) / (y * y))\n",
    "    fromRational x = Forward (fromRational x) 0\n",
    "\n",
    "instance Floating a => Floating (Forward a) where\n",
    "    pi = Forward pi 0\n",
    "    sin (Forward x dx) = Forward (sin x) (dx * cos x)\n",
    "    cos (Forward x dx) = Forward (cos x) (-dx * sin x)\n",
    "    tan (Forward x dx) = Forward (tan x) (dx / (cos x)^2)\n",
    "    asin (Forward x dx) = Forward (asin x) (dx / sqrt(1 - x^2))\n",
    "    acos (Forward x dx) = Forward (acos x) (-dx / sqrt(1 - x^2))\n",
    "    atan (Forward x dx) = Forward (atan x) (dx / (1 + x^2))\n",
    "    sinh (Forward x dx) = Forward (sinh x) (dx * cosh x)\n",
    "    cosh (Forward x dx) = Forward (cosh x) (dx * sinh x)\n",
    "    exp (Forward x dx) = Forward (exp x) (dx * exp x)\n",
    "    log (Forward x dx) = Forward (log x) (dx / x)\n",
    "    sqrt (Forward x dx) = Forward (sqrt x) (dx / (2 * sqrt x))\n",
    "\n",
    "lift :: Num a => a -> Forward a\n",
    "lift x = Forward x 1\n",
    "\n",
    "constant :: Num a => a -> Forward a\n",
    "constant x = Forward x 0\n",
    "\n",
    "dx :: Num a => V2 a -> V2 (Forward a)\n",
    "dx (V2 x y) = V2 (lift x) (constant y)\n",
    "\n",
    "dy :: Num a => V2 a -> V2 (Forward a)\n",
    "dy (V2 x y) = V2 (constant x) (lift y)\n",
    "\n",
    "pdiff :: Num a =>\n",
    "    (V2 a -> V2 (Forward a)) ->\n",
    "    (V2 (Forward a) -> Forward a) ->\n",
    "    V2 a -> a\n",
    "pdiff direction f (V2 x y) =\n",
    "    let (Forward val dx) = f (direction (V2 x y))\n",
    "    in dx\n",
    "\n",
    "grad :: Num a => (V2 (Forward a) -> Forward a) -> V2 a -> V2 a\n",
    "grad f v = V2 (pdiff dx f v) (pdiff dy f v)\n",
    "\n",
    "grad (\\(V2 x y) -> (x - 1)^2 * (y - 2)^3) (V2 2 5)\n",
    "\n",
    "grad (\\(V2 x y) -> sin x * cos y) (V2 (pi/3) (pi/3))\n"
   ]
  },
  {
   "cell_type": "markdown",
   "id": "25c275a4",
   "metadata": {},
   "source": [
    "**Exercise 2.2.4**\n",
    "\n",
    "Implement higher-order function `naiveGradientDescent` that implements a naïve gradient descent algorithm, following the gradient with a fixed rate γ and starting from an initial approximation $v_0$.\n",
    "\n",
    "$v_{n+1} = v_n − γ · ∇f(v_n)$\n",
    "\n",
    "The Haskell function should produce an infinite list of increasingly accurate approximations.\n",
    "\n",
    "```haskell\n",
    "naiveGradientDescent :: Floating a => a -> (V2 (Forward a) -> Forward a) -> V2 a -> [V2 a]\n",
    "```\n",
    "\n",
    "Check your implementation:\n",
    "\n",
    "```haskell\n",
    ">>> mapM_ print $ take 10 $ naiveGradientDescent 0.1 (\\(V2 x y) -> x^2 + y^2) (V2 1 2)\n",
    "V2 1.0 2.0\n",
    "V2 0.8 1.6\n",
    "V2 0.64 1.28\n",
    "V2 0.512 1.024\n",
    "V2 0.4096 0.8192\n",
    "V2 0.32768 0.65536\n",
    "V2 0.26214400000000004 0.5242880000000001\n",
    "V2 0.20971520000000005 0.4194304000000001\n",
    "V2 0.16777216000000003 0.33554432000000006\n",
    "V2 0.13421772800000004 0.26843545600000007\n",
    "```"
   ]
  },
  {
   "cell_type": "code",
   "execution_count": null,
   "id": "b1aac343",
   "metadata": {},
   "outputs": [
    {
     "data": {
      "text/plain": [
       "V2 1.0 2.0\n",
       "V2 0.8 1.6\n",
       "V2 0.64 1.28\n",
       "V2 0.512 1.024\n",
       "V2 0.4096 0.8192\n",
       "V2 0.32768 0.65536\n",
       "V2 0.26214400000000004 0.5242880000000001\n",
       "V2 0.20971520000000005 0.4194304000000001\n",
       "V2 0.16777216000000003 0.33554432000000006\n",
       "V2 0.13421772800000004 0.26843545600000007"
      ]
     },
     "metadata": {},
     "output_type": "display_data"
    }
   ],
   "source": [
    "naiveGradientDescent :: Floating a => a -> (V2 (Forward a) -> Forward a) -> V2 a -> [V2 a]\n",
    "naiveGradientDescent gamma f v = iterate step v\n",
    "  where\n",
    "    step v = let g = grad f v\n",
    "             in V2 (x v - gamma * fst g) (y v - gamma * snd g)\n",
    "    \n",
    "    x (V2 a b) = a\n",
    "    y (V2 a b) = b\n",
    "\n",
    "    fst (V2 a _) = a\n",
    "    snd (V2 _ b) = b\n",
    "\n",
    "\n",
    "mapM_ print $ take 10 $ naiveGradientDescent 0.1 (\\(V2 x y) -> x^2 + y^2) (V2 1 2)"
   ]
  },
  {
   "cell_type": "markdown",
   "id": "30b36c4d",
   "metadata": {},
   "source": [
    "**Exercise 2.2.5**\n",
    "\n",
    "Implement the backtracking line search defined above as a Haskell function:\n",
    "\n",
    "```haskell\n",
    "backtrackingLineSearch\n",
    ":: (Floating a, Ord a)\n",
    "=> a -- The control parameter c.\n",
    "-> (V2 (Forward a) -> Forward a) -- The function f.\n",
    "-> V2 a -- Current vector v.\n",
    "-> a -- Initial approximation of γ.\n",
    "-> a\n",
    "```\n",
    "\n",
    "Check your implementation:\n",
    "\n",
    "```haskell\n",
    ">>> backtrackingLineSearch 0.5 (\\(V2 x y) -> x^2 + y^2) (V2 1 3) 1\n",
    "0.25\n",
    ">>> backtrackingLineSearch 0.5 (\\(V2 x y) -> 3 * x * exp (- x^2 - y^2)) (V2 0 0) 0.9\n",
    "0.225\n",
    "```\n"
   ]
  },
  {
   "cell_type": "code",
   "execution_count": null,
   "id": "03cab91c",
   "metadata": {},
   "outputs": [
    {
     "data": {
      "text/html": [
       "<style>/* Styles used for the Hoogle display in the pager */\n",
       ".hoogle-doc {\n",
       "display: block;\n",
       "padding-bottom: 1.3em;\n",
       "padding-left: 0.4em;\n",
       "}\n",
       ".hoogle-code {\n",
       "display: block;\n",
       "font-family: monospace;\n",
       "white-space: pre;\n",
       "}\n",
       ".hoogle-text {\n",
       "display: block;\n",
       "}\n",
       ".hoogle-name {\n",
       "color: green;\n",
       "font-weight: bold;\n",
       "}\n",
       ".hoogle-head {\n",
       "font-weight: bold;\n",
       "}\n",
       ".hoogle-sub {\n",
       "display: block;\n",
       "margin-left: 0.4em;\n",
       "}\n",
       ".hoogle-package {\n",
       "font-weight: bold;\n",
       "font-style: italic;\n",
       "}\n",
       ".hoogle-module {\n",
       "font-weight: bold;\n",
       "}\n",
       ".hoogle-class {\n",
       "font-weight: bold;\n",
       "}\n",
       "\n",
       ".get-type {\n",
       "color: green;\n",
       "font-weight: bold;\n",
       "font-family: monospace;\n",
       "display: block;\n",
       "white-space: pre-wrap;\n",
       "}\n",
       ".show-type {\n",
       "color: green;\n",
       "font-weight: bold;\n",
       "font-family: monospace;\n",
       "margin-left: 1em;\n",
       "}\n",
       ".mono {\n",
       "font-family: monospace;\n",
       "display: block;\n",
       "}\n",
       ".err-msg {\n",
       "color: red;\n",
       "font-style: italic;\n",
       "font-family: monospace;\n",
       "white-space: pre;\n",
       "display: block;\n",
       "}\n",
       "#unshowable {\n",
       "color: red;\n",
       "font-weight: bold;\n",
       "}\n",
       ".err-msg.in.collapse {\n",
       "padding-top: 0.7em;\n",
       "}\n",
       "\n",
       ".highlight-code {\n",
       "white-space: pre;\n",
       "font-family: monospace;\n",
       "}\n",
       "\n",
       ".suggestion-warning { \n",
       "font-weight: bold;\n",
       "color: rgb(200, 130, 0);\n",
       "}\n",
       ".suggestion-error { \n",
       "font-weight: bold;\n",
       "color: red;\n",
       "}\n",
       ".suggestion-name {\n",
       "font-weight: bold;\n",
       "}\n",
       "\n",
       "</style><div class=\"suggestion-name\" style=\"clear:both;\">Eta reduce</div><div class=\"suggestion-row\" style=\"float: left;\"><div class=\"suggestion-warning\">Found:</div><div class=\"highlight-code\" id=\"haskell\">backtrackingLineSearch c f v@(V2 x y) gamma = go gamma</div></div><div class=\"suggestion-row\" style=\"float: left;\"><div class=\"suggestion-warning\">Why Not:</div><div class=\"highlight-code\" id=\"haskell\">backtrackingLineSearch c f v@(V2 x y) = go</div></div>"
      ],
      "text/plain": [
       "Line 22: Eta reduce\n",
       "Found:\n",
       "backtrackingLineSearch c f v@(V2 x y) gamma = go gamma\n",
       "Why not:\n",
       "backtrackingLineSearch c f v@(V2 x y) = go"
      ]
     },
     "metadata": {},
     "output_type": "display_data"
    },
    {
     "data": {
      "text/plain": [
       "0.25"
      ]
     },
     "metadata": {},
     "output_type": "display_data"
    },
    {
     "data": {
      "text/plain": [
       "0.225"
      ]
     },
     "metadata": {},
     "output_type": "display_data"
    }
   ],
   "source": [
    "data V2 a = V2 a a deriving (Show, Eq)\n",
    "\n",
    "newtype Forward a = Forward a deriving (Show, Eq)\n",
    "\n",
    "gradient :: (Floating a) => (V2 (Forward a) -> Forward a) -> V2 a -> V2 a\n",
    "gradient f (V2 x y) = V2 dx dy\n",
    "  where\n",
    "    h = 1e-6\n",
    "    Forward fx = f (V2 (Forward x) (Forward y))\n",
    "    Forward fx_dx = f (V2 (Forward (x + h)) (Forward y))\n",
    "    Forward fx_dy = f (V2 (Forward x) (Forward (y + h)))\n",
    "    dx = (fx_dx - fx) / h\n",
    "    dy = (fx_dy - fx) / h\n",
    "\n",
    "backtrackingLineSearch \n",
    "    :: (Floating a, Ord a) \n",
    "    => a\n",
    "    -> (V2 (Forward a) -> Forward a)    \n",
    "    -> V2 a                          \n",
    "    -> a                                \n",
    "    -> a                               \n",
    "backtrackingLineSearch c f v@(V2 x y) gamma = go gamma\n",
    "  where\n",
    "    grad@(V2 gx gy) = gradient f v\n",
    "    \n",
    "    dir@(V2 dx dy) = V2 (-gx) (-gy)\n",
    "    \n",
    "    Forward fv = f (V2 (Forward x) (Forward y))\n",
    "\n",
    "    sufficientDecrease gamma' = \n",
    "        let V2 x' y' = V2 (x + gamma' * dx) (y + gamma' * dy)\n",
    "            Forward fv' = f (V2 (Forward x') (Forward y'))\n",
    "            decrease = c * gamma' * (gx * dx + gy * dy)\n",
    "        in fv' <= fv + decrease\n",
    "    \n",
    "    go gamma' \n",
    "        | gamma' < 1e-10 = gamma'\n",
    "        | sufficientDecrease gamma' = gamma'\n",
    "        | otherwise = go (0.5 * gamma')\n",
    "\n",
    "instance Num a => Num (Forward a) where\n",
    "    Forward x + Forward y = Forward (x + y)\n",
    "    Forward x - Forward y = Forward (x - y)\n",
    "    Forward x * Forward y = Forward (x * y)\n",
    "    abs (Forward x) = Forward (abs x)\n",
    "    signum (Forward x) = Forward (signum x)\n",
    "    fromInteger n = Forward (fromInteger n)\n",
    "\n",
    "instance Fractional a => Fractional (Forward a) where\n",
    "    fromRational r = Forward (fromRational r)\n",
    "    Forward x / Forward y = Forward (x / y)\n",
    "\n",
    "instance Floating a => Floating (Forward a) where\n",
    "    pi = Forward pi\n",
    "    exp (Forward x) = Forward (exp x)\n",
    "    log (Forward x) = Forward (log x)\n",
    "    sin (Forward x) = Forward (sin x)\n",
    "    cos (Forward x) = Forward (cos x)\n",
    "    asin (Forward x) = Forward (asin x)\n",
    "    acos (Forward x) = Forward (acos x)\n",
    "    atan (Forward x) = Forward (atan x)\n",
    "    sinh (Forward x) = Forward (sinh x)\n",
    "    cosh (Forward x) = Forward (cosh x)\n",
    "    asinh (Forward x) = Forward (asinh x)\n",
    "    acosh (Forward x) = Forward (acosh x)\n",
    "    atanh (Forward x) = Forward (atanh x)\n",
    "    \n",
    "    \n",
    "    \n",
    "backtrackingLineSearch 0.5 (\\(V2 x y) -> x^2 + y^2) (V2 1 3) 1\n",
    "\n",
    "backtrackingLineSearch 0.5 (\\(V2 x y) -> 3 * x * exp (- x^2 - y^2)) (V2 0 0) 0.9"
   ]
  },
  {
   "cell_type": "markdown",
   "id": "e0e39d1e",
   "metadata": {},
   "source": [
    "Now we are ready to implement our first more or less efficient gradient descent.\n",
    "\n",
    "\n",
    "**Exercise 2.2.6**\n",
    "\n",
    "Implement higher-order function `gradientDescent` that implements a\n",
    "gradient descent algorithm, following the gradient with an initial rate γ (which is adapted dynamically\n",
    "at every step via backtracking line search) and starting from an initial approximation $v_0$.\n",
    "\n",
    "```haskell\n",
    "gradientDescent :: Floating a => a -> (V2 (Forward a) -> Forward a) -> V2 a -> [V2 a]\n",
    "```\n",
    "\n",
    "Check your implementation:\n",
    "\n",
    "```haskell\n",
    ">>> mapM_ print $ take 10 $ gradientDescent 0.01 (\\(V2 x y) -> x^2 + y^2) (V2 9 3)\n",
    "V2 9.0 3.0\n",
    "V2 8.82 2.94\n",
    "V2 8.4672 2.8224\n",
    "V2 7.789824 2.596608\n",
    "V2 6.54345216 2.1811507199999998\n",
    "V2 4.4495474688000005 1.4831824895999999\n",
    "V2 1.6018370887680002 0.533945696256\n",
    "V2 0.57666135195648 0.19222045065215998\n",
    "V2 0.20759808670433283 6.919936223477759e-2\n",
    "V2 7.473531121355981e-2 2.491177040451993e-2\n",
    "```"
   ]
  },
  {
   "cell_type": "code",
   "execution_count": null,
   "id": "8d19c312",
   "metadata": {},
   "outputs": [
    {
     "data": {
      "text/html": [
       "<style>/* Styles used for the Hoogle display in the pager */\n",
       ".hoogle-doc {\n",
       "display: block;\n",
       "padding-bottom: 1.3em;\n",
       "padding-left: 0.4em;\n",
       "}\n",
       ".hoogle-code {\n",
       "display: block;\n",
       "font-family: monospace;\n",
       "white-space: pre;\n",
       "}\n",
       ".hoogle-text {\n",
       "display: block;\n",
       "}\n",
       ".hoogle-name {\n",
       "color: green;\n",
       "font-weight: bold;\n",
       "}\n",
       ".hoogle-head {\n",
       "font-weight: bold;\n",
       "}\n",
       ".hoogle-sub {\n",
       "display: block;\n",
       "margin-left: 0.4em;\n",
       "}\n",
       ".hoogle-package {\n",
       "font-weight: bold;\n",
       "font-style: italic;\n",
       "}\n",
       ".hoogle-module {\n",
       "font-weight: bold;\n",
       "}\n",
       ".hoogle-class {\n",
       "font-weight: bold;\n",
       "}\n",
       "\n",
       ".get-type {\n",
       "color: green;\n",
       "font-weight: bold;\n",
       "font-family: monospace;\n",
       "display: block;\n",
       "white-space: pre-wrap;\n",
       "}\n",
       ".show-type {\n",
       "color: green;\n",
       "font-weight: bold;\n",
       "font-family: monospace;\n",
       "margin-left: 1em;\n",
       "}\n",
       ".mono {\n",
       "font-family: monospace;\n",
       "display: block;\n",
       "}\n",
       ".err-msg {\n",
       "color: red;\n",
       "font-style: italic;\n",
       "font-family: monospace;\n",
       "white-space: pre;\n",
       "display: block;\n",
       "}\n",
       "#unshowable {\n",
       "color: red;\n",
       "font-weight: bold;\n",
       "}\n",
       ".err-msg.in.collapse {\n",
       "padding-top: 0.7em;\n",
       "}\n",
       "\n",
       ".highlight-code {\n",
       "white-space: pre;\n",
       "font-family: monospace;\n",
       "}\n",
       "\n",
       ".suggestion-warning { \n",
       "font-weight: bold;\n",
       "color: rgb(200, 130, 0);\n",
       "}\n",
       ".suggestion-error { \n",
       "font-weight: bold;\n",
       "color: red;\n",
       "}\n",
       ".suggestion-name {\n",
       "font-weight: bold;\n",
       "}\n",
       "\n",
       "</style><div class=\"suggestion-name\" style=\"clear:both;\">Eta reduce</div><div class=\"suggestion-row\" style=\"float: left;\"><div class=\"suggestion-warning\">Found:</div><div class=\"highlight-code\" id=\"haskell\">backtrackingLineSearch c f v@(V2 x y) gamma = go gamma</div></div><div class=\"suggestion-row\" style=\"float: left;\"><div class=\"suggestion-warning\">Why Not:</div><div class=\"highlight-code\" id=\"haskell\">backtrackingLineSearch c f v@(V2 x y) = go</div></div><div class=\"suggestion-name\" style=\"clear:both;\">Eta reduce</div><div class=\"suggestion-row\" style=\"float: left;\"><div class=\"suggestion-warning\">Found:</div><div class=\"highlight-code\" id=\"haskell\">gradientDescent gamma f v0 = iterate nextPoint v0</div></div><div class=\"suggestion-row\" style=\"float: left;\"><div class=\"suggestion-warning\">Why Not:</div><div class=\"highlight-code\" id=\"haskell\">gradientDescent gamma f = iterate nextPoint</div></div>"
      ],
      "text/plain": [
       "Line 22: Eta reduce\n",
       "Found:\n",
       "backtrackingLineSearch c f v@(V2 x y) gamma = go gamma\n",
       "Why not:\n",
       "backtrackingLineSearch c f v@(V2 x y) = goLine 45: Eta reduce\n",
       "Found:\n",
       "gradientDescent gamma f v0 = iterate nextPoint v0\n",
       "Why not:\n",
       "gradientDescent gamma f = iterate nextPoint"
      ]
     },
     "metadata": {},
     "output_type": "display_data"
    },
    {
     "data": {
      "text/plain": [
       "V2 9.0 3.0\n",
       "V2 8.819999990080532 2.93999998991967\n",
       "V2 8.64359998045893 2.881199980080737\n",
       "V2 8.470727970987127 2.8235759704812153\n",
       "V2 8.301313401645075 2.7671044411617913\n",
       "V2 8.135287123692706 2.711762342400334\n",
       "V2 7.9725813713903335 2.6575270854748396\n",
       "V2 7.813129734003269 2.6043765337105924\n",
       "V2 7.65686712936963 2.5522889931010013\n",
       "V2 7.503729776757609 2.5012432032126526"
      ]
     },
     "metadata": {},
     "output_type": "display_data"
    }
   ],
   "source": [
    "data V2 a = V2 a a deriving (Show, Eq)\n",
    "\n",
    "newtype Forward a = Forward a deriving (Show, Eq)\n",
    "\n",
    "gradient :: (Floating a) => (V2 (Forward a) -> Forward a) -> V2 a -> V2 a\n",
    "gradient f (V2 x y) = V2 dx dy\n",
    "  where\n",
    "    h = 1e-6\n",
    "    Forward fx = f (V2 (Forward x) (Forward y))\n",
    "    Forward fx_dx = f (V2 (Forward (x + h)) (Forward y))\n",
    "    Forward fx_dy = f (V2 (Forward x) (Forward (y + h)))\n",
    "    dx = (fx_dx - fx) / h\n",
    "    dy = (fx_dy - fx) / h\n",
    "\n",
    "backtrackingLineSearch \n",
    "    :: (Floating a, Ord a) \n",
    "    => a                                 \n",
    "    -> (V2 (Forward a) -> Forward a)      \n",
    "    -> V2 a                              \n",
    "    -> a                                \n",
    "    -> a                                \n",
    "backtrackingLineSearch c f v@(V2 x y) gamma = go gamma\n",
    "  where\n",
    "    grad@(V2 gx gy) = gradient f v\n",
    "    dir@(V2 dx dy) = V2 (-gx) (-gy)\n",
    "    Forward fv = f (V2 (Forward x) (Forward y))\n",
    "    \n",
    "    sufficientDecrease gamma' = \n",
    "        let V2 x' y' = V2 (x + gamma' * dx) (y + gamma' * dy)\n",
    "            Forward fv' = f (V2 (Forward x') (Forward y'))\n",
    "            decrease = c * gamma' * (gx * dx + gy * dy)\n",
    "        in fv' <= fv + decrease\n",
    "    \n",
    "    go gamma' \n",
    "        | gamma' < 1e-10 = gamma'\n",
    "        | sufficientDecrease gamma' = gamma'\n",
    "        | otherwise = go (0.5 * gamma')\n",
    "\n",
    "gradientDescent \n",
    "    :: (Floating a, Ord a)  \n",
    "    => a                    \n",
    "    -> (V2 (Forward a) -> Forward a) \n",
    "    -> V2 a               \n",
    "    -> [V2 a]             \n",
    "gradientDescent gamma f v0 = iterate nextPoint v0\n",
    "  where\n",
    "    nextPoint v@(V2 x y) = \n",
    "        let grad@(V2 gx gy) = gradient f v\n",
    "            stepSize = backtrackingLineSearch 0.5 f v gamma\n",
    "            dx = -stepSize * gx\n",
    "            dy = -stepSize * gy\n",
    "        in V2 (x + dx) (y + dy)\n",
    "\n",
    "instance Num a => Num (Forward a) where\n",
    "    Forward x + Forward y = Forward (x + y)\n",
    "    Forward x - Forward y = Forward (x - y)\n",
    "    Forward x * Forward y = Forward (x * y)\n",
    "    abs (Forward x) = Forward (abs x)\n",
    "    signum (Forward x) = Forward (signum x)\n",
    "    fromInteger n = Forward (fromInteger n)\n",
    "\n",
    "instance Fractional a => Fractional (Forward a) where\n",
    "    fromRational r = Forward (fromRational r)\n",
    "    Forward x / Forward y = Forward (x / y)\n",
    "\n",
    "instance Floating a => Floating (Forward a) where\n",
    "    pi = Forward pi\n",
    "    exp (Forward x) = Forward (exp x)\n",
    "    log (Forward x) = Forward (log x)\n",
    "    sin (Forward x) = Forward (sin x)\n",
    "    cos (Forward x) = Forward (cos x)\n",
    "    asin (Forward x) = Forward (asin x)\n",
    "    acos (Forward x) = Forward (acos x)\n",
    "    atan (Forward x) = Forward (atan x)\n",
    "    sinh (Forward x) = Forward (sinh x)\n",
    "    cosh (Forward x) = Forward (cosh x)\n",
    "    asinh (Forward x) = Forward (asinh x)\n",
    "    acosh (Forward x) = Forward (acosh x)\n",
    "    atanh (Forward x) = Forward (atanh x)\n",
    "    \n",
    "    \n",
    "    \n",
    "mapM_ print $ take 10 $ gradientDescent 0.01 (\\(V2 x y) -> x^2 + y^2) (V2 9 3)"
   ]
  },
  {
   "cell_type": "code",
   "execution_count": null,
   "id": "0c32ffee",
   "metadata": {},
   "outputs": [],
   "source": []
  }
 ],
 "metadata": {
  "kernelspec": {
   "display_name": "Haskell",
   "language": "haskell",
   "name": "haskell"
  },
  "language_info": {
   "codemirror_mode": "ihaskell",
   "file_extension": ".hs",
   "mimetype": "text/x-haskell",
   "name": "haskell",
   "pygments_lexer": "Haskell",
   "version": "9.6.4"
  }
 },
 "nbformat": 4,
 "nbformat_minor": 5
}
