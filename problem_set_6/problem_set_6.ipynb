{
 "cells": [
  {
   "cell_type": "markdown",
   "id": "8519ec57",
   "metadata": {},
   "source": [
    "# Week 6. Problem set\n",
    "## Evgeny Bobkunov e.bobkunov@innopolis.university SD-03"
   ]
  },
  {
   "cell_type": "markdown",
   "id": "e73bc82f",
   "metadata": {},
   "source": [
    "### 1. Implement the following functions over lists in Haskell using **explicit recursion** (i.e. without using higher-order functions like `map`, `all`, `any`, `filter`, and `foldr`). Each function must be implemented independently."
   ]
  },
  {
   "cell_type": "markdown",
   "id": "568bb4e5",
   "metadata": {},
   "source": [
    "(a) Find the most frequent Character in a list (return the first one when ambiguous):\n",
    "\n",
    "```\n",
    "    >>> most-frequent \"helloworld\"\n",
    "    'l'\n",
    "```"
   ]
  },
  {
   "cell_type": "code",
   "execution_count": 12,
   "id": "472671ee",
   "metadata": {},
   "outputs": [
    {
     "data": {
      "text/plain": [
       "'l'"
      ]
     },
     "metadata": {},
     "output_type": "display_data"
    }
   ],
   "source": [
    "-- Helper function to count occurrences of a character in a list\n",
    "countOccurrences :: Char -> String -> Int\n",
    "countOccurrences _ [] = 0\n",
    "countOccurrences c (x:xs)\n",
    "    | c == x    = 1 + countOccurrences c xs\n",
    "    | otherwise = countOccurrences c xs\n",
    "\n",
    "-- Helper function to find the character with the highest count\n",
    "mostFrequentHelper :: String -> Char -> Int -> Char\n",
    "mostFrequentHelper [] maxChar _ = maxChar\n",
    "mostFrequentHelper (x:xs) maxChar maxCount =\n",
    "    let currentCount = countOccurrences x (x:xs)\n",
    "    in if currentCount > maxCount\n",
    "       then mostFrequentHelper xs x currentCount\n",
    "       else mostFrequentHelper xs maxChar maxCount\n",
    "\n",
    "-- Main function to find the most frequent character\n",
    "mostFrequent :: String -> Char\n",
    "mostFrequent [] = error \"Empty list\"\n",
    "mostFrequent (x:xs) = mostFrequentHelper (x:xs) x (countOccurrences x (x:xs))\n",
    "\n",
    "mostFrequent \"helloworld\"\n"
   ]
  },
  {
   "cell_type": "markdown",
   "id": "a0b30fea",
   "metadata": {},
   "source": [
    "(b) Annotate each symbol in a list with its occurrence in the list:\n",
    "\n",
    "```\n",
    "    >>> annotate-occurrence \"helloworld\"\n",
    "    [('h',1),('e',1),('l',1),('l',2),('o',1),('w',1),('o',2),('r',1),('l',3),('d',1)]\n",
    "```"
   ]
  },
  {
   "cell_type": "code",
   "execution_count": 19,
   "id": "473df7e8",
   "metadata": {},
   "outputs": [
    {
     "data": {
      "text/plain": [
       "[('h',1),('e',1),('l',1),('l',2),('o',1),('w',1),('o',2),('r',1),('l',3),('d',1)]"
      ]
     },
     "metadata": {},
     "output_type": "display_data"
    }
   ],
   "source": [
    "-- Function to annotate each symbol with its occurrence\n",
    "annotateOccurrence :: Eq a => [a] -> [(a, Int)]\n",
    "annotateOccurrence xs = annotateHelper xs []\n",
    "\n",
    "-- Helper function to annotate each character recursively\n",
    "annotateHelper :: Eq a => [a] -> [a] -> [(a, Int)]\n",
    "annotateHelper [] _ = []\n",
    "annotateHelper (x:xs) seen = (x, countOccurrences x seen + 1) : annotateHelper xs (x:seen)\n",
    "\n",
    "-- Function to count occurrences of a character in the list seen so far\n",
    "countOccurrences :: Eq a => a -> [a] -> Int\n",
    "countOccurrences _ [] = 0\n",
    "countOccurrences x (y:ys)\n",
    "  | x == y    = 1 + countOccurrences x ys\n",
    "  | otherwise = countOccurrences x ys\n",
    "\n",
    "annotateOccurrence \"helloworld\"\n"
   ]
  },
  {
   "cell_type": "markdown",
   "id": "395ec85a",
   "metadata": {},
   "source": [
    "(c) Convert a trinary string represented as a list of 0s, 1s, and 2s into a (decimal) number:\n",
    "\n",
    "```\n",
    "    >>> trinary-to-decimal [1, 0, 2, 1, 0]\n",
    "    102\n",
    "```"
   ]
  },
  {
   "cell_type": "code",
   "execution_count": 28,
   "id": "78286e60",
   "metadata": {},
   "outputs": [
    {
     "data": {
      "text/plain": [
       "102"
      ]
     },
     "metadata": {},
     "output_type": "display_data"
    }
   ],
   "source": [
    "trinaryDigitToDecimal :: Int -> Int\n",
    "trinaryDigitToDecimal digit\n",
    "    | digit >= 0 && digit <= 2 = digit\n",
    "    | otherwise = error \"Invalid trinary digit\"\n",
    "\n",
    "trinaryToDecimal :: [Int] -> Int\n",
    "trinaryToDecimal [] = 0\n",
    "trinaryToDecimal (x:xs) = trinaryDigitToDecimal x * (3 ^ length xs) + trinaryToDecimal xs\n",
    "\n",
    "trinaryToDecimal [1, 0, 2, 1, 0]"
   ]
  },
  {
   "cell_type": "markdown",
   "id": "359d9116",
   "metadata": {},
   "source": [
    "(d) Return the last 3 Characters in a String. If the string is too short, return entire string:\n",
    "\n",
    "```\n",
    "    >>> last-three \"111011\"\n",
    "    \"011\"\n",
    "    >>> last-three \"symbol\"\n",
    "    \"bol\"\n",
    "    >>> last-three \"no\"\n",
    "    \"no\"\n",
    "```"
   ]
  },
  {
   "cell_type": "code",
   "execution_count": 29,
   "id": "cb3cb178",
   "metadata": {},
   "outputs": [
    {
     "data": {
      "text/plain": [
       "\"011\""
      ]
     },
     "metadata": {},
     "output_type": "display_data"
    },
    {
     "data": {
      "text/plain": [
       "\"bol\""
      ]
     },
     "metadata": {},
     "output_type": "display_data"
    },
    {
     "data": {
      "text/plain": [
       "\"no\""
      ]
     },
     "metadata": {},
     "output_type": "display_data"
    }
   ],
   "source": [
    "stringLength :: String -> Int\n",
    "stringLength [] = 0\n",
    "stringLength (_:xs) = 1 + stringLength xs\n",
    "\n",
    "dropChars :: Int -> String -> String\n",
    "dropChars 0 xs = xs\n",
    "dropChars _ [] = []\n",
    "dropChars n (_:xs) = dropChars (n-1) xs\n",
    "\n",
    "lastThree :: String -> String\n",
    "lastThree str \n",
    "    | stringLength str <= 3 = str\n",
    "    | otherwise = dropChars (stringLength str - 3) str\n",
    "    \n",
    "lastThree \"111011\"\n",
    "lastThree \"symbol\"\n",
    "lastThree \"no\""
   ]
  },
  {
   "cell_type": "markdown",
   "id": "db2b78d4",
   "metadata": {},
   "source": [
    "(e) Decrement a binary number (represented as a list of digits). Decrementing zero should\n",
    "produce zero:\n",
    "\n",
    "```\n",
    "    >>> decrement [1,0,1,1,0]\n",
    "    [1,0,1,0,1]\n",
    "    >>> decrement [1,0,0,0,0]\n",
    "    [1,1,1,1]\n",
    "    >>> decrement [0]\n",
    "    [0]\n",
    "```"
   ]
  },
  {
   "cell_type": "code",
   "execution_count": 35,
   "id": "cb97f0a5",
   "metadata": {},
   "outputs": [
    {
     "data": {
      "text/plain": [
       "[1,0,1,0,1]"
      ]
     },
     "metadata": {},
     "output_type": "display_data"
    },
    {
     "data": {
      "text/plain": [
       "[1,1,1,1]"
      ]
     },
     "metadata": {},
     "output_type": "display_data"
    },
    {
     "data": {
      "text/plain": [
       "[0]"
      ]
     },
     "metadata": {},
     "output_type": "display_data"
    },
    {
     "data": {
      "text/plain": [
       "[1,0]"
      ]
     },
     "metadata": {},
     "output_type": "display_data"
    }
   ],
   "source": [
    "\n",
    "removeLeadingZeros :: [Int] -> [Int]\n",
    "removeLeadingZeros [] = [0]\n",
    "removeLeadingZeros (0:xs) = removeLeadingZeros xs\n",
    "removeLeadingZeros xs = xs\n",
    "\n",
    "decrementHelper :: [Int] -> [Int]\n",
    "decrementHelper [] = [1]\n",
    "decrementHelper (0:xs) = 1 : decrementHelper xs\n",
    "decrementHelper (1:xs) = 0 : xs\n",
    "\n",
    "decrement :: [Int] -> [Int]\n",
    "decrement [0] = [0]\n",
    "decrement xs = removeLeadingZeros $ reverse $ decrementHelper (reverse xs)\n",
    "\n",
    "decrement [1,0,1,1,0]\n",
    "decrement [1,0,0,0,0]\n",
    "decrement [0]\n",
    "decrement [1,1]"
   ]
  },
  {
   "cell_type": "markdown",
   "id": "79de0170",
   "metadata": {},
   "source": [
    "### 2. Consider the following definitions:\n",
    "\n",
    "```\n",
    "data Day = Day Int -- day of a month (from 1 to 29, 30, or 31)\n",
    "data Month = Month Int -- month of the year (from 1 to 12)\n",
    "data Year = Year Int -- year\n",
    "data Date = Date Day Month Year -- a valid date\n",
    "```\n",
    "\n",
    "Implement the following functions. Note that some functions require careful consideration of a\n",
    "few corner cases:\n",
    "\n",
    "```\n",
    "-- | Extract year from a date.\n",
    "yearOf :: Date -> Year\n",
    "\n",
    "-- | Extract month from a date.\n",
    "monthOf :: Date -> Month\n",
    "\n",
    "-- | Extract day of the month from a date.\n",
    "dayOf :: Date -> Day\n",
    "\n",
    "-- | A year is leap if it is divisible by 4 and\n",
    "-- not divisible by 100 (except if it is divisible by 400).\n",
    "isLeapYear :: Year -> Bool\n",
    "\n",
    "-- | How many days are in a given month (in a given year)?\n",
    "daysInMonth :: Year -> Month -> Int\n",
    "\n",
    "-- | Add some number of years (can be positive, negative, or zero) to a given date\n",
    "-- to produce a new valid date.\n",
    "addYears :: Int -> Date -> Date\n",
    "\n",
    "-- | Add some number of months (can be positive, negative, or zero) to a given date\n",
    "-- to produce a new valid date.\n",
    "addMonths :: Int -> Date -> Date\n",
    "\n",
    "-- | Add some number of days (can be positive, negative, or zero) to a given date\n",
    "-- to produce a new valid date.\n",
    "addDays :: Int -> Date -> Date\n",
    "\n",
    "```"
   ]
  },
  {
   "cell_type": "code",
   "execution_count": null,
   "id": "ea7e1d00",
   "metadata": {},
   "outputs": [
    {
     "data": {
      "text/plain": [
       "False"
      ]
     },
     "metadata": {},
     "output_type": "display_data"
    },
    {
     "data": {
      "text/plain": [
       "Day 24"
      ]
     },
     "metadata": {},
     "output_type": "display_data"
    },
    {
     "data": {
      "text/plain": [
       "Month 2"
      ]
     },
     "metadata": {},
     "output_type": "display_data"
    },
    {
     "data": {
      "text/plain": [
       "Year 2022"
      ]
     },
     "metadata": {},
     "output_type": "display_data"
    },
    {
     "data": {
      "text/plain": [
       "29"
      ]
     },
     "metadata": {},
     "output_type": "display_data"
    },
    {
     "data": {
      "text/plain": [
       "28"
      ]
     },
     "metadata": {},
     "output_type": "display_data"
    },
    {
     "data": {
      "text/plain": [
       "Date (Day 15) (Month 2) (Year 2021)"
      ]
     },
     "metadata": {},
     "output_type": "display_data"
    },
    {
     "data": {
      "text/plain": [
       "Date (Day 15) (Month 3) (Year 2025)"
      ]
     },
     "metadata": {},
     "output_type": "display_data"
    },
    {
     "data": {
      "text/plain": [
       "Date (Day 15) (Month 11) (Year 2023)"
      ]
     },
     "metadata": {},
     "output_type": "display_data"
    },
    {
     "data": {
      "text/plain": [
       "Date (Day 25) (Month 3) (Year 2024)"
      ]
     },
     "metadata": {},
     "output_type": "display_data"
    },
    {
     "data": {
      "text/plain": [
       "Date (Day 4) (Month 3) (Year 2024)"
      ]
     },
     "metadata": {},
     "output_type": "display_data"
    },
    {
     "data": {
      "text/plain": [
       "Date (Day 10) (Month 3) (Year 2024)"
      ]
     },
     "metadata": {},
     "output_type": "display_data"
    },
    {
     "data": {
      "text/plain": [
       "Date (Day 9) (Month 2) (Year 2024)"
      ]
     },
     "metadata": {},
     "output_type": "display_data"
    },
    {
     "data": {
      "text/plain": [
       "Date (Day 31) (Month 12) (Year 2025)"
      ]
     },
     "metadata": {},
     "output_type": "display_data"
    },
    {
     "data": {
      "text/plain": [
       "Date (Day 29) (Month 2) (Year 2024)"
      ]
     },
     "metadata": {},
     "output_type": "display_data"
    },
    {
     "data": {
      "text/plain": [
       "Date (Day 1) (Month 2) (Year 2024)"
      ]
     },
     "metadata": {},
     "output_type": "display_data"
    }
   ],
   "source": [
    "data Day = Day Int deriving (Show, Eq)\n",
    "data Month = Month Int deriving (Show, Eq)\n",
    "data Year = Year Int deriving (Show, Eq)\n",
    "data Date = Date Day Month Year deriving (Show, Eq)\n",
    "\n",
    "-- | Extract year from a date.\n",
    "yearOf :: Date -> Year\n",
    "yearOf (Date _ _ y) = y\n",
    "\n",
    "-- | Extract month from a date.\n",
    "monthOf :: Date -> Month\n",
    "monthOf (Date _ m _) = m\n",
    "\n",
    "-- | Extract day of the month from a date.\n",
    "dayOf :: Date -> Day\n",
    "dayOf (Date d _ _) = d\n",
    "\n",
    "-- | A year is leap if it is divisible by 4 and\n",
    "-- not divisible by 100 (except if it is divisible by 400).\n",
    "isLeapYear :: Year -> Bool\n",
    "isLeapYear (Year y) = (y `mod` 4 == 0 && y `mod` 100 /= 0) || (y `mod` 400 == 0)\n",
    "\n",
    "-- | How many days are in a given month (in a given year)?\n",
    "daysInMonth :: Year -> Month -> Int\n",
    "daysInMonth year (Month m)\n",
    "    | m == 2    = if isLeapYear year then 29 else 28 -- February (handle leap year)\n",
    "    | m `elem` [4, 6, 9, 11] = 30                    -- April, June, September, November\n",
    "    | otherwise = 31                                 -- All other months\n",
    "\n",
    "-- | Add some number of years (can be positive, negative, or zero) to a given date\n",
    "-- to produce a new valid date.\n",
    "addYears :: Int -> Date -> Date\n",
    "addYears n (Date (Day d) (Month m) (Year y)) =\n",
    "    let newYear = y + n\n",
    "        daysInTargetMonth = daysInMonth (Year newYear) (Month m)\n",
    "    in Date (Day (min d daysInTargetMonth)) (Month m) (Year newYear)\n",
    "\n",
    "-- | Add some number of months (can be positive, negative, or zero) to a given date\n",
    "-- to produce a new valid date.\n",
    "addMonths :: Int -> Date -> Date\n",
    "addMonths n (Date (Day d) (Month m) (Year y)) =\n",
    "    let totalMonths = m + n\n",
    "        (yearsToAdd, newMonth) = (totalMonths - 1) `divMod` 12\n",
    "        newYear = y + yearsToAdd\n",
    "        newMonth' = newMonth + 1\n",
    "        daysInTargetMonth = daysInMonth (Year newYear) (Month newMonth')\n",
    "    in Date (Day (min d daysInTargetMonth)) (Month newMonth') (Year newYear)\n",
    "\n",
    "-- | Add some number of days (can be positive, negative, or zero) to a given date\n",
    "-- to produce a new valid date.\n",
    "addDays :: Int -> Date -> Date\n",
    "addDays n (Date (Day d) (Month m) (Year y)) =\n",
    "    let daysInCurrentMonth = daysInMonth (Year y) (Month m)\n",
    "    in if n == 0 then Date (Day d) (Month m) (Year y)\n",
    "       else if d + n <= daysInCurrentMonth && d + n > 0\n",
    "            then Date (Day (d + n)) (Month m) (Year y)\n",
    "            else if n > 0\n",
    "                 then let daysLeft = n - (daysInCurrentMonth - d + 1)\n",
    "                      in addDays daysLeft (Date (Day 1) (Month m) (Year y))\n",
    "                 else let daysBack = d + n\n",
    "                      in if daysBack > 0\n",
    "                         then Date (Day daysBack) (Month m) (Year y)\n",
    "                         else addDays (n + daysInMonth (Year y) (Month (m - 1))) \n",
    "                               (Date (Day (daysInMonth (Year y) (Month (m - 1)))) (Month (m - 1)) (Year y))\n",
    "\n",
    "let date1 = Date (Day 24) (Month 2) (Year 2022)\n",
    "\n",
    "print $ isLeapYear $ yearOf date1\n",
    "\n",
    "print $ dayOf date1\n",
    "print $ monthOf date1\n",
    "print $ yearOf date1\n",
    "\n",
    "let dateLeap = Date (Day 15) (Month 2) (Year 2020)\n",
    "print $ daysInMonth (yearOf dateLeap) (monthOf dateLeap)\n",
    "\n",
    "print $ daysInMonth (yearOf date1) (monthOf date1)\n",
    "\n",
    "print $ addYears 1 dateLeap\n",
    "\n",
    "let date2 = Date (Day 15) (Month 10) (Year 2024)\n",
    "print $ addMonths 5 date2\n",
    "print $ addMonths (-11) date2\n",
    "\n",
    "\n",
    "let date3 = Date (Day 15) (Month 3) (Year 2024)\n",
    "print $ addDays 10 date3 \n",
    "print $ addDays 20 date3\n",
    "print $ addDays (-5) date3\n",
    "print $ addDays (-20) date3\n",
    "\n",
    "let date4 = Date (Day 31) (Month 12) (Year 2024)\n",
    "print $ addYears 1 date4 \n",
    "\n",
    "\n",
    "let date5 = Date (Day 31) (Month 1) (Year 2024)\n",
    "print $ addMonths 1 date5 \n",
    "    \n",
    "let date6 = Date (Day 28) (Month 2) (Year 2024)\n",
    "print $ addDays 2 date6"
   ]
  },
  {
   "cell_type": "markdown",
   "id": "0bae05cf",
   "metadata": {},
   "source": [
    "### 3. (+0.5% extra credit) Using your definitions of from the previous exercise, prove the following propositions by equational reasoning:"
   ]
  },
  {
   "cell_type": "markdown",
   "id": "36c30db5",
   "metadata": {},
   "source": [
    "(a) For any date `date`, if `isLeapYear (yearOf date) = True` then we have\n",
    "`isLeapYear (yearOf (addYears 3 date)) = False`."
   ]
  },
  {
   "cell_type": "markdown",
   "id": "20ed089d",
   "metadata": {},
   "source": [
    "**Proof:**\n",
    "\n",
    "- Let `date = Date d m y` where `d`, `m`, and `y` represent the day, month, and year.\n",
    "\n",
    "- Given that `isLeapYear (yearOf date) = True`, this implies `y` is a leap year.\n",
    "\n",
    "- The definition of isLeapYear is : \"A leap year is divisible by 4 but not by 100, except if divisible by 400.\" \n",
    "\n",
    "    So, ```(y mod 4 == 0) && (y mod 100 /= 0 || y mod 400 == 0)```\n",
    "\n",
    "\n",
    "- Apply `addYears 3`: \n",
    "\n",
    "    ``` addYears 3 (Date d m (Year y)) = Date d m (Year (y + 3))```\n",
    "    \n",
    "    ```yearOf (addYears 3 date) = y + 3```\n",
    " \n",
    "- We now check whether y + 3 is a leap year:\n",
    "    \n",
    "    ``` isLeapYear (Year (y + 3)) ```\n",
    "\n",
    "- `y + 3` will be divisible by 4 if and only if `y ≡ 1 (mod 4)` because:\n",
    "\n",
    "    - If y is divisible by 4 (i.e., y = 0 (mod 4)), then y + 3 = 3 (mod 4), so y + 3 is **not divisible by 4**.\n",
    "    \n",
    "Since y + 3 is not divisible by 4, it cannot be a leap year:\n",
    "\n",
    "```isLeapYear (Year (y + 3)) = False```"
   ]
  },
  {
   "cell_type": "markdown",
   "id": "e1779bad",
   "metadata": {},
   "source": [
    "(b) For any date `date` and any integers `x` and `y` we have `addDays (x + y) date = ... = addDays x (addDays y date)`"
   ]
  },
  {
   "cell_type": "markdown",
   "id": "7d408d9b",
   "metadata": {},
   "source": [
    "**Proof:**\n",
    "\n",
    "1. Base Case `(x = 0 or y = 0)`:\n",
    "\n",
    "    When either x or y is 0, both sides of the equation should be trivially equal:\n",
    "    \n",
    "    ``` \n",
    "    addDays (0 + y) date = addDays y date\n",
    "    addDays 0 (addDays y date) = addDays y date\n",
    "    ```\n",
    "    \n",
    "    Therefore, the equation holds:\n",
    "    \n",
    "    ```addDays (x + y) date = addDays x (addDays y date)```\n",
    "    \n",
    "2. Inductive Case (x > 0 and y > 0):\n",
    "\n",
    "    Assume the equation holds for `x` and `y`. We need to prove it for `x + 1` and `y + 1`.\n",
    "    \n",
    "    The `addDays` function recursively adjusts the day, month, and year components depending on whether the number of days added moves within the current month, crosses into a new month, or spans multiple months and years.\n",
    "    \n",
    "    - For Positive Days:\n",
    "        \n",
    "        - Let’s assume both `x` and `y` are positive.\n",
    "        \n",
    "        - Adding `x + y` days to the original date date should result in moving forward `x` days from the point reached by adding `y` days.\n",
    "\n",
    "        - By definition, `addDays x (addDays y date)` applies the addition of days recursively, first adding `y` days to date, then `x` days to the result of `addDays y date`.\n",
    "        \n",
    "    - Recursive Application:\n",
    "    \n",
    "        - The recursion in the `addDays` function moves through days within the current month and shifts to the next month when necessary.\n",
    "        \n",
    "        - If adding `y` days to date moves it into the next month or year, adding `x` days after that continues from the new date. This is equivalent to adding `x + y` days directly.\n",
    "        \n",
    "Since both sides of the equation involve recursively adjusting the date by moving forward the required number of days, the function behaves identically in both cases:\n",
    "\n",
    "```haskell\n",
    "addDays (x + y) date = addDays x (addDays y date)\n",
    "```"
   ]
  }
 ],
 "metadata": {
  "kernelspec": {
   "display_name": "Haskell",
   "language": "haskell",
   "name": "haskell"
  },
  "language_info": {
   "codemirror_mode": "ihaskell",
   "file_extension": ".hs",
   "mimetype": "text/x-haskell",
   "name": "haskell",
   "pygments_lexer": "Haskell",
   "version": "9.6.4"
  }
 },
 "nbformat": 4,
 "nbformat_minor": 5
}
