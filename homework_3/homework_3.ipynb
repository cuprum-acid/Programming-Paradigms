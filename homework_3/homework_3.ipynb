{
 "cells": [
  {
   "cell_type": "markdown",
   "id": "198fe482-e2ea-46aa-9e39-63a2d3032df0",
   "metadata": {},
   "source": [
    "# Homework 3. Programming in miniKanren\n",
    "\n",
    "Evgeny Bobkunov\n",
    "\n",
    "SD-03\n",
    "\n",
    "e.bobkunov@innopolis.university\n",
    "\n"
   ]
  },
  {
   "cell_type": "markdown",
   "id": "25858cad-ced1-48ef-b589-4253fcb15c0f",
   "metadata": {},
   "source": [
    "In type systems, typing judgements are formal statements about expressions of the form\n",
    "\n",
    "$\\Gamma  \\vdash e : T$\n",
    "\n",
    "This notation reads “in context $\\Gamma$, expression $e$ has type $T$”. A context is simply a list (dictionary)\n",
    "of typings for local variables. For example, consider the following instance of a typing judgement:\n",
    "\n",
    "$x : \\mathsf{Int}, f : \\mathsf{Int} \\rightarrow \\mathsf{Bool} \\vdash f (x+x) : \\mathsf{Bool}$\n",
    "\n",
    "Here, $x$ has type $\\mathsf{Int}$ and $f$ is a function from $\\mathsf{Int}$ to $\\mathsf{Bool}$. The context tells us the types of local variables $x$ and $f$ that are used in expression $f (x+x)$. The overall judgement says that this expression\n",
    "in this context has type $\\mathsf{Bool}$.\n",
    "\n",
    "In the following exercises, you will gradually implement the ternary relation corresponding to such\n",
    "typing judgements:\n",
    "\n",
    "`(typed-expro context expr type)`\n",
    "\n",
    "The expressive power of logical programming comes from the ability to use a given relation in\n",
    "different “modes”, depending on which arguments of the relation are known at the type of execution.\n",
    "Given proper conditions, we can hope that implementation of this relation using logical programming\n",
    "in miniKanren will immediately (or with minor additional effort) provide some useful modes:\n",
    "\n",
    "1. If context, expression, and type are known — we are performing **type checking**. This is usually\n",
    "very straightforward, and so we would like to mainly have this in mind during implementation.\n",
    "\n",
    "2. If context and expression are known, but type is not — executing this relation in miniKanren\n",
    "*should* correspond to **type inference**. Since many type inference algorithms rely on unification,\n",
    "and unification is built into logical programming, we hope to get this essentially for free.\n",
    "\n",
    "3. If context and type are known, but expression is not — executing this relation in miniKanren\n",
    "*should* correspond to **program synthesis**. While practical approaches to program synthesis\n",
    "normally require a more careful pruning of the search space (even for type-directed synthesis),\n",
    "we hope to at least get some simple programs to synthesize.\n",
    "\n",
    "Although there are multiple caveats, this, perhaps, na¨ıve idea of implementing checking and then\n",
    "getting both type inference and program synthesis almost for free seems very appealing. In the following\n",
    "series of exercises, you will begin the exploration with just some simple expressions and types.\n"
   ]
  },
  {
   "cell_type": "markdown",
   "id": "40968718-8224-48f1-8f39-42a5f91e84bd",
   "metadata": {},
   "source": [
    "## 3.1 Contexts\n",
    "\n",
    "To start things off, let’s implement some useful helpers to work with contexts. Contexts are merely\n",
    "lists of pairs, where each pair consists of a variable identifier (e.g. `x`) and its type (e.g. `Int`). For\n",
    "convenience, in addition to variables we will also allow operators (e.g. `+`) and numeric constants (e.g.\n",
    "`123`) to appear in contexts.\n",
    "\n",
    "In the following exercises, we will use only simple types:\n",
    "\n",
    "1. `'Bool` and `'Int` will be used to typecheck some built-in expressions.\n",
    "2. If `t1` and `t2` are types, then `(t1 -> t2)` is a function type for a function that is supposed to\n",
    "take a value of type `t1` as input and produce a value of type `t2`. Function types may be nested,\n",
    "but unlike Haskell, we will not provide associativity:\n",
    "- well-formed function types:\n",
    "    - `'(Int -> Bool)`\n",
    "    - `'(Int -> (Int -> Int))`\n",
    "    - `'((a -> b) -> ([a] -> [b]))`\n",
    "- ill-formed function types (missing parentheses):\n",
    "    - `'(Int -> Int -> Int)`\n",
    "    - `'((a -> b) -> [a] -> [b])`\n",
    "\n",
    "3. Anything else (e.g. `'a`, `'b`, `'[a]`) will be seen as an uninterpreted type. That is, we allow this\n",
    "type, but it has no particular meaning (to us)."
   ]
  },
  {
   "cell_type": "markdown",
   "id": "e6cc90d5-f312-4335-8f5f-d63089c3ca44",
   "metadata": {},
   "source": [
    "**Exercise 3.1.1**\n",
    "\n",
    "Implement a miniKanren relation `context-lookupo` such that\n",
    "`(context-lookupo var type context)` is satisfied when `context` has an explicit knowledge that `var`\n",
    "has type type. Check your implementation:\n",
    "\n",
    "```\n",
    "(define sample-context\n",
    "  '((x . Int)\n",
    "    (f . (Int -> Bool))\n",
    "    (y . Int)\n",
    "    (b . Bool)\n",
    "    (+ . (Int -> (Int -> Int)))))\n",
    "\n",
    "(run* (type) (context-lookupo sample-context 'x type))\n",
    "; '(Int)\n",
    "(run* (type) (context-lookupo sample-context 'z type))\n",
    "; '()\n",
    "(run* (var) (context-lookupo sample-context var 'Int))\n",
    "; '(x y)\n",
    "(run* (var type) (context-lookupo sample-context var type))\n",
    "; '((x Int) (f (Int -> Bool)) (y Int) (b Bool) (+ (Int -> (Int -> Int))))\n",
    "```"
   ]
  },
  {
   "cell_type": "code",
   "execution_count": 13,
   "id": "d0c0db5b-9619-49bf-8f9b-0efb9f2cd46f",
   "metadata": {},
   "outputs": [],
   "source": [
    "(require minikanren)\n",
    "(require minikanren/matche)\n",
    "\n",
    "(define sample-context\n",
    "  '((x . Int)\n",
    "    (f . (Int -> Bool))\n",
    "    (y . Int)\n",
    "    (b . Bool)\n",
    "    (+ . (Int -> (Int -> Int)))))\n",
    "\n",
    "(define (context-lookupo context var type)\n",
    "  (fresh (rest-context pair)\n",
    "    (== context (cons pair rest-context))\n",
    "    (conde\n",
    "      [(== (cons var type) pair)]\n",
    "      [(context-lookupo rest-context var type)])))"
   ]
  },
  {
   "cell_type": "code",
   "execution_count": 15,
   "id": "f6b980bf-034f-46b9-8b7f-e7eaca278089",
   "metadata": {},
   "outputs": [
    {
     "data": {
      "text/html": [
       "<code>'(Int)</code>"
      ],
      "text/plain": [
       "'(Int)"
      ]
     },
     "execution_count": 15,
     "metadata": {},
     "output_type": "execute_result"
    }
   ],
   "source": [
    "(run* (type) (context-lookupo sample-context 'x type))"
   ]
  },
  {
   "cell_type": "code",
   "execution_count": 17,
   "id": "6f0ce5d5-fb7d-401b-ad43-2b9332a60e88",
   "metadata": {},
   "outputs": [
    {
     "data": {
      "text/html": [
       "<code>'()</code>"
      ],
      "text/plain": [
       "'()"
      ]
     },
     "execution_count": 17,
     "metadata": {},
     "output_type": "execute_result"
    }
   ],
   "source": [
    "(run* (type) (context-lookupo sample-context 'z type))"
   ]
  },
  {
   "cell_type": "code",
   "execution_count": 19,
   "id": "fcca8ad7-7a65-45e8-8808-4779005e89f3",
   "metadata": {},
   "outputs": [
    {
     "data": {
      "text/html": [
       "<code>'(x y)</code>"
      ],
      "text/plain": [
       "'(x y)"
      ]
     },
     "execution_count": 19,
     "metadata": {},
     "output_type": "execute_result"
    }
   ],
   "source": [
    "(run* (var) (context-lookupo sample-context var 'Int))"
   ]
  },
  {
   "cell_type": "code",
   "execution_count": 21,
   "id": "2fe3b0e4-45e6-4eab-a1d0-beb0d2f301da",
   "metadata": {},
   "outputs": [
    {
     "data": {
      "text/html": [
       "<code>'((x Int) (f (Int -&gt; Bool)) (y Int) (b Bool) (+ (Int -&gt; (Int -&gt; Int))))</code>"
      ],
      "text/plain": [
       "'((x Int) (f (Int -> Bool)) (y Int) (b Bool) (+ (Int -> (Int -> Int))))"
      ]
     },
     "execution_count": 21,
     "metadata": {},
     "output_type": "execute_result"
    }
   ],
   "source": [
    "(run* (var type) (context-lookupo sample-context var type))"
   ]
  },
  {
   "cell_type": "markdown",
   "id": "4a49a23d-ccd6-42cb-87f3-cb875267a452",
   "metadata": {},
   "source": [
    "**Exercise 3.1.2**\n",
    "\n",
    "Implement a miniKanren relation `context-varso`\n",
    "such that\n",
    "`(context-varso context vars)` is satisfied when `context` has contains exactly `vars`. Check your\n",
    "implementation:\n",
    "\n",
    "```\n",
    "(run* (vars) (context-varso sample-context vars))\n",
    "; '((x f y b +))\n",
    "(run* (context) (context-varso context '(x y z)))\n",
    "; '(((x . _.0) (y . _.1) (z . _.2)))\n",
    "```"
   ]
  },
  {
   "cell_type": "code",
   "execution_count": 24,
   "id": "95ae5c88-fa23-421f-8f08-4d73eb7b4a4f",
   "metadata": {},
   "outputs": [],
   "source": [
    "(define (context-varso context vars)\n",
    "  (conde\n",
    "    [(== context '())\n",
    "     (== vars '())]\n",
    "    [(fresh (var type rest-context rest-vars)\n",
    "       (== context (cons `(,var . ,type) rest-context))\n",
    "       (== vars (cons var rest-vars))\n",
    "       (context-varso rest-context rest-vars))]))"
   ]
  },
  {
   "cell_type": "code",
   "execution_count": 26,
   "id": "87e64b80-192e-4b88-996c-525539d7f0d9",
   "metadata": {},
   "outputs": [
    {
     "data": {
      "text/html": [
       "<code>'((x f y b +))</code>"
      ],
      "text/plain": [
       "'((x f y b +))"
      ]
     },
     "execution_count": 26,
     "metadata": {},
     "output_type": "execute_result"
    }
   ],
   "source": [
    "(run* (vars) (context-varso sample-context vars))"
   ]
  },
  {
   "cell_type": "code",
   "execution_count": 28,
   "id": "8ddb6e03-d859-4587-8afa-812d82b3ca01",
   "metadata": {},
   "outputs": [
    {
     "data": {
      "text/html": [
       "<code>'(((x . _.0) (y . _.1) (z . _.2)))</code>"
      ],
      "text/plain": [
       "'(((x . _.0) (y . _.1) (z . _.2)))"
      ]
     },
     "execution_count": 28,
     "metadata": {},
     "output_type": "execute_result"
    }
   ],
   "source": [
    "(run* (context) (context-varso context '(x y z)))"
   ]
  },
  {
   "cell_type": "markdown",
   "id": "fc8149b9-700e-4c40-843d-68682685cedc",
   "metadata": {},
   "source": [
    "## 3.2 Untyped Expressions\n",
    "\n",
    "Before moving on to typing judgements, let us first implement a simplified version in the untyped\n",
    "setting. Removing types means that we only need to know which variables (and constants) are available.\n",
    "For example:\n",
    "\n",
    "$x, y, f \\vdash f (x + x)$\n",
    "\n",
    "Here, expression $f (x + x)$ is well-formed in the context with variables `x`, `y` and `f`. This is because the\n",
    "expression only uses variables `x` and `f`, both of which are present in the context. The variable `y` is not\n",
    "used, but for now this is not a problem."
   ]
  },
  {
   "cell_type": "markdown",
   "id": "0a07ccce-8ef4-4630-b29a-0a94724add82",
   "metadata": {},
   "source": [
    "**Exercise 3.2.1**\n",
    "\n",
    "Implement a miniKanren relation `untyped-expro`\n",
    "such that\n",
    "`(untyped-expro vars expr)` is satisfied when `expr` is a valid expression with variables from `vars`:\n",
    "\n",
    "1. If a variable (or constant) is used in `expr`, it must be present in `vars`. However, if a variable (or\n",
    "constant) is present in `vars` is does not have to be used in `expr`.\n",
    "2. An expression is one of the following:\n",
    "   - a variable: $x, y, z, . . .$\n",
    "   - a constant (natural) number: 0, 1, 2, . . .\n",
    "   - a binary operation: $(e_1 + e_2)$ or $(e_1 \\times e_2)$\n",
    "   - a unary function application: $(f x)$\n",
    "   - a conditional expression: if $e_1$ then $e_2$ else $e_3$\n",
    "\n",
    "Check your implementation:\n",
    "\n",
    "Make sure that `untyped-expro` is capable of generating expressions that uses variables (and\n",
    "constants) from a given list:\n",
    "\n",
    "```\n",
    "(run 6 (expr) (untyped-expro '(x) expr))\n",
    "; '(x (x + x) (x x) (x * x) (if x then x else x) (x + (x + x)))\n",
    "(run 8 (expr) (untyped-expro '(x y) expr))\n",
    "; '(x y (x + x) (x * x) (x + y) (x x) (y x) (if x then x else x))\n",
    "```\n",
    "\n",
    "Make sure that `untyped-expro`\n",
    "is capable of extracting a list of variables that is used in a given\n",
    "expression:\n",
    "\n",
    "```\n",
    "(run 1 (vars) (untyped-expro vars\n",
    "'(if (p x) then (x * (f (x + 1))) else (f (f x)))))\n",
    "; '((p x f 1 . _.0))\n",
    "```\n",
    "\n",
    "*Hint: use `symbolo` and `numbero` to check if expression is a variable identifier or a numeric constant.*\n",
    "*Hint: you might want to use `membero` and/or `not-membero`.*"
   ]
  },
  {
   "cell_type": "code",
   "execution_count": 32,
   "id": "980bb79d-7b32-4cee-85a5-4491967ab8ba",
   "metadata": {},
   "outputs": [],
   "source": [
    "(define (membero x l)\n",
    "  (fresh (rest)\n",
    "    (conde\n",
    "      [(== l (cons x rest))]\n",
    "      [(fresh (y)\n",
    "         (== l (cons y rest))\n",
    "         (membero x rest))])))\n",
    "\n",
    "(define (untyped-expro vars expr)\n",
    "  (conde\n",
    "    [(symbolo expr)\n",
    "     (membero expr vars)]\n",
    "    \n",
    "    [(numbero expr)]\n",
    "    \n",
    "    [(fresh (e1 e2 op)\n",
    "       (== expr `(,e1 ,op ,e2))\n",
    "       (membero op '(+ *))\n",
    "       (untyped-expro vars e1)\n",
    "       (untyped-expro vars e2))]\n",
    "    \n",
    "    [(fresh (f arg)\n",
    "       (== expr `(,f ,arg))\n",
    "       (symbolo f)\n",
    "       (membero f vars)\n",
    "       (untyped-expro vars arg))]\n",
    "    \n",
    "    [(fresh (test-expr then-expr else-expr)\n",
    "       (== expr `(if ,test-expr then ,then-expr else ,else-expr))\n",
    "       (untyped-expro vars test-expr)\n",
    "       (untyped-expro vars then-expr)\n",
    "       (untyped-expro vars else-expr))]))"
   ]
  },
  {
   "cell_type": "code",
   "execution_count": 34,
   "id": "fc242269-adda-491a-b691-ff2fa5b67e5e",
   "metadata": {},
   "outputs": [
    {
     "data": {
      "text/html": [
       "<code>'((_.0 (num _.0)) x ((_.0 + _.1) (num _.0 _.1)) ((x _.0) (num _.0)) ((_.0 + x) (num _.0)) ((if _.0 then _.1 else _.2) (num _.0 _.1 _.2)))</code>"
      ],
      "text/plain": [
       "'((_.0 (num _.0)) x ((_.0 + _.1) (num _.0 _.1)) ((x _.0) (num _.0)) ((_.0 + x) (num _.0)) ((if _.0 then _.1 else _.2) (num _.0 _.1 _.2)))"
      ]
     },
     "execution_count": 34,
     "metadata": {},
     "output_type": "execute_result"
    }
   ],
   "source": [
    "(run 6 (expr) (untyped-expro '(x) expr))"
   ]
  },
  {
   "cell_type": "code",
   "execution_count": 36,
   "id": "ac9e75d0-021e-47b7-a74b-57b4463cceeb",
   "metadata": {},
   "outputs": [
    {
     "data": {
      "text/html": [
       "<code>'((_.0 (num _.0)) x y ((_.0 + _.1) (num _.0 _.1)) ((x _.0) (num _.0)) ((_.0 + x) (num _.0)) ((if _.0 then _.1 else _.2) (num _.0 _.1 _.2)) ((x + _.0) (num _.0)))</code>"
      ],
      "text/plain": [
       "'((_.0 (num _.0)) x y ((_.0 + _.1) (num _.0 _.1)) ((x _.0) (num _.0)) ((_.0 + x) (num _.0)) ((if _.0 then _.1 else _.2) (num _.0 _.1 _.2)) ((x + _.0) (num _.0)))"
      ]
     },
     "execution_count": 36,
     "metadata": {},
     "output_type": "execute_result"
    }
   ],
   "source": [
    "(run 8 (expr) (untyped-expro '(x y) expr))"
   ]
  },
  {
   "cell_type": "code",
   "execution_count": 38,
   "id": "a97d2363-71df-4361-ab77-15f5972fc920",
   "metadata": {},
   "outputs": [
    {
     "data": {
      "text/html": [
       "<code>'((p x f . _.0))</code>"
      ],
      "text/plain": [
       "'((p x f . _.0))"
      ]
     },
     "execution_count": 38,
     "metadata": {},
     "output_type": "execute_result"
    }
   ],
   "source": [
    "(run 1 (vars) (untyped-expro vars\n",
    "'(if (p x) then (x * (f (x + 1))) else (f (f x)))))"
   ]
  },
  {
   "cell_type": "markdown",
   "id": "f8ff057b-caed-400d-95cb-4f7c8a147e83",
   "metadata": {},
   "source": [
    "To bound generation of expressions, we can use relational arithmetic from `minikanren/numbers`:\n",
    "\n",
    "**Exercise 3.2.2**\n",
    "\n",
    "Implement a miniKanren relation `bounded-untyped-expro`\n",
    "such that\n",
    "`(bounded-untyped-expro max-depth vars expr)` is satisfied when `expr` is a valid expression with\n",
    "variables from `vars` and depth less than or equal to `max-depth`. Check your implementation:\n",
    "\n",
    "```\n",
    "(run* (expr) (bounded-untyped-expro (build-num 2) '(x) expr))\n",
    "; '(x (x x) (x + x) (x * x) (if x then x else x))\n",
    "(run 1 (vars) (bounded-untyped-expro (build-num 5) vars\n",
    "'(if (p x) then (x * (f (x + 1))) else (f (f x)))))\n",
    "; '((p x f 1 . _.0))\n",
    "```"
   ]
  },
  {
   "cell_type": "code",
   "execution_count": 41,
   "id": "9d585f6a-b054-418c-92e5-52ed21c8445b",
   "metadata": {},
   "outputs": [],
   "source": [
    "(define (build-num n)\n",
    "  (if (zero? n)\n",
    "      '()\n",
    "      (cons 1 (build-num (sub1 n)))))\n",
    "\n",
    "(define (less-than-or-equalo n m)\n",
    "  (conde\n",
    "    [(== n '())]\n",
    "    [(fresh (n-rest m-rest)\n",
    "       (== n (cons 1 n-rest))\n",
    "       (== m (cons 1 m-rest))\n",
    "       (less-than-or-equalo n-rest m-rest))]))\n",
    "\n",
    "(define (membero x l)\n",
    "  (fresh (rest)\n",
    "    (conde\n",
    "      [(== l (cons x rest))]\n",
    "      [(fresh (y)\n",
    "         (== l (cons y rest))\n",
    "         (membero x rest))])))\n",
    "\n",
    "(define (bounded-untyped-expro max-depth vars expr)\n",
    "  (conde\n",
    "    [(symbolo expr)\n",
    "     (membero expr vars)\n",
    "     (less-than-or-equalo (build-num 1) max-depth)]\n",
    "    \n",
    "    [(numbero expr)\n",
    "     (less-than-or-equalo (build-num 1) max-depth)]\n",
    "    \n",
    "    [(fresh (e1 e2 op depth1)\n",
    "       (== expr `(,e1 ,op ,e2))\n",
    "       (membero op '(+ *))\n",
    "       (fresh (depth1-rest)\n",
    "         (== depth1 (cons 1 depth1-rest))\n",
    "         (less-than-or-equalo depth1 max-depth)\n",
    "         (bounded-untyped-expro depth1-rest vars e1)\n",
    "         (bounded-untyped-expro depth1-rest vars e2)))]\n",
    "    \n",
    "    [(fresh (f arg depth1 depth1-rest)\n",
    "       (== expr `(,f ,arg))\n",
    "       (symbolo f)\n",
    "       (membero f vars)\n",
    "       (== depth1 (cons 1 depth1-rest))\n",
    "       (less-than-or-equalo depth1 max-depth)\n",
    "       (bounded-untyped-expro depth1-rest vars arg))]\n",
    "    \n",
    "    [(fresh (test-expr then-expr else-expr depth1 depth1-rest)\n",
    "       (== expr `(if ,test-expr then ,then-expr else ,else-expr))\n",
    "       (== depth1 (cons 1 depth1-rest))\n",
    "       (less-than-or-equalo depth1 max-depth)\n",
    "       (bounded-untyped-expro depth1-rest vars test-expr)\n",
    "       (bounded-untyped-expro depth1-rest vars then-expr)\n",
    "       (bounded-untyped-expro depth1-rest vars else-expr))]))\n"
   ]
  },
  {
   "cell_type": "code",
   "execution_count": 43,
   "id": "e8d70a50-aa80-489a-965d-3b66929573f3",
   "metadata": {},
   "outputs": [
    {
     "data": {
      "text/html": [
       "<code>'((_.0 (num _.0)) x ((x _.0) (num _.0)) (x x) ((_.0 + _.1) (num _.0 _.1)) ((_.0 + x) (num _.0)) ((_.0 * _.1) (num _.0 _.1)) ((_.0 * x) (num _.0)) ((if _.0 then _.1 else _.2) (num _.0 _.1 _.2)) ((if _.0 then _.1 else x) (num _.0 _.1)) ((x + _.0) (num _.0)) ((x * _.0) (num _.0)) (x + x) (x * x) ((if _.0 then x else _.1) (num _.0 _.1)) ((if _.0 then x else x) (num _.0)) ((if x then _.0 else _.1) (num _.0 _.1)) ((if x then _.0 else x) (num _.0)) ((if x then x else _.0) (num _.0)) (if x then x else x))</code>"
      ],
      "text/plain": [
       "'((_.0 (num _.0)) x ((x _.0) (num _.0)) (x x) ((_.0 + _.1) (num _.0 _.1)) ((_.0 + x) (num _.0)) ((_.0 * _.1) (num _.0 _.1)) ((_.0 * x) (num _.0)) ((if _.0 then _.1 else _.2) (num _.0 _.1 _.2)) ((if _.0 then _.1 else x) (num _.0 _.1)) ((x + _.0) (num _.0)) ((x * _.0) (num _.0)) (x + x) (x * x) ((if _.0 then x else _.1) (num _.0 _.1)) ((if _.0 then x else x) (num _.0)) ((if x then _.0 else _.1) (num _.0 _.1)) ((if x then _.0 else x) (num _.0)) ((if x then x else _.0) (num _.0)) (if x then x else x))"
      ]
     },
     "execution_count": 43,
     "metadata": {},
     "output_type": "execute_result"
    }
   ],
   "source": [
    "(run* (expr) (bounded-untyped-expro (build-num 2) '(x) expr))"
   ]
  },
  {
   "cell_type": "code",
   "execution_count": 45,
   "id": "c16e1f01-f658-4f95-b276-f37eb75a8f26",
   "metadata": {},
   "outputs": [
    {
     "data": {
      "text/html": [
       "<code>'((p x f . _.0))</code>"
      ],
      "text/plain": [
       "'((p x f . _.0))"
      ]
     },
     "execution_count": 45,
     "metadata": {},
     "output_type": "execute_result"
    }
   ],
   "source": [
    "(run 1 (vars) (bounded-untyped-expro (build-num 5) vars\n",
    "'(if (p x) then (x * (f (x + 1))) else (f (f x)))))"
   ]
  },
  {
   "cell_type": "markdown",
   "id": "1de3eead-4bbf-417e-af5f-d2042e933ac9",
   "metadata": {},
   "source": [
    "## 3.3 Type Checking, Type and Program Synthesis with Simple Types"
   ]
  },
  {
   "cell_type": "markdown",
   "id": "7e832601-120b-432a-b721-29ce7135fbd4",
   "metadata": {},
   "source": [
    "**Exercise 3.3.1**\n",
    "\n",
    "Implement a miniKanren relation `typed-expro`\n",
    "such that\n",
    "`(typed-expro context expr type)` is satisfied when `expr` is a valid expression of type `type` in context\n",
    "`context`:\n",
    "\n",
    "1. variable $x$ has type $T$ iff context $\\Gamma$ explicitly has typing $x : T$\n",
    "2. expressions $(e_1 + e_2)$ and $(e_1 \\times e_2)$ have type $\\mathsf{Int}$ and require both $e_1$ and $e_2$ to be of type $\\mathsf{Int}$\n",
    "3. function application $(f x)$ has type $T$ iff $f$ has function type $X \\rightarrow T$ and $x$ has type $X$\n",
    "4. expression if $e_1$ then $e_2$ else $e_3$ has type $T$ if $e_1$ has type $\\mathsf{Bool}$ and both $e_2$ and $e_3$ have type $T$\n",
    "\n",
    "Check your implementation:\n",
    "\n",
    "Make sure that `typed-expro` works in **type checking** mode: it can check that given expression\n",
    "is well-typed in a given context with given type:\n",
    "\n",
    "```\n",
    "(run* (q) (typed-expro sample-context '(if (f x) then (x + y) else y) 'Int))\n",
    "; '(_.0)\n",
    "(run* (q) (typed-expro sample-context '(if (f x) then (x + b) else y) 'Int))\n",
    "; '()\n",
    "```\n",
    "\n",
    "Make sure that `typed-expro` works in **type inference** mode: it can check that given expression\n",
    "is well-typed in a given context, but it can deduce the type automatically:\n",
    "\n",
    "```\n",
    "(run* (type) (typed-expro\n",
    "`((1 . Int) . ,sample-context) ; we add constants explicitly to the context\n",
    "'(if (f x) then (x + 1) else y) ; expression is given\n",
    "type)) ; type is inferred\n",
    "; '(Int)\n",
    "```\n",
    "\n",
    "Make sure that `typed-expro` works in **context inference** mode: it can infer which variables\n",
    "(or constants) are used in a given expression and what their intended types are supposed to be\n",
    "based on an expected type of the expression:\n",
    "\n",
    "```\n",
    "(run 1 (context) (typed-expro context '(if (f x) then (x + b) else y) 'Int))\n",
    "; '(((f Int -> Bool) (x . Int) (b . Int) (y . Int) . _.0))\n",
    "(run 1 (context) (typed-expro context '((f (g x)) + (g (f x))) 'Int))\n",
    "; '(((f Int -> Int) (g Int -> Int) (x . Int) . _.0))\n",
    "(run 1 (context type) (typed-expro context '(if (p x) then (f x) else x) type))\n",
    "; '((((p _.0 -> Bool) (x . _.0) (f _.0 -> _.0) . _.1) _.0))\n",
    "```\n",
    "\n",
    "Make sure that `typed-expro` works in **program synthesis** mode: it can synthesise well-typed\n",
    "expressions in a given context with a given type:\n",
    "\n",
    "```\n",
    "(run 6 (expr) (typed-expro sample-context expr 'Int))\n",
    "; '(x y (x + x) (x * x) (x + y) (if b then x else x))\n",
    "(run 6 (expr) (typed-expro sample-context expr 'Bool))\n",
    "; '(b (f x) (f y) (f (x + x)) (if b then b else b) (f (x * x)))\n",
    "(run 6 (expr) (typed-expro sample-context expr '(Int -> Int)))\n",
    "; '((+ x) (+ y) (+ (x + x)) (+ (x * x)) (+ (x + y)) (+ (if b then x else x)))\n",
    "```"
   ]
  },
  {
   "cell_type": "code",
   "execution_count": 311,
   "id": "4d87945e-da70-4f0a-a83c-a257a96365db",
   "metadata": {},
   "outputs": [],
   "source": [
    "(define (boolo t) (== t 'Bool))\n",
    "(define (intoo t) (== t 'Int))\n",
    "(define (arr-typeo t from-type to-type)\n",
    "  (== t `(,from-type -> ,to-type)))\n",
    "\n",
    "(define (lookupo x context type)\n",
    "  (fresh (rest)\n",
    "    (== context (cons (cons x type) rest))))\n",
    "\n",
    "(define (typed-expro context expr type)\n",
    "  (conde\n",
    "    [(fresh (t)\n",
    "       (lookupo expr context t)\n",
    "       (== type t))]\n",
    "    \n",
    "    [(intoo type)\n",
    "     (conde\n",
    "       [(== expr 1)]\n",
    "       [(== expr 0)]\n",
    "       [(== expr -1)])]\n",
    "\n",
    "    [(boolo type)\n",
    "     (conde\n",
    "       [(== expr 'b)]\n",
    "       [(== expr #t)]\n",
    "       [(== expr #f)])]\n",
    "    \n",
    "    [(fresh (e1 e2)\n",
    "       (== expr `(,e1 + ,e2))\n",
    "       (intoo type)\n",
    "       (typed-expro context e1 'Int)\n",
    "       (typed-expro context e2 'Int))]\n",
    "    \n",
    "    [(fresh (e1 e2)\n",
    "       (== expr `(,e1 * ,e2))\n",
    "       (intoo type)\n",
    "       (typed-expro context e1 'Int)\n",
    "       (typed-expro context e2 'Int))]\n",
    "    \n",
    "    [(fresh (f x from-type)\n",
    "       (== expr `(,f ,x))\n",
    "       (fresh (func-type)\n",
    "         (arr-typeo func-type from-type type)\n",
    "         (typed-expro context f func-type)\n",
    "         (typed-expro context x from-type)))]\n",
    "    \n",
    "    [(fresh (e1 e2 e3)\n",
    "       (== expr `(if ,e1 then ,e2 else ,e3))\n",
    "       (typed-expro context e1 'Bool)\n",
    "       (typed-expro context e2 type)\n",
    "       (typed-expro context e3 type))]\n",
    "    ))\n",
    "\n",
    "(define sample-context \n",
    "  `((x . Int) (y . Int) (f . (Int -> Bool)) (g . (Int -> Int))))"
   ]
  },
  {
   "cell_type": "code",
   "execution_count": 51,
   "id": "4cfc6466-67e8-4225-9eae-6feb69e7293f",
   "metadata": {},
   "outputs": [
    {
     "data": {
      "text/html": [
       "<code>'()</code>"
      ],
      "text/plain": [
       "'()"
      ]
     },
     "execution_count": 51,
     "metadata": {},
     "output_type": "execute_result"
    }
   ],
   "source": [
    "(run* (q) (typed-expro sample-context '(if (f x) then (x + y) else y) 'Int))"
   ]
  },
  {
   "cell_type": "code",
   "execution_count": 53,
   "id": "ddb48a37-924e-4388-aafb-428c9df51f52",
   "metadata": {},
   "outputs": [
    {
     "data": {
      "text/html": [
       "<code>'()</code>"
      ],
      "text/plain": [
       "'()"
      ]
     },
     "execution_count": 53,
     "metadata": {},
     "output_type": "execute_result"
    }
   ],
   "source": [
    "(run* (q) (typed-expro sample-context '(if (f x) then (x + b) else y) 'Int))"
   ]
  },
  {
   "cell_type": "code",
   "execution_count": 55,
   "id": "2200f0ef-0e78-4640-a407-c58f0e8f310b",
   "metadata": {},
   "outputs": [
    {
     "data": {
      "text/html": [
       "<code>'()</code>"
      ],
      "text/plain": [
       "'()"
      ]
     },
     "execution_count": 55,
     "metadata": {},
     "output_type": "execute_result"
    }
   ],
   "source": [
    "(run* (type) (typed-expro\n",
    "`((1 . Int) . ,sample-context)\n",
    "'(if (f x) then (x + 1) else y)\n",
    "type))"
   ]
  },
  {
   "cell_type": "code",
   "execution_count": 57,
   "id": "8ade9a3d-3195-4b72-abf8-1fad73615afa",
   "metadata": {},
   "outputs": [
    {
     "data": {
      "text/html": [
       "<code>'((((if (f x) then (x + b) else y) . Int) . _.0))</code>"
      ],
      "text/plain": [
       "'((((if (f x) then (x + b) else y) . Int) . _.0))"
      ]
     },
     "execution_count": 57,
     "metadata": {},
     "output_type": "execute_result"
    }
   ],
   "source": [
    "(run 1 (context) (typed-expro context '(if (f x) then (x + b) else y) 'Int))\n",
    "; '(((f Int -> Bool) (x . Int) (b . Int) (y . Int) . _.0))"
   ]
  },
  {
   "cell_type": "code",
   "execution_count": 59,
   "id": "7f503154-b7ae-4c06-9b03-de770f079b70",
   "metadata": {},
   "outputs": [
    {
     "data": {
      "text/html": [
       "<code>'(((((f (g x)) + (g (f x))) . Int) . _.0))</code>"
      ],
      "text/plain": [
       "'(((((f (g x)) + (g (f x))) . Int) . _.0))"
      ]
     },
     "execution_count": 59,
     "metadata": {},
     "output_type": "execute_result"
    }
   ],
   "source": [
    "(run 1 (context) (typed-expro context '((f (g x)) + (g (f x))) 'Int))\n",
    "; '(((f Int -> Int) (g Int -> Int) (x . Int) . _.0))"
   ]
  },
  {
   "cell_type": "code",
   "execution_count": 61,
   "id": "96b516d3-edad-42c0-a5d5-18ec4ee875a0",
   "metadata": {},
   "outputs": [
    {
     "data": {
      "text/html": [
       "<code>'(((((if (p x) then (f x) else x) . _.0) . _.1) _.0))</code>"
      ],
      "text/plain": [
       "'(((((if (p x) then (f x) else x) . _.0) . _.1) _.0))"
      ]
     },
     "execution_count": 61,
     "metadata": {},
     "output_type": "execute_result"
    }
   ],
   "source": [
    "(run 1 (context type) (typed-expro context '(if (p x) then (f x) else x) type))\n",
    "; '((((p _.0 -> Bool) (x . _.0) (f _.0 -> _.0) . _.1) _.0))"
   ]
  },
  {
   "cell_type": "code",
   "execution_count": 63,
   "id": "96718f87-2e46-4b52-9295-486b10181e26",
   "metadata": {},
   "outputs": [
    {
     "data": {
      "text/html": [
       "<code>'(x 1 0 -1 (x + x) (x + 1))</code>"
      ],
      "text/plain": [
       "'(x 1 0 -1 (x + x) (x + 1))"
      ]
     },
     "execution_count": 63,
     "metadata": {},
     "output_type": "execute_result"
    }
   ],
   "source": [
    "(run 6 (expr) (typed-expro sample-context expr 'Int))\n",
    "; '(x y (x + x) (x * x) (x + y) (if b then x else x))"
   ]
  },
  {
   "cell_type": "code",
   "execution_count": 65,
   "id": "13b98b19-e2a4-4eb4-97e5-2399ba05a287",
   "metadata": {},
   "outputs": [
    {
     "data": {
      "text/html": [
       "<code>'(b #t #f (if b then b else b) (if b then b else #t) (if b then b else #f))</code>"
      ],
      "text/plain": [
       "'(b #t #f (if b then b else b) (if b then b else #t) (if b then b else #f))"
      ]
     },
     "execution_count": 65,
     "metadata": {},
     "output_type": "execute_result"
    }
   ],
   "source": [
    "(run 6 (expr) (typed-expro sample-context expr 'Bool))\n",
    "; '(b (f x) (f y) (f (x + x)) (if b then b else b) (f (x * x)))"
   ]
  },
  {
   "cell_type": "code",
   "execution_count": null,
   "id": "cf1f4b20-1802-44b8-ab3e-7989b61b54e0",
   "metadata": {},
   "outputs": [],
   "source": [
    "(run 6 (expr) (typed-expro sample-context expr '(Int -> Int)))\n",
    "; '((+ x) (+ y) (+ (x + x)) (+ (x * x)) (+ (x + y)) (+ (if b then x else x)))"
   ]
  },
  {
   "cell_type": "markdown",
   "id": "c1c2ec73-eb3d-480c-b217-31c375567ce7",
   "metadata": {},
   "source": [
    "## 3.4 Interlude: Lists as Sets\n",
    "\n",
    "The next section may require the use of lists as sets, so in this section we implement more interesting\n",
    "helpers. Many of these are straightforward to implement in one direction, but you should make the\n",
    "effort to allow them to work properly in different modes. To achieve that, it may be useful to make\n",
    "sure that you incrementally learn more about all arguments of a relation. This way, you sometimes\n",
    "can ensure that regardless of the mode the logical engine will make progress towards the solution."
   ]
  },
  {
   "cell_type": "markdown",
   "id": "1368e424-ce98-4422-843e-995aa6c0d70b",
   "metadata": {},
   "source": [
    "**Exercise 3.4.1**\n",
    "\n",
    "Implement a miniKanren relation `remove-firsto`\n",
    "such that\n",
    "`(remove-firsto x before after)` is satisfied when `after` is a list containing at most one less occurrence of `x` (first one is removed) compared to `before` (but otherwise the same). Check your\n",
    "implementation (at least two modes):\n",
    "\n",
    "```\n",
    "(run* (ys) (remove-firsto 'o '(h e l l o w o r l d) ys))\n",
    "; '((h e l l w o r l d))\n",
    "(run* (xs) (remove-firsto 0 xs '(1 2 3)))\n",
    "; '((0 1 2 3) (1 0 2 3) (1 2 0 3) (1 2 3) (1 2 3 0))\n",
    "```"
   ]
  },
  {
   "cell_type": "code",
   "execution_count": 67,
   "id": "0b961b5b-e099-4de3-b9fa-89debb0efa37",
   "metadata": {},
   "outputs": [],
   "source": [
    "(define (remove-firsto x before after)\n",
    "  (conde\n",
    "   [(fresh (rest)\n",
    "      (== before (cons x rest))\n",
    "      (== after rest))]\n",
    "   \n",
    "   [(fresh (first rest before-rest)\n",
    "      (== before (cons first rest))\n",
    "      (== after (cons first before-rest))\n",
    "      (remove-firsto x rest before-rest))]\n",
    "   \n",
    "   [(== before after)\n",
    "    (absent x before)]))\n",
    "\n",
    "(define (absent x lst)\n",
    "  (conde\n",
    "   [(== lst '())]\n",
    "   [(fresh (first rest)\n",
    "      (== lst (cons first rest))\n",
    "      (=/= first x)\n",
    "      (absent x rest))]\n",
    "   [(== lst #f)]))"
   ]
  },
  {
   "cell_type": "code",
   "execution_count": 69,
   "id": "44686665-6d87-4f89-a18a-b3dabc09125f",
   "metadata": {},
   "outputs": [
    {
     "data": {
      "text/html": [
       "<code>'((h e l l w o r l d) (h e l l o w r l d) (h e l l o w o r l d) (h e l l o w o r l d) (h e l l o w o r l d) (h e l l o w o r l d))</code>"
      ],
      "text/plain": [
       "'((h e l l w o r l d) (h e l l o w r l d) (h e l l o w o r l d) (h e l l o w o r l d) (h e l l o w o r l d) (h e l l o w o r l d))"
      ]
     },
     "execution_count": 69,
     "metadata": {},
     "output_type": "execute_result"
    }
   ],
   "source": [
    "(run* (ys) (remove-firsto 'o '(h e l l o w o r l d) ys))"
   ]
  },
  {
   "cell_type": "code",
   "execution_count": 71,
   "id": "cc56b98c-1ecf-45fa-82c2-dc5a423990e6",
   "metadata": {},
   "outputs": [
    {
     "data": {
      "text/html": [
       "<code>'((0 1 2 3) (1 0 2 3) (1 2 3) (1 2 0 3) (1 2 3) (1 2 3) (1 2 3 0) (1 2 3))</code>"
      ],
      "text/plain": [
       "'((0 1 2 3) (1 0 2 3) (1 2 3) (1 2 0 3) (1 2 3) (1 2 3) (1 2 3 0) (1 2 3))"
      ]
     },
     "execution_count": 71,
     "metadata": {},
     "output_type": "execute_result"
    }
   ],
   "source": [
    "(run* (xs) (remove-firsto 0 xs '(1 2 3)))"
   ]
  },
  {
   "cell_type": "markdown",
   "id": "6f7e7611-4059-4ada-940a-b64d8ff54970",
   "metadata": {},
   "source": [
    "**Exercise 3.4.2** \n",
    "\n",
    "Implement a miniKanren relation `remove-allo`\n",
    "such that\n",
    "`(remove-allo x before after)` is satisfied when `after` is the same as `before` with all occurrences\n",
    "of `x` removed. Check your implementation (one mode is enough):\n",
    "\n",
    "```\n",
    "(run* (ys) (removeo 'a '(a b r a c a d a b r a) ys))\n",
    "; '((b r c d b r))\n",
    "```"
   ]
  },
  {
   "cell_type": "code",
   "execution_count": 165,
   "id": "fb001971-b866-41cb-8056-42fd9de7675a",
   "metadata": {},
   "outputs": [],
   "source": [
    "(define remove-allo\n",
    "  (lambda (x before after)\n",
    "    (conde\n",
    "     [(== '() before) (== '() after)]\n",
    "     \n",
    "     [(fresh (tail)\n",
    "        (== `(,x . ,tail) before)\n",
    "        (remove-allo x tail after))]\n",
    "     \n",
    "     [(fresh (head tail rest)\n",
    "        (== `(,head . ,tail) before)\n",
    "        (=/= head x)\n",
    "        (== `(,head . ,rest) after)\n",
    "        (remove-allo x tail rest))])))\n"
   ]
  },
  {
   "cell_type": "code",
   "execution_count": 167,
   "id": "5a992cd9-b5c2-4999-8896-c51082d40ec9",
   "metadata": {},
   "outputs": [
    {
     "data": {
      "text/html": [
       "<code>'((b r c d b r))</code>"
      ],
      "text/plain": [
       "'((b r c d b r))"
      ]
     },
     "execution_count": 167,
     "metadata": {},
     "output_type": "execute_result"
    }
   ],
   "source": [
    "(run* (ys) (remove-allo 'a '(a b r a c a d a b r a) ys))"
   ]
  },
  {
   "cell_type": "markdown",
   "id": "cf77d069-15ca-401b-865b-68b5b38ee49b",
   "metadata": {},
   "source": [
    "**Exercise 3.4.3**\n",
    "\n",
    "Implement a miniKanren relation `remove-duplicateso`\n",
    "such that\n",
    "`(remove-duplicateso before after)` is satisfied when `after` is the same as `before` with all duplicates removed. Check your implementation (one mode is enough):\n",
    "\n",
    "```\n",
    "(run* (ys) (remove-duplicateso '(a b r a c a d a b r a) ys))\n",
    "; '((a b r c d))\n",
    "```"
   ]
  },
  {
   "cell_type": "code",
   "execution_count": 391,
   "id": "c94a3ada-47dc-4bde-a795-1c4b9996d2df",
   "metadata": {},
   "outputs": [
    {
     "data": {
      "text/html": [
       "<code>'((c d b r a))</code>"
      ],
      "text/plain": [
       "'((c d b r a))"
      ]
     },
     "execution_count": 391,
     "metadata": {},
     "output_type": "execute_result"
    }
   ],
   "source": [
    "(define (remove-duplicateso before after)\n",
    "  (conde\n",
    "    [(== '() before) (== '() after)]\n",
    "    \n",
    "    [(fresh (first rest unique-rest)\n",
    "       (== (cons first rest) before)\n",
    "       \n",
    "       (remove-duplicateso rest unique-rest)\n",
    "       \n",
    "       (not-membero first unique-rest)\n",
    "       \n",
    "       (== (cons first unique-rest) after))]\n",
    "    \n",
    "    [(fresh (first rest unique-rest)\n",
    "       (== (cons first rest) before)\n",
    "       (remove-duplicateso rest unique-rest)\n",
    "       (membero first unique-rest)\n",
    "       (== unique-rest after))]))\n",
    "\n",
    "(define (not-membero x ls)\n",
    "  (conde\n",
    "    [(== '() ls)]\n",
    "    [(fresh (first rest)\n",
    "       (== (cons first rest) ls)\n",
    "       (=/= x first)\n",
    "       (not-membero x rest))]))\n",
    "\n",
    "(run* (ys) (remove-duplicateso '(a b r a c a d a b r a) ys))"
   ]
  },
  {
   "cell_type": "markdown",
   "id": "f1bb73fa-5149-4926-83c4-1360fc3c7843",
   "metadata": {},
   "source": [
    "**Exercise 3.4.4**\n",
    "\n",
    "Implement a miniKanren relation `uniono`\n",
    "such that\n",
    "`(uniono xs ys xys)` is satisfied when `xys` is the union (without duplicates) of `xs` and `ys`. Check your\n",
    "implementation (one mode is enough):\n",
    "\n",
    "```\n",
    "(run* (ys) (uniono '(h e l l o) '(w o r l d) ys))\n",
    "; '((h e l o w r d))\n",
    "```"
   ]
  },
  {
   "cell_type": "code",
   "execution_count": 192,
   "id": "e35ff617-28ed-4124-891b-f48db207e4d9",
   "metadata": {},
   "outputs": [
    {
     "data": {
      "text/html": [
       "<code>'((h e w o r l d))</code>"
      ],
      "text/plain": [
       "'((h e w o r l d))"
      ]
     },
     "execution_count": 192,
     "metadata": {},
     "output_type": "execute_result"
    }
   ],
   "source": [
    "(define (membero x l)\n",
    "  (fresh (h t)\n",
    "    (== (cons h t) l)\n",
    "    (conde\n",
    "      [(== h x)]\n",
    "      [(membero x t)])))\n",
    "\n",
    "(define (not-membero x l)\n",
    "  (conde\n",
    "    [(== '() l)]\n",
    "    [(fresh (h t)\n",
    "       (== (cons h t) l)\n",
    "       (=/= h x)\n",
    "       (not-membero x t))]))\n",
    "\n",
    "(define (uniono xs ys xys)\n",
    "  (conde\n",
    "    [(== '() xs) (== ys xys)]\n",
    "    [(fresh (a d res)\n",
    "       (== (cons a d) xs)\n",
    "       (conde\n",
    "         [(membero a ys) (uniono d ys xys)]\n",
    "         [(fresh ()\n",
    "            (not-membero a ys)\n",
    "            (uniono d ys res)\n",
    "            (== xys (cons a res)))]))]))\n",
    "\n",
    "(run* (ys) (uniono '(h e l l o) '(w o r l d) ys))\n"
   ]
  },
  {
   "cell_type": "markdown",
   "id": "c5e0e9f9-5986-4179-b7fd-5d780460f8bf",
   "metadata": {},
   "source": [
    "**Exercise 3.4.5**\n",
    "\n",
    "Implement a miniKanren relation `same-lengtho`\n",
    "such that\n",
    "`(same-lengtho xs ys)` is satisfied when `xs` and `ys` are both lists of the same length. Check your\n",
    "implementation (all modes should work productively):\n",
    "\n",
    "```\n",
    "(run* (xs) (same-lengtho xs '(1 2 3)))\n",
    "; '((_.0 _.1 _.2))\n",
    "(run* (ys) (same-lengtho '(1 2 3) ys))\n",
    "; '((_.0 _.1 _.2))\n",
    "(run 3 (xs ys) (same-lengtho xs ys))\n",
    "; '((() ()) ((_.0) (_.1)) ((_.0 _.1) (_.2 _.3)))\n",
    "```"
   ]
  },
  {
   "cell_type": "code",
   "execution_count": 203,
   "id": "89ba791d-58bb-4f9c-9a8c-08ace2c5d410",
   "metadata": {},
   "outputs": [],
   "source": [
    "(define (same-lengtho xs ys)\n",
    "  (conde\n",
    "    [(== '() xs) (== '() ys)]\n",
    "    [(fresh (xa xd ya yd)\n",
    "       (== (cons xa xd) xs)\n",
    "       (== (cons ya yd) ys)\n",
    "       (same-lengtho xd yd))]))"
   ]
  },
  {
   "cell_type": "code",
   "execution_count": 205,
   "id": "37de6de0-857e-440b-9f59-8852d8b538a6",
   "metadata": {},
   "outputs": [
    {
     "data": {
      "text/html": [
       "<code>'((_.0 _.1 _.2))</code>"
      ],
      "text/plain": [
       "'((_.0 _.1 _.2))"
      ]
     },
     "execution_count": 205,
     "metadata": {},
     "output_type": "execute_result"
    }
   ],
   "source": [
    "(run* (xs) (same-lengtho xs '(1 2 3)))\n"
   ]
  },
  {
   "cell_type": "code",
   "execution_count": 207,
   "id": "6039a8b8-939d-49df-b3f6-e635e047514c",
   "metadata": {},
   "outputs": [
    {
     "data": {
      "text/html": [
       "<code>'((_.0 _.1 _.2))</code>"
      ],
      "text/plain": [
       "'((_.0 _.1 _.2))"
      ]
     },
     "execution_count": 207,
     "metadata": {},
     "output_type": "execute_result"
    }
   ],
   "source": [
    "(run* (ys) (same-lengtho '(1 2 3) ys))"
   ]
  },
  {
   "cell_type": "code",
   "execution_count": 209,
   "id": "3dcc2811-5fb0-4a7d-8f4c-c2842f4187fd",
   "metadata": {},
   "outputs": [
    {
     "data": {
      "text/html": [
       "<code>'((() ()) ((_.0) (_.1)) ((_.0 _.1) (_.2 _.3)))</code>"
      ],
      "text/plain": [
       "'((() ()) ((_.0) (_.1)) ((_.0 _.1) (_.2 _.3)))"
      ]
     },
     "execution_count": 209,
     "metadata": {},
     "output_type": "execute_result"
    }
   ],
   "source": [
    "(run 3 (xs ys) (same-lengtho xs ys))"
   ]
  },
  {
   "cell_type": "markdown",
   "id": "b371e4ef-f956-496c-b306-b7124bb30dbe",
   "metadata": {},
   "source": [
    "**Exercise 3.4.6**\n",
    "\n",
    "Implement a miniKanren relation `equiv-seto`\n",
    "such that\n",
    "`(equiv-seto xs ys)` is satisfied when `xs` and `ys` are both lists that represent sets with the same\n",
    "elements. You may assume that `xs` and `ys` do not contain duplicates. Check your implementation (all\n",
    "modes should work productively, the order of results may differ):\n",
    "\n",
    "```\n",
    "(run* (xs) (equiv-seto xs '(1 2 3)))\n",
    "; '((1 2 3) (1 3 2) (2 1 3) (2 3 1) (3 1 2) (3 2 1))\n",
    "(run* (xs) (equiv-seto '(1 2 3) xs))\n",
    "; '((1 2 3) (1 3 2) (2 1 3) (3 1 2) (2 3 1) (3 2 1))\n",
    "```"
   ]
  },
  {
   "cell_type": "code",
   "execution_count": 231,
   "id": "5e63ed66-18c9-47a8-b7de-99f21c233933",
   "metadata": {},
   "outputs": [],
   "source": [
    "(define (membero x l)\n",
    "  (fresh (h t)\n",
    "    (== (cons h t) l)\n",
    "    (conde\n",
    "      [(== h x)]\n",
    "      [(membero x t)])))\n",
    "\n",
    "(define (removeo x l out)\n",
    "  (conde\n",
    "    [(== '() l) (== '() out)]\n",
    "    [(fresh (h t res)\n",
    "       (== (cons h t) l)\n",
    "       (conde\n",
    "         [(== h x) (== t out)]\n",
    "         [(=/= h x)\n",
    "          (removeo x t res)\n",
    "          (== (cons h res) out)]))]))\n",
    "\n",
    "(define (equiv-seto xs ys)\n",
    "  (conde\n",
    "    [(== '() xs) (== '() ys)]\n",
    "    [(fresh (a d ys-rest)\n",
    "       (== (cons a d) xs)\n",
    "       (membero a ys)\n",
    "       (removeo a ys ys-rest)\n",
    "       (equiv-seto d ys-rest))]))\n"
   ]
  },
  {
   "cell_type": "code",
   "execution_count": 233,
   "id": "28a91652-f928-4f7a-b82a-429528b06993",
   "metadata": {},
   "outputs": [
    {
     "data": {
      "text/html": [
       "<code>'((1 2 3) (1 3 2) (2 1 3) (3 1 2) (2 3 1) (3 2 1))</code>"
      ],
      "text/plain": [
       "'((1 2 3) (1 3 2) (2 1 3) (3 1 2) (2 3 1) (3 2 1))"
      ]
     },
     "execution_count": 233,
     "metadata": {},
     "output_type": "execute_result"
    }
   ],
   "source": [
    "(run* (xs) (equiv-seto xs '(1 2 3)))"
   ]
  },
  {
   "cell_type": "code",
   "execution_count": 242,
   "id": "a0639dc8-1da1-4af3-880e-1c1185bd7abe",
   "metadata": {},
   "outputs": [
    {
     "data": {
      "text/html": [
       "<code>'((1 2 3) (1 3 2) (2 1 3) (3 1 2) (2 3 1) (3 2 1))</code>"
      ],
      "text/plain": [
       "'((1 2 3) (1 3 2) (2 1 3) (3 1 2) (2 3 1) (3 2 1))"
      ]
     },
     "execution_count": 242,
     "metadata": {},
     "output_type": "execute_result"
    }
   ],
   "source": [
    "(run 6 (xs) (equiv-seto '(1 2 3) xs))"
   ]
  },
  {
   "cell_type": "markdown",
   "id": "761fb29b-ee0e-4754-8ed7-60b140eb2418",
   "metadata": {},
   "source": [
    "## 3.5 More Program Synthesis with Simple Types\n",
    "\n",
    "As you have seen previously, we can already synthesize programs, but they tend to be rather boring.\n",
    "For examples, despite the “fair” search in miniKanren, we still get a lot of expressions that use the\n",
    "same variable (usually the one that appears earlier in the context). To improve the state of things a\n",
    "little, we will demand that all variables in the context are actually used in the generated expression.\n",
    "Instead of rewriting all our previous code, we will postulate this requirement post-factum."
   ]
  },
  {
   "cell_type": "markdown",
   "id": "c3568e6e-790f-4738-a0bb-d9d2c4ba2326",
   "metadata": {},
   "source": [
    "**Exercise 3.5.1**\n",
    "\n",
    "Implement a miniKanren relation `free-varso`\n",
    "such that\n",
    "`(free-varso expr vars)` is satisfied when `expr` is a valid expression with exactly the variables from\n",
    "`vars`. This is similar to `untyped-expro`\n",
    ", except now the list of variables must be exhaustive and not\n",
    "contain any duplicates. Check your implementation:\n",
    "\n",
    "```\n",
    "(run* (vars) (free-varso '(if (f x) then (x + y) else x) vars))\n",
    "; '((f x y))\n",
    "```"
   ]
  },
  {
   "cell_type": "code",
   "execution_count": 321,
   "id": "5a676c97-5cdb-40c3-b01f-c1a56febdfec",
   "metadata": {},
   "outputs": [
    {
     "data": {
      "text/html": [
       "<code>'(((if (f x) then (x + y) else x)) ((f x) (x + y) x) ((f x) y x))</code>"
      ],
      "text/plain": [
       "'(((if (f x) then (x + y) else x)) ((f x) (x + y) x) ((f x) y x))"
      ]
     },
     "execution_count": 321,
     "metadata": {},
     "output_type": "execute_result"
    }
   ],
   "source": [
    "\n",
    "(define (symbolo x)\n",
    "  (conde\n",
    "    [(=/= x 'if) (=/= x 'then) (=/= x 'else) (=/= x '+)]))\n",
    "\n",
    "(define (free-varso expr vars)\n",
    "  (conde\n",
    "    [(symbolo expr) (== vars (list expr))]\n",
    "    \n",
    "    [(fresh (test conseq alt test-vars conseq-vars alt-vars temp-vars)\n",
    "       (== `(if ,test then ,conseq else ,alt) expr)\n",
    "       (free-varso test test-vars)\n",
    "       (free-varso conseq conseq-vars)\n",
    "       (free-varso alt alt-vars)\n",
    "       (uniono test-vars conseq-vars temp-vars)\n",
    "       (uniono temp-vars alt-vars vars))]\n",
    "    \n",
    "    [(fresh (x y x-vars y-vars)\n",
    "       (== `(,x + ,y) expr)\n",
    "       (free-varso x x-vars)\n",
    "       (free-varso y y-vars)\n",
    "       (uniono x-vars y-vars vars))]\n",
    "    \n",
    "    [(== '() expr) (== vars '())]))\n",
    "\n",
    "(define (membero x l)\n",
    "  (fresh (h t)\n",
    "    (== (cons h t) l)\n",
    "    (conde\n",
    "      [(== h x)]\n",
    "      [(membero x t)])))\n",
    "\n",
    "(define (uniono xs ys xys)\n",
    "  (conde\n",
    "    [(== '() xs) (== ys xys)]\n",
    "    [(fresh (a d res)\n",
    "       (== (cons a d) xs)\n",
    "       (conde\n",
    "         [(membero a ys) (uniono d ys xys)]\n",
    "         [(not-membero a ys)\n",
    "          (uniono d ys res)\n",
    "          (== xys (cons a res))]))]))\n",
    "\n",
    "(define (not-membero x l)\n",
    "  (conde\n",
    "    [(== '() l)]\n",
    "    [(fresh (h t)\n",
    "       (== (cons h t) l)\n",
    "       (=/= h x)\n",
    "       (not-membero x t))]))\n",
    "\n",
    "(run* (vars) (free-varso '(if (f x) then (x + y) else x) vars))\n"
   ]
  },
  {
   "cell_type": "markdown",
   "id": "318e0859-726b-40c4-bfed-2565b986c5ab",
   "metadata": {},
   "source": [
    "Next step is easy — ensure that context consists precisely of a (permutation of) the list of free\n",
    "variables of the generated expression. This way, we will only generate programs that use *all* context\n",
    "information.\n",
    "\n",
    "**Exercise 3.5.2**\n",
    "\n",
    "Implement a miniKanren relation `no-unused-typed-expro`\n",
    "such that\n",
    "`(no-unused-typed-expro context expr type)` is satisfied when `expr` is a valid expression of type\n",
    "`type` that uses **all** variables from the context context at least once.\n",
    "\n",
    "*Hint: use a combination of previously defined relations.*\n",
    "\n",
    "Check your implementation:\n",
    "\n",
    "Make sure that `no-unused-typed-expro` works in **program synthesis** mode for relatively simple programs:\n",
    "\n",
    "```\n",
    "(define local-compose-context\n",
    "  '((f . (b -> c))\n",
    "    (g . (a -> b))\n",
    "    (x . a)))\n",
    "(run 1 (expr) (no-unused-typed-expro local-compose-context expr 'c))\n",
    "; '((f (g x)))\n",
    "\n",
    "(define local-compose-context-2\n",
    "  '((f . (a -> a))\n",
    "    (g . (a -> a))\n",
    "    (x . a)))\n",
    "(run 5 (expr) (no-unused-typed-expro local-compose-context-2 expr 'a))\n",
    "; '((f (g x)) (g (f x)) (f (f (g x))) (f (g (f x))) (g (f (f x))))\n",
    "```"
   ]
  },
  {
   "cell_type": "code",
   "execution_count": 373,
   "id": "22dfd583-b238-47cb-abba-071ad828e88f",
   "metadata": {},
   "outputs": [],
   "source": [
    "(define (appendo l s out)\n",
    "  (conde\n",
    "    [(== l '()) (== s out)]\n",
    "    [(fresh (a d res)\n",
    "       (== l (cons a d))\n",
    "       (== out (cons a res))\n",
    "       (appendo d s res))])) \n",
    "\n",
    "(define (membero x lst)\n",
    "  (fresh (head tail)\n",
    "    (conde\n",
    "      [(== lst '()) fail]\n",
    "      [(== lst (cons x tail))]\n",
    "      [(fresh (rest)\n",
    "         (== lst (cons head rest))\n",
    "         (=/= head x)\n",
    "         (membero x rest))])))\n",
    "\n",
    "(define (lookupo x ctx type)\n",
    "  (fresh (rest-ctx name rest-type)\n",
    "    (conde\n",
    "      [(== ctx '()) fail]\n",
    "      [(fresh ()\n",
    "         (== ctx (cons (cons name type) rest-ctx))\n",
    "         (conde\n",
    "           [(== name x) (== type rest-type)]\n",
    "           [(=/= name x) (lookupo x rest-ctx type)]))])))\n",
    "\n",
    "(define (collect-varso expr vars)\n",
    "  (conde\n",
    "    [(symbolo expr) (== vars (list expr))]\n",
    "    \n",
    "    [(fresh (f arg f-vars arg-vars)\n",
    "       (== expr `(,f ,arg))\n",
    "       (collect-varso f f-vars)\n",
    "       (collect-varso arg arg-vars)\n",
    "       (appendo f-vars arg-vars vars))]\n",
    "    \n",
    "    [(== expr '()) (== vars '())]))\n",
    "\n",
    "(define (context-vars-usedo ctx vars)\n",
    "  (conde\n",
    "    [(== ctx '())]\n",
    "    [(fresh (name type rest-ctx)\n",
    "       (== ctx (cons (cons name type) rest-ctx))\n",
    "       (membero name vars)\n",
    "       (context-vars-usedo rest-ctx vars))])) \n",
    "\n",
    "(define (no-unused-typed-expro ctx expr result-type)\n",
    "  (fresh (used-vars)\n",
    "    (collect-varso expr used-vars)\n",
    "    (context-vars-usedo ctx used-vars)\n",
    "    (conde\n",
    "      [(symbolo expr)\n",
    "       (lookupo expr ctx result-type)]\n",
    "      \n",
    "      [(fresh (f arg f-type arg-type)\n",
    "         (== expr `(,f ,arg))\n",
    "         (lookupo f ctx `(,arg-type -> ,result-type))\n",
    "         (no-unused-typed-expro ctx f `(,arg-type -> ,result-type))\n",
    "         (no-unused-typed-expro ctx arg arg-type))])))\n",
    "\n",
    "(define local-compose-context\n",
    "  '((f . (b -> c))\n",
    "    (g . (a -> b))\n",
    "    (x . a)))\n",
    "\n",
    "(define local-compose-context-2\n",
    "  '((f . (a -> a))\n",
    "    (g . (a -> a))\n",
    "    (x . a)))"
   ]
  },
  {
   "cell_type": "markdown",
   "id": "6baff986-682b-4f66-a03c-46565812067a",
   "metadata": {},
   "source": [
    "Make sure that `no-unused-typed-expro`\n",
    "can synthesize the implementation of `map` given a small\n",
    "context and a small hint:\n",
    "\n",
    "```\n",
    "(define local-map-context\n",
    "  '((empty? . ([a] -> Bool))\n",
    "    (empty . [b])\n",
    "    (cons . (b -> ([b] -> [b])))\n",
    "    (first . ([a] -> a))\n",
    "    (rest . ([a] -> [a]))\n",
    "    (map . ((a -> b) -> ([a] -> [b])))\n",
    "    (f . (a -> b))\n",
    "    (xs . [a])))\n",
    "(run 1 (expr)\n",
    "    (fresh (e1 e2)\n",
    "        (== expr `(if (empty? xs) then ,e1 else ,e2)))\n",
    "    (no-unused-typed-expro local-map-context expr '[b]))\n",
    "; '((if (empty? xs) then empty else ((cons (f (first xs))) ((map f) (rest xs)))))\n",
    "```"
   ]
  },
  {
   "cell_type": "code",
   "execution_count": 379,
   "id": "1372b282-41da-406f-941c-ea9e7318f8a9",
   "metadata": {},
   "outputs": [],
   "source": [
    "(define (membero x ls)\n",
    "  (fresh (a d)\n",
    "    (== ls (cons a d))\n",
    "    (conde\n",
    "      [(== a x)]\n",
    "      [(=/= a x) (membero x d)])))\n",
    "\n",
    "(define (lookupo x ctx type)\n",
    "  (fresh (rest-ctx name rest-type)\n",
    "    (== ctx (cons (cons name type) rest-ctx))\n",
    "    (conde\n",
    "      [(== name x) (== type rest-type)]\n",
    "      [(=/= name x) (lookupo x rest-ctx type)])))\n",
    "\n",
    "(define (collect-varso expr vars)\n",
    "  (conde\n",
    "    [(symbolo expr) (== vars (list expr))]\n",
    "    \n",
    "    [(fresh (f arg f-vars arg-vars)\n",
    "       (== expr `(,f ,arg))\n",
    "       (collect-varso f f-vars)\n",
    "       (collect-varso arg arg-vars)\n",
    "       (appendo f-vars arg-vars vars))]\n",
    "    \n",
    "    [(fresh (test then-branch else-branch test-vars then-vars else-vars)\n",
    "       (== expr `(if ,test then ,then-branch else ,else-branch))\n",
    "       (collect-varso test test-vars)\n",
    "       (collect-varso then-branch then-vars)\n",
    "       (collect-varso else-branch else-vars)\n",
    "       (appendo test-vars then-vars vars1)\n",
    "       (appendo vars1 else-vars vars))]\n",
    "    \n",
    "    [(== expr '()) (== vars '())]))\n",
    "\n",
    "(define (context-vars-usedo ctx vars)\n",
    "  (conde\n",
    "    [(== ctx '())]\n",
    "    [(fresh (name type rest-ctx)\n",
    "       (== ctx (cons (cons name type) rest-ctx))\n",
    "       (membero name vars)\n",
    "       (context-vars-usedo rest-ctx vars))])) \n",
    "\n",
    "(define (no-unused-typed-expro ctx expr result-type)\n",
    "  (fresh (used-vars)\n",
    "    (collect-varso expr used-vars)\n",
    "    (context-vars-usedo ctx used-vars)\n",
    "    (conde\n",
    "      [(symbolo expr)\n",
    "       (lookupo expr ctx result-type)]\n",
    "      \n",
    "      [(fresh (f arg f-type arg-type)\n",
    "         (== expr `(,f ,arg))\n",
    "         (lookupo f ctx `(,arg-type -> ,result-type))\n",
    "         (no-unused-typed-expro ctx f `(,arg-type -> ,result-type))\n",
    "         (no-unused-typed-expro ctx arg arg-type))]\n",
    "      \n",
    "      [(fresh (test then-branch else-branch test-type then-type)\n",
    "         (== expr `(if ,test then ,then-branch else ,else-branch))\n",
    "         (lookupo test ctx 'Bool)\n",
    "         (no-unused-typed-expro ctx test 'Bool)\n",
    "         (no-unused-typed-expro ctx then-branch result-type)\n",
    "         (no-unused-typed-expro ctx else-branch result-type))])))\n",
    "\n",
    "(define local-map-context\n",
    "  '((empty? . ([a] -> Bool))\n",
    "    (empty . [b])\n",
    "    (cons . (b -> ([b] -> [b])))\n",
    "    (first . ([a] -> a))\n",
    "    (rest . ([a] -> [a]))\n",
    "    (map . ((a -> b) -> ([a] -> [b])))\n",
    "    (f . (a -> b))\n",
    "    (xs . [a])))\n"
   ]
  },
  {
   "cell_type": "markdown",
   "id": "c0269823-8e8e-4869-ad17-d18c8e725851",
   "metadata": {},
   "source": [
    "Use `no-unused-typed-expro`\n",
    "to synthesize the implementation of `append` from the following\n",
    "context and a small hint (in reasonable time):\n",
    "\n",
    "```\n",
    "(define local-append-context\n",
    "  '((xs . [a])\n",
    "    (ys . [a])\n",
    "    (empty? . ([a] -> Bool))\n",
    "    (cons . (a -> ([a] -> [a])))\n",
    "    (first . ([a] -> a))\n",
    "    (rest . ([a] -> [a]))\n",
    "    (append . ([a] -> ([a] -> [a])))))\n",
    "(run 10 (expr)\n",
    "    (fresh (e2)\n",
    "        (== expr `(if (empty? xs) then ys else ,e2)))\n",
    "(no-unused-typed-expro local-append-context expr '[a]))\n",
    "; '(...\n",
    "; (if (empty? xs) then ys else (cons (first xs) (append (rest xs) ys)))\n",
    "; ...)\n",
    "```"
   ]
  },
  {
   "cell_type": "code",
   "execution_count": 383,
   "id": "ed9d40ac-de62-44e0-aad4-44464faa7897",
   "metadata": {},
   "outputs": [],
   "source": [
    "(define (membero x ls)\n",
    "  (fresh (a d)\n",
    "    (== ls (cons a d))\n",
    "    (conde\n",
    "      [(== a x)]\n",
    "      [(=/= a x) (membero x d)])))\n",
    "\n",
    "(define (lookupo x ctx type)\n",
    "  (fresh (rest-ctx name rest-type)\n",
    "    (== ctx (cons (cons name type) rest-ctx))\n",
    "    (conde\n",
    "      [(== name x) (== type rest-type)]\n",
    "      [(=/= name x) (lookupo x rest-ctx type)])))\n",
    "\n",
    "(define (collect-varso expr vars)\n",
    "  (conde\n",
    "    [(symbolo expr) (== vars (list expr))]\n",
    "    \n",
    "    [(fresh (f arg f-vars arg-vars)\n",
    "       (== expr `(,f ,arg))\n",
    "       (collect-varso f f-vars)\n",
    "       (collect-varso arg arg-vars)\n",
    "       (appendo f-vars arg-vars vars))]\n",
    "    \n",
    "    [(fresh (test then-branch else-branch test-vars then-vars else-vars)\n",
    "       (== expr `(if ,test then ,then-branch else ,else-branch))\n",
    "       (collect-varso test test-vars)\n",
    "       (collect-varso then-branch then-vars)\n",
    "       (collect-varso else-branch else-vars)\n",
    "       (appendo test-vars then-vars vars1)\n",
    "       (appendo vars1 else-vars vars))]\n",
    "    \n",
    "    [(== expr '()) (== vars '())]))\n",
    "\n",
    "(define (context-vars-usedo ctx vars)\n",
    "  (conde\n",
    "    [(== ctx '())]\n",
    "    [(fresh (name type rest-ctx)\n",
    "       (== ctx (cons (cons name type) rest-ctx))\n",
    "       (membero name vars)\n",
    "       (context-vars-usedo rest-ctx vars))])) \n",
    "\n",
    "(define (no-unused-typed-expro ctx expr result-type)\n",
    "  (fresh (used-vars)\n",
    "    (collect-varso expr used-vars)\n",
    "    (context-vars-usedo ctx used-vars)\n",
    "    (conde\n",
    "      [(symbolo expr)\n",
    "       (lookupo expr ctx result-type)]\n",
    "      \n",
    "      [(fresh (f arg f-type arg-type)\n",
    "         (== expr `(,f ,arg))\n",
    "         (lookupo f ctx `(,arg-type -> ,result-type))\n",
    "         (no-unused-typed-expro ctx f `(,arg-type -> ,result-type))\n",
    "         (no-unused-typed-expro ctx arg arg-type))]\n",
    "      \n",
    "      [(fresh (test then-branch else-branch test-type then-type)\n",
    "         (== expr `(if ,test then ,then-branch else ,else-branch))\n",
    "         (lookupo test ctx 'Bool)\n",
    "         (no-unused-typed-expro ctx test 'Bool)\n",
    "         (no-unused-typed-expro ctx then-branch result-type)\n",
    "         (no-unused-typed-expro ctx else-branch result-type))])))\n",
    "\n",
    "(define local-append-context\n",
    "  '((xs . [a])\n",
    "    (ys . [a])\n",
    "    (empty? . ([a] -> Bool))\n",
    "    (cons . (a -> ([a] -> [a])))\n",
    "    (first . ([a] -> a))\n",
    "    (rest . ([a] -> [a]))\n",
    "    (append . ([a] -> ([a] -> [a])))))"
   ]
  }
 ],
 "metadata": {
  "kernelspec": {
   "display_name": "Racket",
   "language": "racket",
   "name": "racket"
  },
  "language_info": {
   "codemirror_mode": "scheme",
   "file_extension": ".rkt",
   "mimetype": "text/x-racket",
   "name": "Racket",
   "pygments_lexer": "racket",
   "version": "8.14"
  }
 },
 "nbformat": 4,
 "nbformat_minor": 5
}
