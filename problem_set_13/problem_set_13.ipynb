{
 "cells": [
  {
   "cell_type": "markdown",
   "id": "49675a87-4a8b-4924-bf03-4e9e715b25c5",
   "metadata": {},
   "source": [
    "# Week 13. Problem set\n",
    "\n",
    "Evgeny Bobkunov\n",
    "\n",
    "e.bobkunov@innopolis.university\n",
    "\n",
    "SD-03"
   ]
  },
  {
   "cell_type": "markdown",
   "id": "d72e52bb-3cff-40c4-9f16-623ed804629d",
   "metadata": {},
   "source": [
    "1. Implement a relational program `treeo` that checks whether a given term is a valid tree.\n",
    "\n",
    "```\n",
    "(run* (q) (treeo 'empty))\n",
    "; '(_.0)\n",
    "\n",
    "(run* (q) (treeo '(node 1 empty (node 2 (node 3 empty empty) empty))))\n",
    "; '(_.0)\n",
    "\n",
    "(run 5 (q) (treeo q))\n",
    "; '(empty\n",
    "; (node _.0 empty empty)\n",
    "; (node _.0 empty (node _.1 empty empty))\n",
    "; (node _.0 (node _.1 empty empty) empty)\n",
    "; (node _.0 empty (node _.1 empty (node _.2 empty empty))))\n",
    "```"
   ]
  },
  {
   "cell_type": "code",
   "execution_count": 35,
   "id": "46efad6b-9b05-49ca-8320-a0067d0ad82d",
   "metadata": {},
   "outputs": [
    {
     "data": {
      "text/html": [
       "<code>'(_.0)</code>"
      ],
      "text/plain": [
       "'(_.0)"
      ]
     },
     "execution_count": 35,
     "metadata": {},
     "output_type": "execute_result"
    }
   ],
   "source": [
    "(require minikanren)\n",
    "(require minikanren/matche)\n",
    "\n",
    "(define treeo\n",
    "  (lambda (t)\n",
    "    (conde\n",
    "     [(== t 'empty)]\n",
    "     [(fresh (value left right)\n",
    "        (== t `(node ,value ,left ,right))\n",
    "        (treeo left)\n",
    "        (treeo right))])))\n",
    "\n",
    "(run* (q) (treeo 'empty))"
   ]
  },
  {
   "cell_type": "code",
   "execution_count": 37,
   "id": "096ceca8-4b51-401b-8acf-b58aef83b052",
   "metadata": {},
   "outputs": [
    {
     "data": {
      "text/html": [
       "<code>'(_.0)</code>"
      ],
      "text/plain": [
       "'(_.0)"
      ]
     },
     "execution_count": 37,
     "metadata": {},
     "output_type": "execute_result"
    }
   ],
   "source": [
    "(run* (q) (treeo '(node 1 empty (node 2 (node 3 empty empty) empty))))"
   ]
  },
  {
   "cell_type": "code",
   "execution_count": 39,
   "id": "0c289e28-a87e-40de-b3d0-6a3e58b4d8d4",
   "metadata": {},
   "outputs": [
    {
     "data": {
      "text/html": [
       "<code>'(empty (node _.0 empty empty) (node _.0 empty (node _.1 empty empty)) (node _.0 (node _.1 empty empty) empty) (node _.0 empty (node _.1 empty (node _.2 empty empty))))</code>"
      ],
      "text/plain": [
       "'(empty (node _.0 empty empty) (node _.0 empty (node _.1 empty empty)) (node _.0 (node _.1 empty empty) empty) (node _.0 empty (node _.1 empty (node _.2 empty empty))))"
      ]
     },
     "execution_count": 39,
     "metadata": {},
     "output_type": "execute_result"
    }
   ],
   "source": [
    "(run 5 (q) (treeo q))"
   ]
  },
  {
   "cell_type": "markdown",
   "id": "f50f4667-c6eb-4e4c-823e-128eb6c22759",
   "metadata": {},
   "source": [
    "2. Implement predicate `prefix-subtreeo` such that `(prefix-subtreeo small large)` is satisfied when `small` is contained in `large`:\n",
    "\n",
    "    1. an empty tree is contained in any tree;\n",
    "    2. a non-empty tree is contained in another non-empty tree when they have the same root and both subtrees are contained in the other subtrees respectively;\n",
    "  \n",
    "```\n",
    "(run* (q)\n",
    "  (prefix-subtreeo q\n",
    "    '(node 3\n",
    "      (node 1 empty\n",
    "        (node 2 empty empty))\n",
    "        (node 4 empty empty))))\n",
    "\n",
    "; '(empty\n",
    "; (node 3 empty empty)\n",
    "; (node 3 empty (node 4 empty empty))\n",
    "; (node 3 (node 1 empty empty) empty)\n",
    "; (node 3 (node 1 empty empty) (node 4 empty empty))\n",
    "; (node 3 (node 1 empty (node 2 empty empty)) empty)\n",
    "; (node 3 (node 1 empty (node 2 empty empty)) (node 4 empty empty)))\n",
    "\n",
    "(run* (q)\n",
    "      (prefix-subtreeo\n",
    "       '(node 3\n",
    "              (node 1 empty\n",
    "                    (node 2 empty empty))\n",
    "              (node 4 empty empty))\n",
    "        q))\n",
    "\n",
    "; '((node 3 (node 1 _.0 (node 2 _.1 _.2)) (node 4 _.3 _.4)))\n",
    "```"
   ]
  },
  {
   "cell_type": "code",
   "execution_count": 104,
   "id": "a15d58f5-6664-4556-9b6b-a9487ee05599",
   "metadata": {},
   "outputs": [],
   "source": [
    "(define prefix-subtreeo\n",
    "  (lambda (small large)\n",
    "    (conde\n",
    "      [(== 'empty small)]\n",
    "      \n",
    "      [(fresh (small-value small-left small-right\n",
    "              large-value large-left large-right)\n",
    "        (== `(node ,small-value ,small-left ,small-right) small)\n",
    "        (== `(node ,large-value ,large-left ,large-right) large)\n",
    "        (== small-value large-value)\n",
    "        (prefix-subtreeo small-left large-left)\n",
    "        (prefix-subtreeo small-right large-right))])))"
   ]
  },
  {
   "cell_type": "code",
   "execution_count": 106,
   "id": "3734629c-f480-43b1-824f-083960b21273",
   "metadata": {},
   "outputs": [
    {
     "data": {
      "text/html": [
       "<code>'(empty (node 3 empty empty) (node 3 empty (node 4 empty empty)) (node 3 (node 1 empty empty) empty) (node 3 (node 1 empty empty) (node 4 empty empty)) (node 3 (node 1 empty (node 2 empty empty)) empty) (node 3 (node 1 empty (node 2 empty empty)) (node 4 empty empty)))</code>"
      ],
      "text/plain": [
       "'(empty (node 3 empty empty) (node 3 empty (node 4 empty empty)) (node 3 (node 1 empty empty) empty) (node 3 (node 1 empty empty) (node 4 empty empty)) (node 3 (node 1 empty (node 2 empty empty)) empty) (node 3 (node 1 empty (node 2 empty empty)) (node 4 empty empty)))"
      ]
     },
     "execution_count": 106,
     "metadata": {},
     "output_type": "execute_result"
    }
   ],
   "source": [
    "(run* (q)\n",
    "  (prefix-subtreeo q\n",
    "    '(node 3\n",
    "      (node 1 empty\n",
    "        (node 2 empty empty))\n",
    "        (node 4 empty empty))))"
   ]
  },
  {
   "cell_type": "code",
   "execution_count": 108,
   "id": "4cbeaa14-1c98-442a-bd20-30819e5f5b97",
   "metadata": {},
   "outputs": [
    {
     "data": {
      "text/html": [
       "<code>'((node 3 (node 1 _.0 (node 2 _.1 _.2)) (node 4 _.3 _.4)))</code>"
      ],
      "text/plain": [
       "'((node 3 (node 1 _.0 (node 2 _.1 _.2)) (node 4 _.3 _.4)))"
      ]
     },
     "execution_count": 108,
     "metadata": {},
     "output_type": "execute_result"
    }
   ],
   "source": [
    "(run* (q)\n",
    "  (prefix-subtreeo\n",
    "    '(node 3\n",
    "      (node 1 empty\n",
    "          (node 2 empty empty))\n",
    "      (node 4 empty empty))\n",
    "    q))"
   ]
  },
  {
   "cell_type": "markdown",
   "id": "bba215a2-a8c5-4c9a-9bf6-64e2efcf7e55",
   "metadata": {},
   "source": [
    "3. Implement predicate `preordero` such that `(preorder tree vals)` is satisfied when `vals` contains exactly of values from `tree` in **preorder traversal** order.\n",
    "\n",
    "```\n",
    "(run* (q) (preordero\n",
    "  '(node 1 (node 2 (node 3 empty empty) empty) (node 4 empty empty))\n",
    "  '(3 2 1 4)))\n",
    "; '()\n",
    "\n",
    "\n",
    "(run* (q) (preordero\n",
    "  q\n",
    "  '(1 2 3)))\n",
    "; '((node 1 empty (node 2 empty (node 3 empty empty)))\n",
    "; (node 1 empty (node 2 (node 3 empty empty) empty))\n",
    "; (node 1 (node 2 empty empty) (node 3 empty empty))\n",
    "; (node 1 (node 2 empty (node 3 empty empty)) empty)\n",
    "; (node 1 (node 2 (node 3 empty empty) empty) empty))\n",
    "\n",
    "\n",
    "(run 7 (q) (fresh (xs) (preordero q xs)))\n",
    "; '(empty\n",
    "; (node _.0 empty empty)\n",
    "; (node _.0 empty (node _.1 empty empty))\n",
    "; (node _.0 (node _.1 empty empty) empty)\n",
    "; (node _.0 empty (node _.1 empty (node _.2 empty empty)))\n",
    "; (node _.0 (node _.1 empty empty) (node _.2 empty empty))\n",
    "; (node _.0 empty (node _.1 (node _.2 empty empty) empty)))\n",
    "```"
   ]
  },
  {
   "cell_type": "code",
   "execution_count": 11,
   "id": "00577fa9-76ef-41ce-be1a-12851e16bd39",
   "metadata": {},
   "outputs": [],
   "source": [
    "(define appendo\n",
    "  (lambda (l1 l2 out)\n",
    "    (conde\n",
    "      [(== '() l1) (== l2 out)]\n",
    "      [(fresh (a d res)\n",
    "         (== `(,a . ,d) l1)\n",
    "         (== `(,a . ,res) out)\n",
    "         (appendo d l2 res))])))\n",
    "\n",
    "(define preordero\n",
    "  (lambda (tree vals)\n",
    "    (conde\n",
    "      [(== 'empty tree) (== '() vals)]\n",
    "      [(fresh (value left right rest-vals)\n",
    "         (== `(node ,value ,left ,right) tree)\n",
    "         (fresh (left-vals right-vals)\n",
    "           (== `(,value . ,rest-vals) vals)\n",
    "           (appendo left-vals right-vals rest-vals)\n",
    "           (preordero left left-vals)\n",
    "           (preordero right right-vals)))])))\n"
   ]
  },
  {
   "cell_type": "code",
   "execution_count": 13,
   "id": "04652d09-2d13-441b-b28f-15fdd5e7a277",
   "metadata": {},
   "outputs": [
    {
     "data": {
      "text/html": [
       "<code>'()</code>"
      ],
      "text/plain": [
       "'()"
      ]
     },
     "execution_count": 13,
     "metadata": {},
     "output_type": "execute_result"
    }
   ],
   "source": [
    "(run* (q)\n",
    "      (preordero\n",
    "       '(node 1 (node 2 (node 3 empty empty) empty) (node 4 empty empty))\n",
    "       '(3 2 1 4)))"
   ]
  },
  {
   "cell_type": "code",
   "execution_count": 15,
   "id": "c95f652c-5b27-4681-904a-aef3688317df",
   "metadata": {},
   "outputs": [
    {
     "data": {
      "text/html": [
       "<code>'((node 1 empty (node 2 empty (node 3 empty empty))) (node 1 empty (node 2 (node 3 empty empty) empty)) (node 1 (node 2 empty empty) (node 3 empty empty)) (node 1 (node 2 empty (node 3 empty empty)) empty) (node 1 (node 2 (node 3 empty empty) empty) empty))</code>"
      ],
      "text/plain": [
       "'((node 1 empty (node 2 empty (node 3 empty empty))) (node 1 empty (node 2 (node 3 empty empty) empty)) (node 1 (node 2 empty empty) (node 3 empty empty)) (node 1 (node 2 empty (node 3 empty empty)) empty) (node 1 (node 2 (node 3 empty empty) empty) empty))"
      ]
     },
     "execution_count": 15,
     "metadata": {},
     "output_type": "execute_result"
    }
   ],
   "source": [
    "(run* (q)\n",
    "      (preordero q '(1 2 3)))"
   ]
  },
  {
   "cell_type": "code",
   "execution_count": 17,
   "id": "5eb4823e-164b-40b0-bf6c-916dfe799d54",
   "metadata": {},
   "outputs": [
    {
     "data": {
      "text/html": [
       "<code>'(empty (node _.0 empty empty) (node _.0 empty (node _.1 empty empty)) (node _.0 (node _.1 empty empty) empty) (node _.0 empty (node _.1 empty (node _.2 empty empty))) (node _.0 (node _.1 empty empty) (node _.2 empty empty)) (node _.0 empty (node _.1 (node _.2 empty empty) empty)))</code>"
      ],
      "text/plain": [
       "'(empty (node _.0 empty empty) (node _.0 empty (node _.1 empty empty)) (node _.0 (node _.1 empty empty) empty) (node _.0 empty (node _.1 empty (node _.2 empty empty))) (node _.0 (node _.1 empty empty) (node _.2 empty empty)) (node _.0 empty (node _.1 (node _.2 empty empty) empty)))"
      ]
     },
     "execution_count": 17,
     "metadata": {},
     "output_type": "execute_result"
    }
   ],
   "source": [
    "(run 7 (q) \n",
    "     (fresh (xs) \n",
    "           (preordero q xs)))"
   ]
  },
  {
   "cell_type": "markdown",
   "id": "a4542639-cfc3-45a7-a869-ee4eb563b6be",
   "metadata": {},
   "source": [
    "4. Implement predicates `in-ordero` and `post-ordero`, analogous to the previous exercise, but for\n",
    "**in-order** and **post-order** traversals correspondingly.\n",
    "\n",
    "```\n",
    "(run* (q) (post-ordero\n",
    "  q\n",
    "  '(1 2 3)))\n",
    "; '((node 3 empty (node 1 empty (node 2 empty empty)))\n",
    "; (node 3 empty (node 1 (node 2 empty empty) empty))\n",
    "; (node 3 (node 1 empty empty) (node 2 empty empty))\n",
    "; (node 3 (node 1 empty (node 2 empty empty)) empty)\n",
    "; (node 3 (node 1 (node 2 empty empty) empty) empty))\n",
    "\n",
    "(run* (q) (in-ordero\n",
    "  q\n",
    "  '(1 2 3)))\n",
    "; '((node 1 empty (node 2 empty (node 3 empty empty)))\n",
    "; (node 1 empty (node 2 (node 3 empty empty) empty))\n",
    "; (node 2 (node 1 empty empty) (node 3 empty empty))\n",
    "; (node 3 (node 1 empty (node 2 empty empty)) empty)\n",
    "; (node 3 (node 1 (node 2 empty empty) empty) empty))\n",
    "```"
   ]
  },
  {
   "cell_type": "code",
   "execution_count": 53,
   "id": "5833e75d-ce9e-4149-b1c7-9962c8488b79",
   "metadata": {},
   "outputs": [],
   "source": [
    "(define in-ordero\n",
    "  (lambda (tree order)\n",
    "    (conde\n",
    "     [(== tree 'empty)\n",
    "      (== order '())]\n",
    "     [(fresh (value left right left-order right-order mid-order)\n",
    "        (== tree `(node ,value ,left ,right))\n",
    "        (in-ordero left left-order)\n",
    "        (in-ordero right right-order)\n",
    "        (appendo left-order (list value) mid-order)\n",
    "        (appendo mid-order right-order order))])))\n",
    "\n",
    "(define post-ordero\n",
    "  (lambda (tree order)\n",
    "    (conde\n",
    "     [(== tree 'empty)\n",
    "      (== order '())]\n",
    "     [(fresh (value left right left-order right-order mid-order)\n",
    "        (== tree `(node ,value ,left ,right))\n",
    "        (post-ordero left left-order)\n",
    "        (post-ordero right right-order)\n",
    "        (appendo left-order right-order mid-order)\n",
    "        (appendo mid-order (list value) order))])))\n",
    "\n",
    "(define appendo\n",
    "  (lambda (xs ys zs)\n",
    "    (conde\n",
    "     [(== xs '()) (== ys zs)]\n",
    "     [(fresh (head tail rest)\n",
    "        (== xs `(,head . ,tail))\n",
    "        (== zs `(,head . ,rest))\n",
    "        (appendo tail ys rest))])))\n"
   ]
  },
  {
   "cell_type": "code",
   "execution_count": 55,
   "id": "48c8d1cf-1aab-4e2c-84f5-1f5f58ee8e9d",
   "metadata": {},
   "outputs": [
    {
     "data": {
      "text/html": [
       "<code>'((node 3 (node 1 empty empty) (node 2 empty empty)) (node 3 empty (node 2 empty (node 1 empty empty))) (node 3 empty (node 2 (node 1 empty empty) empty)) (node 3 (node 2 empty (node 1 empty empty)) empty) (node 3 (node 2 (node 1 empty empty) empty) empty))</code>"
      ],
      "text/plain": [
       "'((node 3 (node 1 empty empty) (node 2 empty empty)) (node 3 empty (node 2 empty (node 1 empty empty))) (node 3 empty (node 2 (node 1 empty empty) empty)) (node 3 (node 2 empty (node 1 empty empty)) empty) (node 3 (node 2 (node 1 empty empty) empty) empty))"
      ]
     },
     "execution_count": 55,
     "metadata": {},
     "output_type": "execute_result"
    }
   ],
   "source": [
    "(run 5 (q) (post-ordero\n",
    "  q\n",
    "  '(1 2 3)))"
   ]
  },
  {
   "cell_type": "code",
   "execution_count": 57,
   "id": "6f5cf773-df77-4a0e-ada2-6e56adacd37c",
   "metadata": {},
   "outputs": [
    {
     "data": {
      "text/html": [
       "<code>'((node 2 (node 1 empty empty) (node 3 empty empty)) (node 1 empty (node 2 empty (node 3 empty empty))) (node 1 empty (node 3 (node 2 empty empty) empty)) (node 3 (node 1 empty (node 2 empty empty)) empty) (node 3 (node 2 (node 1 empty empty) empty) empty))</code>"
      ],
      "text/plain": [
       "'((node 2 (node 1 empty empty) (node 3 empty empty)) (node 1 empty (node 2 empty (node 3 empty empty))) (node 1 empty (node 3 (node 2 empty empty) empty)) (node 3 (node 1 empty (node 2 empty empty)) empty) (node 3 (node 2 (node 1 empty empty) empty) empty))"
      ]
     },
     "execution_count": 57,
     "metadata": {},
     "output_type": "execute_result"
    }
   ],
   "source": [
    "(run 5 (q) (in-ordero\n",
    "  q\n",
    "  '(1 2 3)))"
   ]
  },
  {
   "cell_type": "code",
   "execution_count": null,
   "id": "6f8c8b64-dabd-4c8c-8516-b008cb7d85bc",
   "metadata": {},
   "outputs": [],
   "source": []
  }
 ],
 "metadata": {
  "kernelspec": {
   "display_name": "Racket",
   "language": "racket",
   "name": "racket"
  },
  "language_info": {
   "codemirror_mode": "scheme",
   "file_extension": ".rkt",
   "mimetype": "text/x-racket",
   "name": "Racket",
   "pygments_lexer": "racket",
   "version": "8.14"
  }
 },
 "nbformat": 4,
 "nbformat_minor": 5
}
