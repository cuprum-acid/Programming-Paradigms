{
 "cells": [
  {
   "cell_type": "markdown",
   "id": "30dde690",
   "metadata": {},
   "source": [
    "# Week 7. Problem set\n",
    "\n",
    "**Evgeny Bobkunov SD-03 e.bobkunov@innopolis.university**\n"
   ]
  },
  {
   "cell_type": "markdown",
   "id": "5453693c",
   "metadata": {},
   "source": [
    "Consider the following declarations:\n",
    "\n",
    "```haskell\n",
    "type Name = String\n",
    "data Grade = A | B | C | D\n",
    "data Student = Student Name Grade\n",
    "data Point2D = Point2D Int Int\n",
    "\n",
    "data Status a\n",
    "  = Stop\n",
    "  | Warn [String] a\n",
    "  \n",
    "dup f x = f x x\n",
    "dip f x = f x (f x x)\n",
    "twice f x = f (f x)\n",
    "```"
   ]
  },
  {
   "cell_type": "markdown",
   "id": "a039be36",
   "metadata": {},
   "source": [
    "1. Specify the (most generic) types of `dup`, `dip`, and `twice`."
   ]
  },
  {
   "cell_type": "markdown",
   "id": "04f0d5e2",
   "metadata": {},
   "source": [
    "`dup`\n",
    "\n",
    "- `dup` takes a function `f` and a value `x`.\n",
    "\n",
    "- `f` is applied to `x` twice, so the function `f` must take two arguments of the same type as `x`.\n",
    "\n",
    "Thus, the type of `dup` is:\n",
    "\n",
    "```haskell\n",
    "dup :: (a -> a -> b) -> a -> b\n",
    "```\n",
    "\n",
    "`dip`\n",
    "\n",
    "- `dip` takes a function `f` and a value `x`.\n",
    "\n",
    "- The function `f` is applied to `x` twice inside itself, so `f` must take two arguments of the same type, and it must also return the same type as the input for the second argument of `f` to be valid.\n",
    "\n",
    "Thus, the type of `dip` is:\n",
    "\n",
    "```haskell\n",
    "dip :: (a -> a -> a) -> a -> a\n",
    "```\n",
    "\n",
    "`twice`\n",
    "\n",
    "- `twice` takes a function `f` and a value `x`.\n",
    "\n",
    "- `f` is applied to `x`, and then `f` is applied again to the result of the first application.\n",
    "\n",
    "Thus, the type of `dip` is:\n",
    "\n",
    "```haskell\n",
    "twice :: (a -> a) -> a -> a\n",
    "```"
   ]
  },
  {
   "cell_type": "code",
   "execution_count": 4,
   "id": "09d1861c",
   "metadata": {},
   "outputs": [],
   "source": [
    "type Name = String\n",
    "data Grade = A | B | C | D\n",
    "data Student = Student Name Grade\n",
    "data Point2D = Point2D Int Int\n",
    "\n",
    "data Status a\n",
    "  = Stop\n",
    "  | Warn [String] a\n",
    "  \n",
    "dup f x = f x x\n",
    "dip f x = f x (f x x)\n",
    "twice f x = f (f x)\n",
    "\n",
    "dup :: (a -> a -> b) -> a -> b\n",
    "dip :: (a -> a -> a) -> a -> a\n",
    "twice :: (a -> a) -> a -> a\n"
   ]
  },
  {
   "cell_type": "markdown",
   "id": "e6a5e409",
   "metadata": {},
   "source": [
    "2. Infer the type for each of the following expressions or specify a type error. Justify your answer by providing a step-by-step reasoning process. Assume that the type of integer literals is `Int`:"
   ]
  },
  {
   "cell_type": "markdown",
   "id": "5c4fcf9e",
   "metadata": {},
   "source": [
    "(a) `dup Point2D`"
   ]
  },
  {
   "cell_type": "markdown",
   "id": "2315c764",
   "metadata": {},
   "source": [
    "`dup` expects a function `f` of type `(a -> a -> b)` (a function that takes two arguments of type `a` and returns a value of type `b`) and then applies `f` to two values of type `a`\n",
    "\n",
    "The constructor `Point2D` has the following type:\n",
    "\n",
    "```haskell\n",
    "Point2D :: Int -> Int -> Point2D\n",
    "```\n",
    "\n",
    "This means `Point2D` is a function that takes two `Int` values and returns a value of type `Point2D`.\n",
    "\n",
    "Since `Point2D` is a function of type `Int -> Int -> Point2D`, this fits perfectly: `dup` will apply `Point2D` to two values of type `Int`.\n",
    "\n",
    "Since `dup Point2D` will create a function that takes an `Int` and applies `Point2D` to two `Int`s, the final type of the expression is:\n",
    "\n",
    "```haskell\n",
    "dup Point2D :: Int -> Point2D\n",
    "```"
   ]
  },
  {
   "cell_type": "markdown",
   "id": "b4199e52",
   "metadata": {},
   "source": [
    "(b) `dup (dup (+)) 3`"
   ]
  },
  {
   "cell_type": "markdown",
   "id": "2104f0f0",
   "metadata": {},
   "source": [
    "The `(+)` function has the following type:\n",
    "\n",
    "```haskell\n",
    "(+) :: Num a => a -> a -> a\n",
    "```\n",
    "\n",
    "This means that `(+)` takes two numbers of type `a` (where `a` must be an instance of the `Num` typeclass) and returns a value of type `a`.\n",
    "\n",
    "Now, apply `dup` to `(+)`:\n",
    "\n",
    "```haskell\n",
    "dup (+)\n",
    "```\n",
    "\n",
    "- The function `dup` expects a function of type `(a -> a -> b)`. \n",
    "- The function `(+)` fits this type with `a = Num a`, and `b = a` (since `(+)` returns a number of the same type it takes as input).\n",
    "\n",
    "Therefore, `dup (+)` will return a function that takes one argument of type `a` and applies `(+)` to that argument twice.\n",
    "\n",
    "Thus, the type of `dup (+)` is:\n",
    "\n",
    "```haskell\n",
    "dup (+) :: Num a => a -> a\n",
    "```\n",
    "\n",
    "Next, let's apply `dup` again to `dup (+)`:\n",
    "\n",
    "```haskell\n",
    "dup (dup (+))\n",
    "```\n",
    "\n",
    "- The type of `dup` is `(a -> a -> b) -> a -> b`. Here, `dup (+)` has the type `Num a => a -> a`.\n",
    "\n",
    "- This is not compatible with what `dup` expects, because `dup` needs a function that takes **two arguments**, but `dup (+)` is a function that takes only **one argument**.\n",
    "\n",
    "Therefore, the expression `dup (dup (+)) 3` results in a *type error* because `dup (+)` is a unary function, and `dup` expects a binary function as its first argument."
   ]
  },
  {
   "cell_type": "markdown",
   "id": "ec0fdbf0",
   "metadata": {},
   "source": [
    "(c) `twice dip`"
   ]
  },
  {
   "cell_type": "markdown",
   "id": "83ba322d",
   "metadata": {},
   "source": [
    "To apply `twice dip`, `twice` expects `dip` to have the type `(a -> a)`, meaning it must be a function that takes **one argument** and returns **one argument**. However, the type of `dip` is:\n",
    "\n",
    "```haskell\n",
    "dip :: (a -> a -> a) -> a -> a\n",
    "```\n",
    "\n",
    "Therefore, the expression `twice dip` results in a *type error* due to the type mismatch between `twice`'s expected argument and `dip`'s actual type."
   ]
  },
  {
   "cell_type": "markdown",
   "id": "d6eb9696",
   "metadata": {},
   "source": [
    "(d) `dip dip`"
   ]
  },
  {
   "cell_type": "markdown",
   "id": "bca95b84",
   "metadata": {},
   "source": [
    "Clearly, `dip` itself is **not** a binary function. It takes a binary function as its argument but is **not** a binary function by itself. Therefore, trying to pass `dip` as the first argument to `dip` results in a *type mismatch*.\n"
   ]
  },
  {
   "cell_type": "markdown",
   "id": "9c974c4a",
   "metadata": {},
   "source": [
    "(e) `twice twice twice`"
   ]
  },
  {
   "cell_type": "markdown",
   "id": "09807eab",
   "metadata": {},
   "source": [
    "`twice` takes a function of type `(a -> a)` and returns a new function of the same type: `(a -> a)`.\n",
    "\n",
    "Let's apply `twice` to `twice`:\n",
    "\n",
    "- The outer `twice` has type `twice :: (a -> a) -> a -> a`.\n",
    "- We apply it to `twice`, which has the type `(a -> a)`. So the result of `twice twice` will be a function.\n",
    "\n",
    "To evaluate this, let's instantiate `a` in the type of `twice`:\n",
    "\n",
    "```haskell\n",
    "twice :: ((a -> a) -> (a -> a)) -> (a -> a)\n",
    "```\n",
    "\n",
    "After applying `twice` to `twice`, we get:\n",
    "\n",
    "```haskell\n",
    "twice twice :: (a -> a) -> (a -> a)\n",
    "```\n",
    "\n",
    "So the result of `twice twice` is a function that takes a function `(a -> a)` and returns another function `(a -> a)`.\n",
    "\n",
    "Next, we apply the result of `twice twice` to another `twice`:\n",
    "\n",
    "```haskell\n",
    "(twice twice) twice\n",
    "```\n",
    "\n",
    "Applying `(twice twice)` to `twice` gives us a function of type `(a -> a)`.\n",
    "\n",
    "```haskell\n",
    "twice twice twice :: a -> a\n",
    "```\n",
    "\n",
    "This final expression is a function that takes a value of type `a` and returns a value of type `a`."
   ]
  },
  {
   "cell_type": "markdown",
   "id": "addbe10e",
   "metadata": {},
   "source": [
    "3. Using **explicit recursion**, implement function `studentsWithB :: [Student] -> [Name]` that returns a list of names of students with `B` grade:\n",
    "\n",
    "```haskell\n",
    "studensWithB [Student \"Jack\" C, Student \"Jane\" B]\n",
    "-- [\"Jane\"]\n",
    "```\n",
    "\n",
    "Requirement: you **cannot** use (==) to compare grades for equality."
   ]
  },
  {
   "cell_type": "code",
   "execution_count": 16,
   "id": "89a2bb3f",
   "metadata": {},
   "outputs": [
    {
     "data": {
      "text/plain": [
       "[\"Jane\"]"
      ]
     },
     "metadata": {},
     "output_type": "display_data"
    }
   ],
   "source": [
    "studentsWithB :: [Student] -> [Name]\n",
    "studentsWithB [] = []  -- Base case: empty list returns empty result\n",
    "studentsWithB (Student name B : xs) = name : studentsWithB xs  -- If grade is B, add name\n",
    "studentsWithB (Student _ _ : xs) = studentsWithB xs  -- If grade is not B, skip and recurse\n",
    "\n",
    "studentsWithB [Student \"Jack\" C, Student \"Jane\" B]"
   ]
  },
  {
   "cell_type": "markdown",
   "id": "0003549d",
   "metadata": {},
   "source": [
    "4. (a) Implement a polymorphic higher-order functions\n",
    "\n",
    "```haskell\n",
    "lookupName :: (Name -> Bool) -> [(Name, a)] -> Status a\n",
    "```\n",
    "\n",
    "That looks up a value of type `a` paired with a name that satisfies the given predicate. If\n",
    "more than one name satisfies the predicate, then the first entry is used, while names from\n",
    "all others are added to the warning list:\n",
    "\n",
    "```haskell\n",
    "ages :: [(Name, Int)]\n",
    "ages = [(\"John\", 21), (\"Jack\", 23), (\"Jane\", 22), (\"Jenny\", 21)]\n",
    ">>> lookupName (== \"Jack\") ages\n",
    "Warn [] 23\n",
    ">>> lookupName (\\name -> length name == 4) ages\n",
    "Warn [\"ignoring entry: Jack\",\"ignoring entry: Jane\"] 21\n",
    ">>> lookupName (\\name -> length name == 5) ages\n",
    "Warn [] 21\n",
    ">>> lookupName (\\name -> length name > 5) ages\n",
    "Stop\n",
    "```"
   ]
  },
  {
   "cell_type": "code",
   "execution_count": null,
   "id": "b0395bda",
   "metadata": {},
   "outputs": [
    {
     "data": {
      "text/plain": [
       "Warn [] 23"
      ]
     },
     "metadata": {},
     "output_type": "display_data"
    },
    {
     "data": {
      "text/plain": [
       "Warn [\"ignoring entry: Jack\",\"ignoring entry: Jane\"] 21"
      ]
     },
     "metadata": {},
     "output_type": "display_data"
    },
    {
     "data": {
      "text/plain": [
       "Warn [] 21"
      ]
     },
     "metadata": {},
     "output_type": "display_data"
    },
    {
     "data": {
      "text/plain": [
       "Stop"
      ]
     },
     "metadata": {},
     "output_type": "display_data"
    }
   ],
   "source": [
    "type Name = String\n",
    "\n",
    "data Status a\n",
    "  = Stop\n",
    "  | Warn [String] a\n",
    "  deriving (Show)\n",
    "\n",
    "lookupName :: (Name -> Bool) -> [(Name, a)] -> Status a\n",
    "lookupName _ [] = Stop\n",
    "lookupName p ((name, value):xs)\n",
    "  | p name = handleWarnings p name value xs\n",
    "  | otherwise = lookupName p xs\n",
    "\n",
    "handleWarnings :: (Name -> Bool) -> Name -> a -> [(Name, a)] -> Status a\n",
    "handleWarnings _ _ value [] = Warn [] value\n",
    "handleWarnings p firstName firstValue ((name, value):xs)\n",
    "  | p name = addWarning name (handleWarnings p firstName firstValue xs)\n",
    "  | otherwise = handleWarnings p firstName firstValue xs\n",
    "\n",
    "addWarning :: Name -> Status a -> Status a\n",
    "addWarning name (Warn warnings value) = Warn ((\"ignoring entry: \" ++ name) : warnings) value\n",
    "addWarning _ status = status\n",
    "\n",
    "\n",
    "ages :: [(Name, Int)]\n",
    "ages = [(\"John\", 21), (\"Jack\", 23), (\"Jane\", 22), (\"Jenny\", 21)]\n",
    "\n",
    "print (lookupName (== \"Jack\") ages)\n",
    "print (lookupName (\\name -> length name == 4) ages)\n",
    "print (lookupName (\\name -> length name == 5) ages)\n",
    "print (lookupName (\\name -> length name > 5) ages)"
   ]
  },
  {
   "cell_type": "markdown",
   "id": "d95ca150",
   "metadata": {},
   "source": [
    "(b) Implement a polymorphic higher-order function\n",
    "    \n",
    "```haskell\n",
    "    produceAll :: (a -> Status a) -> a -> [a]\n",
    "```\n",
    "    \n",
    "that applies a function repeatedly, as long as the result is a `Warn`, collecting all produced values of type `a` and returning them in a list.\n",
    "\n",
    "```haskell\n",
    "fizzbuzz :: Integer -> Status Integer\n",
    "fizzbuzz n\n",
    "  | fizz && buzz = Warn [\"fizzbuzz\"] m\n",
    "  | fizz = Warn [\"fizz\"] m\n",
    "  | buzz = Warn [\"buzz\"] m\n",
    "  | otherwise = fizzbuzz m\n",
    "  where\n",
    "    m = n + 1\n",
    "    fizz = m `mod` 3 == 0\n",
    "    buzz = m `mod` 5 == 0\n",
    "\n",
    ">>> take 10 (produceAll fizzbuzz 0)\n",
    "[0,3,5,6,9,10,12,15,18,20]\n",
    ">>> produceAll (\\n -> if n < 15 then fizzbuzz n else Stop) 0\n",
    "[0,3,5,6,9,10,12,15]\n",
    "````"
   ]
  },
  {
   "cell_type": "code",
   "execution_count": null,
   "id": "0bafe59a",
   "metadata": {},
   "outputs": [
    {
     "data": {
      "text/plain": [
       "[0,3,5,6,9,10,12,15,18,20]"
      ]
     },
     "metadata": {},
     "output_type": "display_data"
    },
    {
     "data": {
      "text/plain": [
       "[0,3,5,6,9,10,12,15]"
      ]
     },
     "metadata": {},
     "output_type": "display_data"
    }
   ],
   "source": [
    "data Status a\n",
    "  = Stop\n",
    "  | Warn [String] a\n",
    "  deriving (Show)\n",
    "\n",
    "produceAll :: (a -> Status a) -> a -> [a]\n",
    "produceAll f x = case f x of\n",
    "  Stop         -> [x]\n",
    "  Warn _ nextX -> x : produceAll f nextX\n",
    "\n",
    "fizzbuzz :: Integer -> Status Integer\n",
    "fizzbuzz n\n",
    "  | fizz && buzz = Warn [\"fizzbuzz\"] m\n",
    "  | fizz = Warn [\"fizz\"] m\n",
    "  | buzz = Warn [\"buzz\"] m\n",
    "  | otherwise = fizzbuzz m\n",
    "  where\n",
    "    m = n + 1\n",
    "    fizz = m `mod` 3 == 0\n",
    "    buzz = m `mod` 5 == 0\n",
    "\n",
    "take 10 (produceAll fizzbuzz 0)\n",
    "\n",
    "produceAll (\\n -> if n < 15 then fizzbuzz n else Stop) 0"
   ]
  },
  {
   "cell_type": "markdown",
   "id": "c41904c0",
   "metadata": {},
   "source": [
    "(c) Implement a polymorphic higher-order function\n",
    "\n",
    "```haskell\n",
    "produceAllWithWarnings :: (a -> Status a) -> a -> ([String], [a])\n",
    "```\n",
    "that applies a function repeatedly, as long as the result is a `Warn`, collecting all produced\n",
    "values of type `a` and all warnings and returning a pair of two collected lists.\n",
    "\n",
    "```haskell\n",
    ">>> produceAllWithWarnings (\\n -> if n < 15 then fizzbuzz n else Stop) 0\n",
    "([\"fizz\",\"buzz\",\"fizz\",\"fizz\",\"buzz\",\"fizz\",\"fizzbuzz\"],[3,5,6,9,10,12,15])\n",
    "```\n",
    "\n",
    "Can you also make your implementation sufficiently lazy?\n",
    "\n",
    "```haskell\n",
    ">>> take 7 (fst (produceAllWithWarnings fizzbuzz 0))\n",
    "[\"fizz\",\"buzz\",\"fizz\",\"fizz\",\"buzz\",\"fizz\",\"fizzbuzz\"]\n",
    "```"
   ]
  },
  {
   "cell_type": "code",
   "execution_count": null,
   "id": "df9581da",
   "metadata": {},
   "outputs": [
    {
     "data": {
      "text/plain": [
       "([\"fizz\",\"buzz\",\"fizz\",\"fizz\",\"buzz\",\"fizz\",\"fizzbuzz\"],[0,3,5,6,9,10,12,15])"
      ]
     },
     "metadata": {},
     "output_type": "display_data"
    },
    {
     "data": {
      "text/plain": [
       "[\"fizz\",\"buzz\",\"fizz\",\"fizz\",\"buzz\",\"fizz\",\"fizzbuzz\"]"
      ]
     },
     "metadata": {},
     "output_type": "display_data"
    }
   ],
   "source": [
    "data Status a\n",
    "  = Stop\n",
    "  | Warn [String] a\n",
    "  deriving (Show)\n",
    "\n",
    "produceAllWithWarnings :: (a -> Status a) -> a -> ([String], [a])\n",
    "produceAllWithWarnings f x = case f x of\n",
    "  Stop         -> ([], [x])\n",
    "  Warn ws nextX -> let (allWarnings, allValues) = produceAllWithWarnings f nextX\n",
    "                   in (ws ++ allWarnings, x : allValues) \n",
    "\n",
    "fizzbuzz :: Integer -> Status Integer\n",
    "fizzbuzz n\n",
    "  | fizz && buzz = Warn [\"fizzbuzz\"] m\n",
    "  | fizz = Warn [\"fizz\"] m\n",
    "  | buzz = Warn [\"buzz\"] m\n",
    "  | otherwise = fizzbuzz m\n",
    "  where\n",
    "    m = n + 1\n",
    "    fizz = m `mod` 3 == 0\n",
    "    buzz = m `mod` 5 == 0\n",
    "\n",
    "produceAllWithWarnings (\\n -> if n < 15 then fizzbuzz n else Stop) 0\n",
    "\n",
    "take 7 (fst (produceAllWithWarnings fizzbuzz 0))"
   ]
  },
  {
   "cell_type": "markdown",
   "id": "9cf298cc",
   "metadata": {},
   "source": [
    "(d) Implement a polymorphic higher-order function\n",
    "\n",
    "```haskell\n",
    "applyStatus :: Status (a -> b) -> Status a -> Status b\n",
    "```\n",
    "\n",
    "that applies a given function to a given argument when both are available, and also combines\n",
    "warning lists.\n",
    "\n",
    "```haskell\n",
    "operators :: [(Name, Int -> Int)]\n",
    "operators = [(\"inc\", (+1)), (\"double\", (*2))]\n",
    "\n",
    "constants :: [(Name, Int)]\n",
    "constants = [(\"x\", 3), (\"y\", 4), (\"z\", 7)]\n",
    "\n",
    ">>> applyStatus (lookupName (== \"double\") operators) (lookupName (== \"x\") constants)\n",
    "Warn [] 6\n",
    ">>> applyStatus (lookupName (const True) operators) (lookupName (== \"x\") constants)\n",
    "Warn [\"ignoring entry: double\"] 4\n",
    ">>> applyStatus (lookupName (const True) operators) (lookupName (const True) constants)\n",
    "Warn [\"ignoring entry: double\",\"ignoring entry: y\",\"ignoring entry: z\"] 4\n",
    ">>> applyStatus (lookupName (== \"triple\") operators) (lookupName (== \"x\") constants)\n",
    "Stop\n",
    "```"
   ]
  },
  {
   "cell_type": "code",
   "execution_count": null,
   "id": "6fbbd531",
   "metadata": {},
   "outputs": [
    {
     "data": {
      "text/plain": [
       "Warn [] 6"
      ]
     },
     "metadata": {},
     "output_type": "display_data"
    },
    {
     "data": {
      "text/plain": [
       "Warn [\"ignoring entry: double\"] 4"
      ]
     },
     "metadata": {},
     "output_type": "display_data"
    },
    {
     "data": {
      "text/plain": [
       "Warn [\"ignoring entry: double\",\"ignoring entry: y\",\"ignoring entry: z\"] 4"
      ]
     },
     "metadata": {},
     "output_type": "display_data"
    },
    {
     "data": {
      "text/plain": [
       "Stop"
      ]
     },
     "metadata": {},
     "output_type": "display_data"
    }
   ],
   "source": [
    "data Status a\n",
    "  = Stop\n",
    "  | Warn [String] a\n",
    "  deriving (Show)\n",
    "\n",
    "applyStatus :: Status (a -> b) -> Status a -> Status b\n",
    "applyStatus Stop _ = Stop\n",
    "applyStatus _ Stop = Stop\n",
    "applyStatus (Warn wFunc f) (Warn wVal x) = Warn (wFunc ++ wVal) (f x)\n",
    "\n",
    "operators :: [(Name, Int -> Int)]\n",
    "operators = [(\"inc\", (+1)), (\"double\", (*2))]\n",
    "\n",
    "constants :: [(Name, Int)]\n",
    "constants = [(\"x\", 3), (\"y\", 4), (\"z\", 7)]\n",
    "\n",
    "lookupName :: (Name -> Bool) -> [(Name, a)] -> Status a\n",
    "lookupName _ [] = Stop\n",
    "lookupName p ((name, value):xs)\n",
    "  | p name = handleWarnings p name value xs\n",
    "  | otherwise = lookupName p xs\n",
    "\n",
    "handleWarnings :: (Name -> Bool) -> Name -> a -> [(Name, a)] -> Status a\n",
    "handleWarnings _ _ value [] = Warn [] value\n",
    "handleWarnings p firstName firstValue ((name, value):xs)\n",
    "  | p name = addWarning name (handleWarnings p firstName firstValue xs)\n",
    "  | otherwise = handleWarnings p firstName firstValue xs\n",
    "\n",
    "addWarning :: Name -> Status a -> Status a\n",
    "addWarning name (Warn warnings value) = Warn ((\"ignoring entry: \" ++ name) : warnings) value\n",
    "addWarning _ status = status\n",
    "\n",
    "applyStatus (lookupName (== \"double\") operators) (lookupName (== \"x\") constants)\n",
    "applyStatus (lookupName (const True) operators) (lookupName (== \"x\") constants)\n",
    "applyStatus (lookupName (const True) operators) (lookupName (const True) constants)\n",
    "applyStatus (lookupName (== \"triple\") operators) (lookupName (== \"x\") constants)\n"
   ]
  }
 ],
 "metadata": {
  "kernelspec": {
   "display_name": "Haskell",
   "language": "haskell",
   "name": "haskell"
  },
  "language_info": {
   "codemirror_mode": "ihaskell",
   "file_extension": ".hs",
   "mimetype": "text/x-haskell",
   "name": "haskell",
   "pygments_lexer": "Haskell",
   "version": "9.6.4"
  }
 },
 "nbformat": 4,
 "nbformat_minor": 5
}
