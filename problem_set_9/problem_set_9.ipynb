{
 "cells": [
  {
   "cell_type": "markdown",
   "id": "8ebd25a6",
   "metadata": {},
   "source": [
    "# Week 9. Problem set\n",
    "\n",
    "Evgeny Bobkunov\n",
    "\n",
    "e.bobkunov@innopolis.university\n",
    "\n",
    "SD-03"
   ]
  },
  {
   "cell_type": "markdown",
   "id": "03080354",
   "metadata": {},
   "source": [
    "1. Implement the following functions over lists. You can use explicit recursion or higher-order functions that we covered so far. Make sure that your functions are **lazy** and work properly on all provided examples:"
   ]
  },
  {
   "cell_type": "markdown",
   "id": "6a8dd402",
   "metadata": {},
   "source": [
    "(a) A function that checks whether a function has at least `n` elements:\n",
    "\n",
    "```haskell\n",
    "hasAtLeast :: Int -> [a] -> Bool\n",
    "\n",
    ">>> map length (words \"I'm lazy and I know it\")\n",
    "[3,4,3,1,4,2]\n",
    ">>> filter (hasAtLeast 4) (words \"I'm lazy and I know it\")\n",
    "[\"lazy\", \"know\"]\n",
    ">>> hasAtLeast 10 [1..5]\n",
    "False\n",
    ">>> hasAtLeast 10 [1..]\n",
    "True\n",
    "```"
   ]
  },
  {
   "cell_type": "code",
   "execution_count": 5,
   "id": "c141245e",
   "metadata": {},
   "outputs": [
    {
     "data": {
      "text/plain": [
       "[3,4,3,1,4,2]"
      ]
     },
     "metadata": {},
     "output_type": "display_data"
    },
    {
     "data": {
      "text/plain": [
       "[\"lazy\",\"know\"]"
      ]
     },
     "metadata": {},
     "output_type": "display_data"
    },
    {
     "data": {
      "text/plain": [
       "False"
      ]
     },
     "metadata": {},
     "output_type": "display_data"
    },
    {
     "data": {
      "text/plain": [
       "True"
      ]
     },
     "metadata": {},
     "output_type": "display_data"
    }
   ],
   "source": [
    "hasAtLeast :: Int -> [a] -> Bool\n",
    "hasAtLeast n xs = length (take n xs) == n\n",
    "\n",
    "map length (words \"I'm lazy and I know it\")\n",
    "\n",
    "filter (hasAtLeast 4) (words \"I'm lazy and I know it\")\n",
    "\n",
    "hasAtLeast 10 [1..5]\n",
    "\n",
    "hasAtLeast 10 [1..]"
   ]
  },
  {
   "cell_type": "markdown",
   "id": "fd159707",
   "metadata": {},
   "source": [
    "(b) A function that inserts a number into a sorted (descending) list of numbers:\n",
    "\n",
    "```haskell\n",
    "insert :: Int -> [Int] -> [Int]\n",
    "\n",
    ">>> insert 7 [9,8,5,3]\n",
    "[9,8,7,5,3]\n",
    ">>> insert 7 [9,8,8]\n",
    "[9,8,8,7]\n",
    ">>> take 5 (insert 7 [9,8..])\n",
    "[9,8,7,7,6]\n",
    "```"
   ]
  },
  {
   "cell_type": "code",
   "execution_count": 6,
   "id": "f826a688",
   "metadata": {},
   "outputs": [
    {
     "data": {
      "text/plain": [
       "[9,8,7,5,3]"
      ]
     },
     "metadata": {},
     "output_type": "display_data"
    },
    {
     "data": {
      "text/plain": [
       "[9,8,8,7]"
      ]
     },
     "metadata": {},
     "output_type": "display_data"
    },
    {
     "data": {
      "text/plain": [
       "[9,8,7,7,6]"
      ]
     },
     "metadata": {},
     "output_type": "display_data"
    }
   ],
   "source": [
    "insert :: Int -> [Int] -> [Int]\n",
    "insert n [] = [n]\n",
    "insert n (x:xs)\n",
    "    | n >= x    = n : x : xs\n",
    "    | otherwise = x : insert n xs\n",
    "\n",
    "insert 7 [9,8,5,3]\n",
    "\n",
    "insert 7 [9,8,8]\n",
    "\n",
    "take 5 (insert 7 [9,8..])"
   ]
  },
  {
   "cell_type": "markdown",
   "id": "4717f7eb",
   "metadata": {},
   "source": [
    "(c) A function that puts a separator between every two consecutive elements:\n",
    "\n",
    "```haskell\n",
    "separateBy :: a -> [a] -> [a]\n",
    "\n",
    ">>> separateBy ',' \"hello\"\n",
    "\"h,e,l,l,o\"\n",
    ">>> take 7 (separateBy 0 [1..])\n",
    "[1,0,2,0,3,0,4]\n",
    "```"
   ]
  },
  {
   "cell_type": "code",
   "execution_count": 7,
   "id": "798025ae",
   "metadata": {},
   "outputs": [
    {
     "data": {
      "text/plain": [
       "\"h,e,l,l,o\""
      ]
     },
     "metadata": {},
     "output_type": "display_data"
    },
    {
     "data": {
      "text/plain": [
       "[1,0,2,0,3,0,4]"
      ]
     },
     "metadata": {},
     "output_type": "display_data"
    }
   ],
   "source": [
    "separateBy :: a -> [a] -> [a]\n",
    "separateBy _ []     = []\n",
    "separateBy _ [x]    = [x]\n",
    "separateBy sep (x:xs) = x : sep : separateBy sep xs\n",
    "\n",
    "separateBy ',' \"hello\"\n",
    "\n",
    "take 7 (separateBy 0 [1..])"
   ]
  },
  {
   "cell_type": "markdown",
   "id": "3c865113",
   "metadata": {},
   "source": [
    "(d) Split a list into a maximal prefix where all elements form a strictly increasing (ascending)\n",
    "sequence and the rest:\n",
    "\n",
    "```haskell\n",
    "maxAscPrefix :: Ord a => [a] -> ([a], [a])\n",
    "\n",
    ">>> maxAscPrefix [1, 3, 5, 2, 4, 6]\n",
    "([1,3,5],[2,4,6])\n",
    ">>> take 10 (fst (maxAscPrefix [1..]))\n",
    "[1,2,3,4,5,6,7,8,9,10]\n",
    ">>> fst (maxAscPrefix ([1..5] ++ [1..]))\n",
    "[1,2,3,4,5]\n",
    ">>> maxAscPrefix \"Hello, world!\"\n",
    "(\"Hel\",\"lo, world!\")\n",
    "```"
   ]
  },
  {
   "cell_type": "code",
   "execution_count": 8,
   "id": "44147ec3",
   "metadata": {},
   "outputs": [
    {
     "data": {
      "text/plain": [
       "([1,3,5],[2,4,6])"
      ]
     },
     "metadata": {},
     "output_type": "display_data"
    },
    {
     "data": {
      "text/plain": [
       "[1,2,3,4,5,6,7,8,9,10]"
      ]
     },
     "metadata": {},
     "output_type": "display_data"
    },
    {
     "data": {
      "text/plain": [
       "[1,2,3,4,5]"
      ]
     },
     "metadata": {},
     "output_type": "display_data"
    },
    {
     "data": {
      "text/plain": [
       "(\"Hel\",\"lo, world!\")"
      ]
     },
     "metadata": {},
     "output_type": "display_data"
    }
   ],
   "source": [
    "maxAscPrefix :: Ord a => [a] -> ([a], [a])\n",
    "maxAscPrefix [] = ([], [])\n",
    "maxAscPrefix [x] = ([x], [])\n",
    "maxAscPrefix (x:y:xs)\n",
    "  | x < y     = let (prefix, rest) = maxAscPrefix (y:xs) in (x:prefix, rest)\n",
    "  | otherwise = ([x], y:xs)\n",
    "\n",
    "maxAscPrefix [1, 3, 5, 2, 4, 6]\n",
    "\n",
    "take 10 (fst (maxAscPrefix [1..]))\n",
    "\n",
    "fst (maxAscPrefix ([1..5] ++ [1..]))\n",
    "\n",
    "maxAscPrefix \"Hello, world!\""
   ]
  },
  {
   "cell_type": "markdown",
   "id": "b23abcb5",
   "metadata": {},
   "source": [
    "(e) Group consecutive elements in ascending subsequences:\n",
    "\n",
    "```haskell\n",
    "groupAsc :: Ord a => [a] -> [[a]]\n",
    "\n",
    ">>> groupAsc [1,2,1,2,3,2,3,2,3,4]\n",
    "[[1,2],[1,2,3],[2,3],[2,3,4]]\n",
    ">>> groupAsc (concat [ [1..n] | n <- [1..5] ])\n",
    "[[1],[1,2],[1,2,3],[1,2,3,4],[1,2,3,4,5]]\n",
    ">>> groupAsc \"Helloworld\"\n",
    "[\"Hel\",\"low\",\"or\",\"l\",\"d\"]\n",
    "```"
   ]
  },
  {
   "cell_type": "code",
   "execution_count": 9,
   "id": "66a531a0",
   "metadata": {},
   "outputs": [
    {
     "data": {
      "text/plain": [
       "[[1,2],[1,2,3],[2,3],[2,3,4]]"
      ]
     },
     "metadata": {},
     "output_type": "display_data"
    },
    {
     "data": {
      "text/plain": [
       "[[1],[1,2],[1,2,3],[1,2,3,4],[1,2,3,4,5]]"
      ]
     },
     "metadata": {},
     "output_type": "display_data"
    },
    {
     "data": {
      "text/plain": [
       "[\"Hel\",\"low\",\"or\",\"l\",\"d\"]"
      ]
     },
     "metadata": {},
     "output_type": "display_data"
    }
   ],
   "source": [
    "groupAsc :: Ord a => [a] -> [[a]]\n",
    "groupAsc [] = []\n",
    "groupAsc xs = prefix : groupAsc rest\n",
    "  where\n",
    "    (prefix, rest) = maxAscPrefix xs\n",
    "\n",
    "groupAsc [1,2,1,2,3,2,3,2,3,4]\n",
    "\n",
    "groupAsc (concat [ [1..n] | n <- [1..5] ])\n",
    "\n",
    "groupAsc \"Helloworld\""
   ]
  },
  {
   "cell_type": "markdown",
   "id": "4682d214",
   "metadata": {},
   "source": [
    "2. Define the following infinite lists:"
   ]
  },
  {
   "cell_type": "markdown",
   "id": "02db2a97",
   "metadata": {},
   "source": [
    "(a) A sequence of prime numbers:\n",
    "\n",
    "```haskell\n",
    "primes :: [Integer]\n",
    "\n",
    ">>> take 10 primes\n",
    "[2,3,5,7,11,13,17,19,23,29]\n",
    "```"
   ]
  },
  {
   "cell_type": "code",
   "execution_count": 2,
   "id": "094ed198",
   "metadata": {},
   "outputs": [
    {
     "data": {
      "text/plain": [
       "[2,3,5,7,11,13,17,19,23,29]"
      ]
     },
     "metadata": {},
     "output_type": "display_data"
    }
   ],
   "source": [
    "primes :: [Integer]\n",
    "primes = sieve [2..]\n",
    "  where\n",
    "    sieve (p:xs) = p : sieve [x | x <- xs, x `mod` p /= 0]\n",
    "\n",
    "take 10 primes"
   ]
  },
  {
   "cell_type": "markdown",
   "id": "93645f7d",
   "metadata": {},
   "source": [
    "(b) A sequence of pairs of elements from two other sequences. The **order** of elements in the\n",
    "output is **allowed to vary** depending on the implementation, but it **must** be sufficiently\n",
    "lazy:\n",
    "\n",
    "```haskell\n",
    "pairs :: [a] -> [b] -> [(a, b)]\n",
    "\n",
    ">>> pairs [1..3] [1..3]\n",
    "[(1,1),(1,2),(2,1),(2,2),(1,3),(2,3),(3,1),(3,2),(3,3)]\n",
    ">>> take 10 $ pairs [1..] [1..]\n",
    "[(1,1),(1,2),(2,1),(2,2),(1,3),(2,3),(3,1),(3,2),(3,3),(1,4)]\n",
    "```"
   ]
  },
  {
   "cell_type": "code",
   "execution_count": 11,
   "id": "ef8e4867",
   "metadata": {},
   "outputs": [
    {
     "data": {
      "text/plain": [
       "[(1,1),(1,2),(1,3),(2,1),(2,2),(2,3),(3,1),(3,2),(3,3)]"
      ]
     },
     "metadata": {},
     "output_type": "display_data"
    },
    {
     "data": {
      "text/plain": [
       "[(1,1),(1,2),(1,3),(1,4),(1,5),(1,6),(1,7),(1,8),(1,9),(1,10)]"
      ]
     },
     "metadata": {},
     "output_type": "display_data"
    }
   ],
   "source": [
    "pairs :: [a] -> [b] -> [(a, b)]\n",
    "pairs xs ys = concat [[(x, y) | y <- ys] | x <- xs]\n",
    "\n",
    "pairs [1..3] [1..3]\n",
    "\n",
    "take 10 $ pairs [1..] [1..]"
   ]
  },
  {
   "cell_type": "markdown",
   "id": "7c240462",
   "metadata": {},
   "source": [
    "(c) A sequence obtained from two other sequences by combining pairs using a given function.\n",
    "The **order** of elements in the output is **allowed to vary** depending on the implementation,\n",
    "but it **must** be sufficiently lazy:\n",
    "\n",
    "```haskell\n",
    "pairsWith :: (a -> b -> c) -> [a] -> [b] -> [c]\n",
    "\n",
    ">>> pairsWith (++) (map show [1..3]) (map show [1..3])\n",
    "[\"11\",\"12\",\"21\",\"22\",\"13\",\"23\",\"31\",\"32\",\"33\"]\n",
    ">>> length (pairsWith (\\rank file -> file : show rank) [1..8] \"abcdefgh\")\n",
    "64\n",
    ">>> pairsWith (\\rank file -> file : show rank) [1..3] \"abc\"\n",
    "[\"a1\",\"b1\",\"a2\",\"b2\",\"c1\",\"c2\",\"a3\",\"b3\",\"c3\"]\n",
    ">>> take 9 $ pairsWith (\\rank file -> file : show rank) [1..] ['a'..]\n",
    "[\"a1\",\"b1\",\"a2\",\"b2\",\"c1\",\"c2\",\"a3\",\"b3\",\"c3\"]\n",
    "```"
   ]
  },
  {
   "cell_type": "code",
   "execution_count": 12,
   "id": "c048d52e",
   "metadata": {},
   "outputs": [
    {
     "data": {
      "text/plain": [
       "[\"11\",\"12\",\"13\",\"21\",\"22\",\"23\",\"31\",\"32\",\"33\"]"
      ]
     },
     "metadata": {},
     "output_type": "display_data"
    },
    {
     "data": {
      "text/plain": [
       "64"
      ]
     },
     "metadata": {},
     "output_type": "display_data"
    },
    {
     "data": {
      "text/plain": [
       "[\"a1\",\"b1\",\"c1\",\"a2\",\"b2\",\"c2\",\"a3\",\"b3\",\"c3\"]"
      ]
     },
     "metadata": {},
     "output_type": "display_data"
    },
    {
     "data": {
      "text/plain": [
       "[\"a1\",\"b1\",\"c1\",\"d1\",\"e1\",\"f1\",\"g1\",\"h1\",\"i1\"]"
      ]
     },
     "metadata": {},
     "output_type": "display_data"
    }
   ],
   "source": [
    "pairsWith :: (a -> b -> c) -> [a] -> [b] -> [c]\n",
    "pairsWith f xs ys = concat [[f x y | y <- ys] | x <- xs]\n",
    "\n",
    "pairsWith (++) (map show [1..3]) (map show [1..3])\n",
    "\n",
    "length (pairsWith (\\rank file -> file : show rank) [1..8] \"abcdefgh\")\n",
    "\n",
    "pairsWith (\\rank file -> file : show rank) [1..3] \"abc\"\n",
    "\n",
    "take 9 $ pairsWith (\\rank file -> file : show rank) [1..] ['a'..]"
   ]
  },
  {
   "cell_type": "markdown",
   "id": "0239ca52",
   "metadata": {},
   "source": [
    "(d) A sequence of sphenic numbers. Instead of checking every natural number whether it is\n",
    "sphenic, make use of `primes` to *generate* products of distinct primes.\n",
    "\n",
    "```haskell\n",
    "sphenic :: [Integer]\n",
    "\n",
    ">>> take 10 sphenic\n",
    "[30,42,66,70,78,102,105,110,114,130]\n",
    "```"
   ]
  },
  {
   "cell_type": "code",
   "execution_count": 3,
   "id": "59272b2d",
   "metadata": {},
   "outputs": [
    {
     "data": {
      "text/plain": [
       "[30,42,66,78,102,114,138,174,186,222]"
      ]
     },
     "metadata": {},
     "output_type": "display_data"
    }
   ],
   "source": [
    "sphenic :: [Integer]\n",
    "sphenic = [p * q * r | p <- primes,\n",
    "                       q <- dropWhile (<= p) primes,\n",
    "                       r <- dropWhile (<= q) primes]\n",
    "                       \n",
    "take 10 sphenic"
   ]
  },
  {
   "cell_type": "code",
   "execution_count": null,
   "id": "c644a692",
   "metadata": {},
   "outputs": [],
   "source": []
  }
 ],
 "metadata": {
  "kernelspec": {
   "display_name": "Haskell",
   "language": "haskell",
   "name": "haskell"
  },
  "language_info": {
   "codemirror_mode": "ihaskell",
   "file_extension": ".hs",
   "mimetype": "text/x-haskell",
   "name": "haskell",
   "pygments_lexer": "Haskell",
   "version": "9.6.4"
  }
 },
 "nbformat": 4,
 "nbformat_minor": 5
}
